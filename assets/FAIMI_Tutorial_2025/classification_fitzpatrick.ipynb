{
  "cells": [
    {
      "cell_type": "markdown",
      "source": [
        "# **Use Case 1:** Racial Bias in Dermatological Image Classification: subgroup representation matters\n",
        "\n",
        "- Fairness & Medical Imaging Tutorial at MICCAI 2025 (South Korea)\n",
        "- **Lecturer:** Miguel López-Pérez (mlopez@decsai.ugr.es)\n",
        "\n",
        "\n",
        "In this notebook, we will explore an **end-to-end example of racial bias in dermatological image classification**. We will utilize the *Fitzpatrick17k* dataset, which contains over 17,000 dermatology images labeled with corresponding skin tones and skin condition. This publicly available dataset is a valuable resource for investigating potential racial bias in medical image classification tasks. The reference for this dataset is:\n",
        "\n",
        "- Groh, M., Harris, C., Soenksen, L., Lau, F., Han, R., Kim, A., ... & Badri, O. (2021). *Evaluating deep neural networks trained on clinical images in dermatology with the fitzpatrick 17k dataset.* In Proceedings of the IEEE/CVF conference on computer vision and pattern recognition (pp. 1820-1828).\n",
        "\n",
        "The images in the dataset are sourced from two different dermatological atlases. So, they have not been standardized for use in machine learning models. Instead, they reflect how dermatologists typically view skin conditions in real-world clinical settings, making the dataset particularly suitable for studying bias in a realistic context.\n",
        "\n",
        "We will begin with data exploration to understand the distribution of images across different skin tones and skin conditions. Following that, we will define and train a convolutional neural network (CNN) using PyTorch. Finally, we will evaluate the model and analyze how different training configurations affect its predictive performance across two racial groups. This will help us assess whether and how racial bias manifests in the model’s behavior.\n",
        "\n"
      ],
      "metadata": {
        "id": "DwA2Z30-hjiW"
      },
      "id": "DwA2Z30-hjiW"
    },
    {
      "cell_type": "markdown",
      "source": [
        "## Mount drive\n",
        "We will access the dataset online, as it is stored in a shared Google Drive directory. To begin, we need to mount Google Drive within our Google Colab environment. This step allows us to establish a connection between Colab and the Drive account that contains the data. Once the drive is successfully mounted, we can navigate to the specified directory path to locate the required files. These include a folder containing the dermatology images and a corresponding dataframe (usually in CSV format) that holds the labels or metadata associated with each image, such as the diagnosis, skin tone category, or other relevant attributes.\n",
        "\n",
        "**https://drive.google.com/drive/folders/1XeT0gGrPmg3KATfm3n7Qh5NDkUCsDwmv?usp=drive_link to request an invitation to the directory where the data is hosted**"
      ],
      "metadata": {
        "id": "MzRNL5OiiTXe"
      },
      "id": "MzRNL5OiiTXe"
    },
    {
      "cell_type": "code",
      "execution_count": null,
      "id": "6af633fb-2433-4229-b874-65a5ce7efc4a",
      "metadata": {
        "colab": {
          "base_uri": "https://localhost:8080/"
        },
        "id": "6af633fb-2433-4229-b874-65a5ce7efc4a",
        "outputId": "46bb07da-89d6-46ce-f8a4-a29738b54cef"
      },
      "outputs": [
        {
          "output_type": "stream",
          "name": "stdout",
          "text": [
            "Mounted at /content/drive\n"
          ]
        }
      ],
      "source": [
        "from google.colab import drive\n",
        "drive.mount('/content/drive')"
      ]
    },
    {
      "cell_type": "markdown",
      "id": "53ad22a2-92fe-4136-88bf-2490613c4a9a",
      "metadata": {
        "id": "53ad22a2-92fe-4136-88bf-2490613c4a9a"
      },
      "source": [
        "# Import libraries"
      ]
    },
    {
      "cell_type": "markdown",
      "source": [
        "We are going to implement our neural networks based on PyTorch: https://pytorch.org/"
      ],
      "metadata": {
        "id": "x9FFZ9ZZh3ue"
      },
      "id": "x9FFZ9ZZh3ue"
    },
    {
      "cell_type": "code",
      "source": [
        "import os\n",
        "import collections\n",
        "\n",
        "import torch\n",
        "import timm\n",
        "import torch.nn as nn\n",
        "import torch.optim as optim\n",
        "from torch.utils.data import Dataset, DataLoader\n",
        "\n",
        "import torchvision.datasets as Datasets\n",
        "import torchvision.transforms as transforms\n",
        "import torchvision.transforms.functional as F\n",
        "\n",
        "from sklearn.metrics import f1_score, classification_report\n",
        "from sklearn.model_selection import train_test_split\n",
        "\n",
        "import matplotlib.pyplot as plt\n",
        "import pandas as pd\n",
        "\n",
        "from PIL import Image\n",
        "from tqdm import tqdm\n"
      ],
      "metadata": {
        "id": "YFAo9oO7XsSS"
      },
      "id": "YFAo9oO7XsSS",
      "execution_count": null,
      "outputs": []
    },
    {
      "cell_type": "markdown",
      "id": "1d2e4169-f2f9-408e-b4ac-320508b4cef8",
      "metadata": {
        "id": "1d2e4169-f2f9-408e-b4ac-320508b4cef8"
      },
      "source": [
        "## Data Exploration"
      ]
    },
    {
      "cell_type": "markdown",
      "source": [
        "Since we have already mounted Google Drive and imported the necessary libraries, we can now proceed with the next step. We will begin by loading the CSV file that contains all the metadata associated with the dataset. To do this, we need to specify the correct file path where the CSV is located within the mounted Drive.\n",
        "\n",
        "We will use the Pandas library to load and work with the metadata, as it provides efficient tools for data manipulation and analysis. Additionally, we will use Matplotlib to visualize the data, such as the distribution of skin tones, conditions, and other relevant attributes."
      ],
      "metadata": {
        "id": "qUKIMjCJjzRP"
      },
      "id": "qUKIMjCJjzRP"
    },
    {
      "cell_type": "code",
      "execution_count": null,
      "id": "17be4eef-103c-4216-a349-3b99ebf5b12f",
      "metadata": {
        "id": "17be4eef-103c-4216-a349-3b99ebf5b12f"
      },
      "outputs": [],
      "source": [
        "fitz_data = pd.read_csv('drive/MyDrive/SKIN/dataset/fitzpatrick17k.csv')"
      ]
    },
    {
      "cell_type": "markdown",
      "source": [
        "We use the `.head()` method of the DataFrame to inspect the first 10 instances. This gives us a quick overview of the structure and contents of the dataset. From the preview, we can observe that each row contains several key attributes:\n",
        "\n",
        "- **`hash`**: A unique identifier for each image, which can be used to match metadata with the corresponding image file.  \n",
        "- **`fitzpatrick`**: Indicates the Fitzpatrick skin tone type, ranging from 1 to 6 (they are integers!), with `-1` representing missing or unclassified values.  \n",
        "- **`label`**: The specific skin condition identified in the image (e.g., acne, melanoma, eczema).  \n",
        "- **`nine_label_partition`** and **`three_label_partition`**: These represent grouped labels, or **superclasses**, where skin conditions are organized into broader diagnostic categories with 9 and 3 classes, respectively.  \n",
        "- **`url`**: A direct link to download the image associated with each metadata entry.\n",
        "\n",
        "To retrieve the actual images, we can use a script that automates the download process by iterating over the URLs in the dataset and saving them locally.\n"
      ],
      "metadata": {
        "id": "T0fMBUaPlhzI"
      },
      "id": "T0fMBUaPlhzI"
    },
    {
      "cell_type": "code",
      "execution_count": null,
      "id": "769726d2-33dd-4bf4-be82-e11ac925bb8e",
      "metadata": {
        "id": "769726d2-33dd-4bf4-be82-e11ac925bb8e",
        "outputId": "c94dfde8-8c37-4786-eea6-30b7143e8f5f",
        "colab": {
          "base_uri": "https://localhost:8080/",
          "height": 261
        }
      },
      "outputs": [
        {
          "output_type": "execute_result",
          "data": {
            "text/plain": [
              "                            md5hash  fitzpatrick_scale  fitzpatrick_centaur  \\\n",
              "0  5e82a45bc5d78bd24ae9202d194423f8                  3                    3   \n",
              "1  fa2911a9b13b6f8af79cb700937cc14f                  1                    1   \n",
              "2  d2bac3c9e4499032ca8e9b07c7d3bc40                  2                    3   \n",
              "3  0a94359e7eaacd7178e06b2823777789                  1                    1   \n",
              "4  a39ec3b1f22c08a421fa20535e037bba                  1                    1   \n",
              "\n",
              "                             label nine_partition_label three_partition_label  \\\n",
              "0  drug induced pigmentary changes         inflammatory        non-neoplastic   \n",
              "1                  photodermatoses         inflammatory        non-neoplastic   \n",
              "2                   dermatofibroma        benign dermal                benign   \n",
              "3                        psoriasis         inflammatory        non-neoplastic   \n",
              "4                        psoriasis         inflammatory        non-neoplastic   \n",
              "\n",
              "    qc                                                url  \\\n",
              "0  NaN  https://www.dermaamin.com/site/images/clinical...   \n",
              "1  NaN  https://www.dermaamin.com/site/images/clinical...   \n",
              "2  NaN  https://www.dermaamin.com/site/images/clinical...   \n",
              "3  NaN  https://www.dermaamin.com/site/images/clinical...   \n",
              "4  NaN  https://www.dermaamin.com/site/images/clinical...   \n",
              "\n",
              "                                        url_alphanum  \n",
              "0  httpwwwdermaamincomsiteimagesclinicalpicmminoc...  \n",
              "1  httpwwwdermaamincomsiteimagesclinicalpicpphoto...  \n",
              "2  httpwwwdermaamincomsiteimagesclinicalpicdderma...  \n",
              "3  httpwwwdermaamincomsiteimagesclinicalpicppsori...  \n",
              "4  httpwwwdermaamincomsiteimagesclinicalpicppsori...  "
            ],
            "text/html": [
              "\n",
              "  <div id=\"df-f39f0d41-2d4c-4b19-ad42-e12951308396\" class=\"colab-df-container\">\n",
              "    <div>\n",
              "<style scoped>\n",
              "    .dataframe tbody tr th:only-of-type {\n",
              "        vertical-align: middle;\n",
              "    }\n",
              "\n",
              "    .dataframe tbody tr th {\n",
              "        vertical-align: top;\n",
              "    }\n",
              "\n",
              "    .dataframe thead th {\n",
              "        text-align: right;\n",
              "    }\n",
              "</style>\n",
              "<table border=\"1\" class=\"dataframe\">\n",
              "  <thead>\n",
              "    <tr style=\"text-align: right;\">\n",
              "      <th></th>\n",
              "      <th>md5hash</th>\n",
              "      <th>fitzpatrick_scale</th>\n",
              "      <th>fitzpatrick_centaur</th>\n",
              "      <th>label</th>\n",
              "      <th>nine_partition_label</th>\n",
              "      <th>three_partition_label</th>\n",
              "      <th>qc</th>\n",
              "      <th>url</th>\n",
              "      <th>url_alphanum</th>\n",
              "    </tr>\n",
              "  </thead>\n",
              "  <tbody>\n",
              "    <tr>\n",
              "      <th>0</th>\n",
              "      <td>5e82a45bc5d78bd24ae9202d194423f8</td>\n",
              "      <td>3</td>\n",
              "      <td>3</td>\n",
              "      <td>drug induced pigmentary changes</td>\n",
              "      <td>inflammatory</td>\n",
              "      <td>non-neoplastic</td>\n",
              "      <td>NaN</td>\n",
              "      <td>https://www.dermaamin.com/site/images/clinical...</td>\n",
              "      <td>httpwwwdermaamincomsiteimagesclinicalpicmminoc...</td>\n",
              "    </tr>\n",
              "    <tr>\n",
              "      <th>1</th>\n",
              "      <td>fa2911a9b13b6f8af79cb700937cc14f</td>\n",
              "      <td>1</td>\n",
              "      <td>1</td>\n",
              "      <td>photodermatoses</td>\n",
              "      <td>inflammatory</td>\n",
              "      <td>non-neoplastic</td>\n",
              "      <td>NaN</td>\n",
              "      <td>https://www.dermaamin.com/site/images/clinical...</td>\n",
              "      <td>httpwwwdermaamincomsiteimagesclinicalpicpphoto...</td>\n",
              "    </tr>\n",
              "    <tr>\n",
              "      <th>2</th>\n",
              "      <td>d2bac3c9e4499032ca8e9b07c7d3bc40</td>\n",
              "      <td>2</td>\n",
              "      <td>3</td>\n",
              "      <td>dermatofibroma</td>\n",
              "      <td>benign dermal</td>\n",
              "      <td>benign</td>\n",
              "      <td>NaN</td>\n",
              "      <td>https://www.dermaamin.com/site/images/clinical...</td>\n",
              "      <td>httpwwwdermaamincomsiteimagesclinicalpicdderma...</td>\n",
              "    </tr>\n",
              "    <tr>\n",
              "      <th>3</th>\n",
              "      <td>0a94359e7eaacd7178e06b2823777789</td>\n",
              "      <td>1</td>\n",
              "      <td>1</td>\n",
              "      <td>psoriasis</td>\n",
              "      <td>inflammatory</td>\n",
              "      <td>non-neoplastic</td>\n",
              "      <td>NaN</td>\n",
              "      <td>https://www.dermaamin.com/site/images/clinical...</td>\n",
              "      <td>httpwwwdermaamincomsiteimagesclinicalpicppsori...</td>\n",
              "    </tr>\n",
              "    <tr>\n",
              "      <th>4</th>\n",
              "      <td>a39ec3b1f22c08a421fa20535e037bba</td>\n",
              "      <td>1</td>\n",
              "      <td>1</td>\n",
              "      <td>psoriasis</td>\n",
              "      <td>inflammatory</td>\n",
              "      <td>non-neoplastic</td>\n",
              "      <td>NaN</td>\n",
              "      <td>https://www.dermaamin.com/site/images/clinical...</td>\n",
              "      <td>httpwwwdermaamincomsiteimagesclinicalpicppsori...</td>\n",
              "    </tr>\n",
              "  </tbody>\n",
              "</table>\n",
              "</div>\n",
              "    <div class=\"colab-df-buttons\">\n",
              "\n",
              "  <div class=\"colab-df-container\">\n",
              "    <button class=\"colab-df-convert\" onclick=\"convertToInteractive('df-f39f0d41-2d4c-4b19-ad42-e12951308396')\"\n",
              "            title=\"Convert this dataframe to an interactive table.\"\n",
              "            style=\"display:none;\">\n",
              "\n",
              "  <svg xmlns=\"http://www.w3.org/2000/svg\" height=\"24px\" viewBox=\"0 -960 960 960\">\n",
              "    <path d=\"M120-120v-720h720v720H120Zm60-500h600v-160H180v160Zm220 220h160v-160H400v160Zm0 220h160v-160H400v160ZM180-400h160v-160H180v160Zm440 0h160v-160H620v160ZM180-180h160v-160H180v160Zm440 0h160v-160H620v160Z\"/>\n",
              "  </svg>\n",
              "    </button>\n",
              "\n",
              "  <style>\n",
              "    .colab-df-container {\n",
              "      display:flex;\n",
              "      gap: 12px;\n",
              "    }\n",
              "\n",
              "    .colab-df-convert {\n",
              "      background-color: #E8F0FE;\n",
              "      border: none;\n",
              "      border-radius: 50%;\n",
              "      cursor: pointer;\n",
              "      display: none;\n",
              "      fill: #1967D2;\n",
              "      height: 32px;\n",
              "      padding: 0 0 0 0;\n",
              "      width: 32px;\n",
              "    }\n",
              "\n",
              "    .colab-df-convert:hover {\n",
              "      background-color: #E2EBFA;\n",
              "      box-shadow: 0px 1px 2px rgba(60, 64, 67, 0.3), 0px 1px 3px 1px rgba(60, 64, 67, 0.15);\n",
              "      fill: #174EA6;\n",
              "    }\n",
              "\n",
              "    .colab-df-buttons div {\n",
              "      margin-bottom: 4px;\n",
              "    }\n",
              "\n",
              "    [theme=dark] .colab-df-convert {\n",
              "      background-color: #3B4455;\n",
              "      fill: #D2E3FC;\n",
              "    }\n",
              "\n",
              "    [theme=dark] .colab-df-convert:hover {\n",
              "      background-color: #434B5C;\n",
              "      box-shadow: 0px 1px 3px 1px rgba(0, 0, 0, 0.15);\n",
              "      filter: drop-shadow(0px 1px 2px rgba(0, 0, 0, 0.3));\n",
              "      fill: #FFFFFF;\n",
              "    }\n",
              "  </style>\n",
              "\n",
              "    <script>\n",
              "      const buttonEl =\n",
              "        document.querySelector('#df-f39f0d41-2d4c-4b19-ad42-e12951308396 button.colab-df-convert');\n",
              "      buttonEl.style.display =\n",
              "        google.colab.kernel.accessAllowed ? 'block' : 'none';\n",
              "\n",
              "      async function convertToInteractive(key) {\n",
              "        const element = document.querySelector('#df-f39f0d41-2d4c-4b19-ad42-e12951308396');\n",
              "        const dataTable =\n",
              "          await google.colab.kernel.invokeFunction('convertToInteractive',\n",
              "                                                    [key], {});\n",
              "        if (!dataTable) return;\n",
              "\n",
              "        const docLinkHtml = 'Like what you see? Visit the ' +\n",
              "          '<a target=\"_blank\" href=https://colab.research.google.com/notebooks/data_table.ipynb>data table notebook</a>'\n",
              "          + ' to learn more about interactive tables.';\n",
              "        element.innerHTML = '';\n",
              "        dataTable['output_type'] = 'display_data';\n",
              "        await google.colab.output.renderOutput(dataTable, element);\n",
              "        const docLink = document.createElement('div');\n",
              "        docLink.innerHTML = docLinkHtml;\n",
              "        element.appendChild(docLink);\n",
              "      }\n",
              "    </script>\n",
              "  </div>\n",
              "\n",
              "\n",
              "    <div id=\"df-dc7f916d-e491-406f-b761-1b29605cb252\">\n",
              "      <button class=\"colab-df-quickchart\" onclick=\"quickchart('df-dc7f916d-e491-406f-b761-1b29605cb252')\"\n",
              "                title=\"Suggest charts\"\n",
              "                style=\"display:none;\">\n",
              "\n",
              "<svg xmlns=\"http://www.w3.org/2000/svg\" height=\"24px\"viewBox=\"0 0 24 24\"\n",
              "     width=\"24px\">\n",
              "    <g>\n",
              "        <path d=\"M19 3H5c-1.1 0-2 .9-2 2v14c0 1.1.9 2 2 2h14c1.1 0 2-.9 2-2V5c0-1.1-.9-2-2-2zM9 17H7v-7h2v7zm4 0h-2V7h2v10zm4 0h-2v-4h2v4z\"/>\n",
              "    </g>\n",
              "</svg>\n",
              "      </button>\n",
              "\n",
              "<style>\n",
              "  .colab-df-quickchart {\n",
              "      --bg-color: #E8F0FE;\n",
              "      --fill-color: #1967D2;\n",
              "      --hover-bg-color: #E2EBFA;\n",
              "      --hover-fill-color: #174EA6;\n",
              "      --disabled-fill-color: #AAA;\n",
              "      --disabled-bg-color: #DDD;\n",
              "  }\n",
              "\n",
              "  [theme=dark] .colab-df-quickchart {\n",
              "      --bg-color: #3B4455;\n",
              "      --fill-color: #D2E3FC;\n",
              "      --hover-bg-color: #434B5C;\n",
              "      --hover-fill-color: #FFFFFF;\n",
              "      --disabled-bg-color: #3B4455;\n",
              "      --disabled-fill-color: #666;\n",
              "  }\n",
              "\n",
              "  .colab-df-quickchart {\n",
              "    background-color: var(--bg-color);\n",
              "    border: none;\n",
              "    border-radius: 50%;\n",
              "    cursor: pointer;\n",
              "    display: none;\n",
              "    fill: var(--fill-color);\n",
              "    height: 32px;\n",
              "    padding: 0;\n",
              "    width: 32px;\n",
              "  }\n",
              "\n",
              "  .colab-df-quickchart:hover {\n",
              "    background-color: var(--hover-bg-color);\n",
              "    box-shadow: 0 1px 2px rgba(60, 64, 67, 0.3), 0 1px 3px 1px rgba(60, 64, 67, 0.15);\n",
              "    fill: var(--button-hover-fill-color);\n",
              "  }\n",
              "\n",
              "  .colab-df-quickchart-complete:disabled,\n",
              "  .colab-df-quickchart-complete:disabled:hover {\n",
              "    background-color: var(--disabled-bg-color);\n",
              "    fill: var(--disabled-fill-color);\n",
              "    box-shadow: none;\n",
              "  }\n",
              "\n",
              "  .colab-df-spinner {\n",
              "    border: 2px solid var(--fill-color);\n",
              "    border-color: transparent;\n",
              "    border-bottom-color: var(--fill-color);\n",
              "    animation:\n",
              "      spin 1s steps(1) infinite;\n",
              "  }\n",
              "\n",
              "  @keyframes spin {\n",
              "    0% {\n",
              "      border-color: transparent;\n",
              "      border-bottom-color: var(--fill-color);\n",
              "      border-left-color: var(--fill-color);\n",
              "    }\n",
              "    20% {\n",
              "      border-color: transparent;\n",
              "      border-left-color: var(--fill-color);\n",
              "      border-top-color: var(--fill-color);\n",
              "    }\n",
              "    30% {\n",
              "      border-color: transparent;\n",
              "      border-left-color: var(--fill-color);\n",
              "      border-top-color: var(--fill-color);\n",
              "      border-right-color: var(--fill-color);\n",
              "    }\n",
              "    40% {\n",
              "      border-color: transparent;\n",
              "      border-right-color: var(--fill-color);\n",
              "      border-top-color: var(--fill-color);\n",
              "    }\n",
              "    60% {\n",
              "      border-color: transparent;\n",
              "      border-right-color: var(--fill-color);\n",
              "    }\n",
              "    80% {\n",
              "      border-color: transparent;\n",
              "      border-right-color: var(--fill-color);\n",
              "      border-bottom-color: var(--fill-color);\n",
              "    }\n",
              "    90% {\n",
              "      border-color: transparent;\n",
              "      border-bottom-color: var(--fill-color);\n",
              "    }\n",
              "  }\n",
              "</style>\n",
              "\n",
              "      <script>\n",
              "        async function quickchart(key) {\n",
              "          const quickchartButtonEl =\n",
              "            document.querySelector('#' + key + ' button');\n",
              "          quickchartButtonEl.disabled = true;  // To prevent multiple clicks.\n",
              "          quickchartButtonEl.classList.add('colab-df-spinner');\n",
              "          try {\n",
              "            const charts = await google.colab.kernel.invokeFunction(\n",
              "                'suggestCharts', [key], {});\n",
              "          } catch (error) {\n",
              "            console.error('Error during call to suggestCharts:', error);\n",
              "          }\n",
              "          quickchartButtonEl.classList.remove('colab-df-spinner');\n",
              "          quickchartButtonEl.classList.add('colab-df-quickchart-complete');\n",
              "        }\n",
              "        (() => {\n",
              "          let quickchartButtonEl =\n",
              "            document.querySelector('#df-dc7f916d-e491-406f-b761-1b29605cb252 button');\n",
              "          quickchartButtonEl.style.display =\n",
              "            google.colab.kernel.accessAllowed ? 'block' : 'none';\n",
              "        })();\n",
              "      </script>\n",
              "    </div>\n",
              "\n",
              "    </div>\n",
              "  </div>\n"
            ],
            "application/vnd.google.colaboratory.intrinsic+json": {
              "type": "dataframe",
              "variable_name": "fitz_data",
              "summary": "{\n  \"name\": \"fitz_data\",\n  \"rows\": 16577,\n  \"fields\": [\n    {\n      \"column\": \"md5hash\",\n      \"properties\": {\n        \"dtype\": \"string\",\n        \"num_unique_values\": 16577,\n        \"samples\": [\n          \"42011fa6b24713fc37c521ff2e50758a\",\n          \"a2314e281d529c2ca7e4058bdee394f8\",\n          \"b35d8e1757e938d5520dfd99ff8e0174\"\n        ],\n        \"semantic_type\": \"\",\n        \"description\": \"\"\n      }\n    },\n    {\n      \"column\": \"fitzpatrick_scale\",\n      \"properties\": {\n        \"dtype\": \"number\",\n        \"std\": 1,\n        \"min\": -1,\n        \"max\": 6,\n        \"num_unique_values\": 7,\n        \"samples\": [\n          3,\n          1,\n          -1\n        ],\n        \"semantic_type\": \"\",\n        \"description\": \"\"\n      }\n    },\n    {\n      \"column\": \"fitzpatrick_centaur\",\n      \"properties\": {\n        \"dtype\": \"number\",\n        \"std\": 1,\n        \"min\": -1,\n        \"max\": 6,\n        \"num_unique_values\": 7,\n        \"samples\": [\n          3,\n          1,\n          -1\n        ],\n        \"semantic_type\": \"\",\n        \"description\": \"\"\n      }\n    },\n    {\n      \"column\": \"label\",\n      \"properties\": {\n        \"dtype\": \"category\",\n        \"num_unique_values\": 114,\n        \"samples\": [\n          \"dariers disease\",\n          \"kaposi sarcoma\",\n          \"erythema nodosum\"\n        ],\n        \"semantic_type\": \"\",\n        \"description\": \"\"\n      }\n    },\n    {\n      \"column\": \"nine_partition_label\",\n      \"properties\": {\n        \"dtype\": \"category\",\n        \"num_unique_values\": 9,\n        \"samples\": [\n          \"benign melanocyte\",\n          \"benign dermal\",\n          \"malignant epidermal\"\n        ],\n        \"semantic_type\": \"\",\n        \"description\": \"\"\n      }\n    },\n    {\n      \"column\": \"three_partition_label\",\n      \"properties\": {\n        \"dtype\": \"category\",\n        \"num_unique_values\": 3,\n        \"samples\": [\n          \"non-neoplastic\",\n          \"benign\",\n          \"malignant\"\n        ],\n        \"semantic_type\": \"\",\n        \"description\": \"\"\n      }\n    },\n    {\n      \"column\": \"qc\",\n      \"properties\": {\n        \"dtype\": \"category\",\n        \"num_unique_values\": 5,\n        \"samples\": [\n          \"5 Potentially\",\n          \"4 Other\",\n          \"3 Wrongly labelled\"\n        ],\n        \"semantic_type\": \"\",\n        \"description\": \"\"\n      }\n    },\n    {\n      \"column\": \"url\",\n      \"properties\": {\n        \"dtype\": \"string\",\n        \"num_unique_values\": 16536,\n        \"samples\": [\n          \"https://www.dermaamin.com/site/images/clinical-pic/t/tuberous_sclerosis/tuberous_sclerosis14.jpg\",\n          \"https://www.dermaamin.com/site/images/clinical-pic/b/basal_cell_carcinoma_morpheiform/basal_cell_carcinoma_morpheiform38.jpg\",\n          \"https://www.dermaamin.com/site/images/clinical-pic/p/psoriasis-inversa/psoriasis-inversa10.jpg\"\n        ],\n        \"semantic_type\": \"\",\n        \"description\": \"\"\n      }\n    },\n    {\n      \"column\": \"url_alphanum\",\n      \"properties\": {\n        \"dtype\": \"string\",\n        \"num_unique_values\": 16577,\n        \"samples\": [\n          \"httpwwwdermaamincomsiteimagesclinicalpicsscabiesscabies78jpg.jpg\",\n          \"httpwwwatlasdermatologicocombrimgimageId7935.jpg\",\n          \"httpwwwdermaamincomsiteimagesclinicalpicLlymphocyticinfiltrationoftheskinjessnerkanoflymphocyticinfiltrationoftheskinjessnerkanof7jpg.jpg\"\n        ],\n        \"semantic_type\": \"\",\n        \"description\": \"\"\n      }\n    }\n  ]\n}"
            }
          },
          "metadata": {},
          "execution_count": 4
        }
      ],
      "source": [
        "fitz_data.head()"
      ]
    },
    {
      "cell_type": "markdown",
      "source": [
        "Now, we are going to gain a global understanding of the distribution of skin tones across the dataset. For this purpose, we visualize it by plotting the counts of each Fitzpatrick skin type:"
      ],
      "metadata": {
        "id": "O4OxMJGTlauO"
      },
      "id": "O4OxMJGTlauO"
    },
    {
      "cell_type": "code",
      "execution_count": null,
      "id": "9d3761a3-3587-44a7-8b59-650d3bece5ac",
      "metadata": {
        "id": "9d3761a3-3587-44a7-8b59-650d3bece5ac",
        "outputId": "4bc39f4f-323d-455c-93b9-af49cf4ea7d1",
        "colab": {
          "base_uri": "https://localhost:8080/",
          "height": 471
        }
      },
      "outputs": [
        {
          "output_type": "display_data",
          "data": {
            "text/plain": [
              "<Figure size 640x480 with 1 Axes>"
            ],
            "image/png": "[encoded data removed]"
          },
          "metadata": {}
        }
      ],
      "source": [
        "# Color code for the different skin tones (fitzpatrick scale)\n",
        "fitz_colors = {\n",
        "    -1: '#808080',  # NA (mising value!, it may be burnt tissue...)\n",
        "    1: '#ffe0bd',   # Fitz 1\n",
        "    2: '#ffcd94',   # Fitz 2\n",
        "    3: '#eac086',   # Fitz 3\n",
        "    4: '#c68642',   # Fitz 4\n",
        "    5: '#8d5524',   # Fitz 5\n",
        "    6: '#5d3a1a'    # Fitz 6\n",
        "}\n",
        "\n",
        "# Get value counts sorted by index\n",
        "counts = fitz_data['fitzpatrick_scale'].value_counts().sort_index()\n",
        "\n",
        "# Assign colors for each bar\n",
        "colors = [fitz_colors.get(i, '#000000') for i in counts.index]\n",
        "\n",
        "# Do the plot of the distribution according to the skin colors\n",
        "counts.plot(kind='bar', edgecolor='black', color=colors)\n",
        "plt.title('Distribution of Fitzpatrick Skin Tones')\n",
        "plt.xlabel('Fitzpatrick Type')\n",
        "plt.ylabel('Count')\n",
        "plt.grid(True, axis='y')\n",
        "plt.show()"
      ]
    },
    {
      "cell_type": "markdown",
      "source": [
        "Well, the above chunk of code gave us information about the skin tone distribution, but not about the specific diseases. Now, we can examine their distribution conditioned on specific skin tones. We'll start with the three superclasses, which are split into: **benign**, **malignant**, and **non-neoplastic**.\n",
        "\n",
        "Bear in mind that the dangerous skin conditions are grouped under the **malignant** class.\n"
      ],
      "metadata": {
        "id": "Voifmb2adbMk"
      },
      "id": "Voifmb2adbMk"
    },
    {
      "cell_type": "code",
      "execution_count": null,
      "id": "45fa7bb2-9260-416f-a356-319a5cb3699a",
      "metadata": {
        "id": "45fa7bb2-9260-416f-a356-319a5cb3699a",
        "outputId": "ddaa821b-6003-42a9-d76e-a6f512ec00bc",
        "colab": {
          "base_uri": "https://localhost:8080/",
          "height": 486
        }
      },
      "outputs": [
        {
          "output_type": "display_data",
          "data": {
            "text/plain": [
              "<Figure size 640x480 with 1 Axes>"
            ],
            "image/png": "[encoded data removed]"
          },
          "metadata": {}
        }
      ],
      "source": [
        "# We do a bidimensional table of the two categories: skin tone and three superclass labels\n",
        "cross_tab = pd.crosstab(fitz_data['fitzpatrick_scale'], fitz_data['three_partition_label'])\n",
        "\n",
        "# Sort by index (X-axis order)\n",
        "cross_tab = cross_tab.sort_index()\n",
        "\n",
        "# Do a similar plot to the previous one, but this time we show the labels of the three super classes\n",
        "cross_tab.plot(kind='bar', stacked=True, edgecolor='black')\n",
        "plt.title('Skin condition Distribution by Fitzpatrick skin tone')\n",
        "plt.xlabel('Fitzpatrick scale')\n",
        "plt.ylabel('Count')\n",
        "plt.legend(title='Skin condition')\n",
        "plt.grid(True, axis='y')\n",
        "plt.tight_layout()\n",
        "plt.show()"
      ]
    },
    {
      "cell_type": "markdown",
      "source": [
        "Now, we further divide them into **nine distinct superclasses**. These categories provide a finer-grained classification compared to the previous three high-level partitions (benign, malignant, and non-neoplastic).\n",
        "\n",
        "Before proceeding with this nine-class visualization, it is important to first understand **which specific conditions (labels)** fall under each of the three superclasses.\n",
        "\n",
        "In the next step, we will display a grouped summary showing the relationship between the original condition labels and their corresponding nine-partition superclass.\n"
      ],
      "metadata": {
        "id": "L27yczjVgS_f"
      },
      "id": "L27yczjVgS_f"
    },
    {
      "cell_type": "code",
      "source": [
        "# We group the three superclasses among the nine super classes\n",
        "superclass_mapping = fitz_data.groupby('three_partition_label')['nine_partition_label'].unique()\n",
        "\n",
        "# To dictionary\n",
        "superclass_mapping_dict = superclass_mapping.to_dict()\n",
        "\n",
        "# Print this hierarchical data structure!\n",
        "for superclass, labels in superclass_mapping_dict.items():\n",
        "    print(f\"\\nSuperclass: {superclass}\")\n",
        "    print(\"Labels:\")\n",
        "    for label in labels:\n",
        "        print(f\" - {label}\")"
      ],
      "metadata": {
        "colab": {
          "base_uri": "https://localhost:8080/"
        },
        "id": "M_IMLISWgwFE",
        "outputId": "5d69a283-c375-47a8-82b3-5e3156576393"
      },
      "id": "M_IMLISWgwFE",
      "execution_count": null,
      "outputs": [
        {
          "output_type": "stream",
          "name": "stdout",
          "text": [
            "\n",
            "Superclass: benign\n",
            "Labels:\n",
            " - benign dermal\n",
            " - benign epidermal\n",
            " - benign melanocyte\n",
            "\n",
            "Superclass: malignant\n",
            "Labels:\n",
            " - malignant dermal\n",
            " - malignant melanoma\n",
            " - malignant epidermal\n",
            " - malignant cutaneous lymphoma\n",
            "\n",
            "Superclass: non-neoplastic\n",
            "Labels:\n",
            " - inflammatory\n",
            " - genodermatoses\n"
          ]
        }
      ]
    },
    {
      "cell_type": "markdown",
      "source": [
        "We now present a visualization of the dataset based on the `nine_partition_label`. This plot provides an overview of how the different skin tones are distributed among the nine diagnostic categories, giving insight into class balance, potential biases, and the relative frequency of each condition type.\n",
        "\n",
        "Visualizing this distribution is especially important when building machine learning models, as it helps identify class imbalances that could impact model performance. For instance, if certain classes are underrepresented, additional preprocessing or balancing techniques may be required.\n",
        "\n",
        "The following plot offers a clear summary of the dataset composition under the nine-class classification scheme.\n"
      ],
      "metadata": {
        "id": "9BYKscJLh-Sz"
      },
      "id": "9BYKscJLh-Sz"
    },
    {
      "cell_type": "code",
      "execution_count": null,
      "id": "d94d2576-aa4e-49c1-bcb9-70524933dc67",
      "metadata": {
        "id": "d94d2576-aa4e-49c1-bcb9-70524933dc67",
        "outputId": "61d8d9ff-5327-4931-b714-7761cd0c3848",
        "colab": {
          "base_uri": "https://localhost:8080/",
          "height": 527
        }
      },
      "outputs": [
        {
          "output_type": "stream",
          "name": "stderr",
          "text": [
            "/tmp/ipython-input-3704349199.py:13: UserWarning: Tight layout not applied. The left and right margins cannot be made large enough to accommodate all Axes decorations.\n",
            "  plt.tight_layout()\n"
          ]
        },
        {
          "output_type": "display_data",
          "data": {
            "text/plain": [
              "<Figure size 640x480 with 1 Axes>"
            ],
            "image/png": "[encoded data removed]"
          },
          "metadata": {}
        }
      ],
      "source": [
        "# Bidimensional table of tones and classes\n",
        "cross_tab = pd.crosstab(fitz_data['fitzpatrick_scale'], fitz_data['nine_partition_label'])\n",
        "\n",
        "# Sort by index (X-axis order)\n",
        "cross_tab = cross_tab.sort_index()\n",
        "\n",
        "# Plot the distribution of the ninesuperclasses\n",
        "cross_tab.plot(kind='bar', stacked=True, edgecolor='black')\n",
        "plt.title('Skin condition Distribution by Fitzpatrick skin tone')\n",
        "plt.xlabel('Fitzpatrick scale')\n",
        "plt.ylabel('Count')\n",
        "plt.legend(title='Skin condition',bbox_to_anchor=(2.12, 1), loc='upper right')\n",
        "plt.grid(True, axis='y')\n",
        "plt.tight_layout()\n",
        "plt.show()"
      ]
    },
    {
      "cell_type": "markdown",
      "source": [
        "## <font color='red'>First discussion round</font>\n",
        "\n",
        "### Skin Tone Representation\n",
        "\n",
        "From the exploratory analysis, we can reflect on the representation of different skin tones in the dataset.\n",
        "\n",
        "- **Is the distribution balanced across Fitzpatrick skin tones**, or does it appear skewed toward lighter or darker tones?\n",
        "- If the dataset is imbalanced, **how might this bias the models** we train?\n",
        "\n",
        "### Disease Representation Across Skin Tones\n",
        "\n",
        "We should also consider whether **all skin diseases are well-represented across the full spectrum of skin tones**.\n",
        "\n",
        "- Are certain diseases **underrepresented on specific skin tones**?\n",
        "- Do some diseases appear **more difficult to visually diagnose** on certain tones due to contrast or pigmentation differences?\n",
        "\n",
        "### Potential Solutions\n",
        "\n",
        "Now, we need to plan possible solutions to mitigate biases in order **to build a fair system**.\n",
        "\n",
        "- How do you think these datasets **might look in real-world systems** deployed in clinical settings? Would they be fair?  \n",
        "- Can you think of **potential solutions** to address this problem?\n"
      ],
      "metadata": {
        "id": "nl2qbk2XiAB_"
      },
      "id": "nl2qbk2XiAB_"
    },
    {
      "cell_type": "markdown",
      "source": [
        "## Hyperparameters for model training"
      ],
      "metadata": {
        "id": "cDgw5zKomVtc"
      },
      "id": "cDgw5zKomVtc"
    },
    {
      "cell_type": "markdown",
      "source": [
        "In the next chunk of code, we define several key parameters for our experiment. First, we specify the **random seed**, which ensures reproducibility and allows us to perform multiple runs with different seeds for more robust evaluation.\n",
        "\n",
        "Next, we configure the **optimization process**, including the number of **training epochs** and the **batch size**. These hyperparameters play a critical role in the learning dynamics of the model.\n",
        "\n",
        "We also define the **input image size**, which determines how images will be resized before being fed into the model, and the **test set size**, which controls how much of the dataset is held out for evaluation.\n",
        "\n",
        "Finally, we specify the **path to the dataset**, which allows the code to locate and load the images and labels correctly.\n"
      ],
      "metadata": {
        "id": "nQf18rT3kjnP"
      },
      "id": "nQf18rT3kjnP"
    },
    {
      "cell_type": "code",
      "execution_count": null,
      "id": "60970ddc-ef8b-499c-a74a-198956e2cf09",
      "metadata": {
        "scrolled": true,
        "colab": {
          "base_uri": "https://localhost:8080/"
        },
        "id": "60970ddc-ef8b-499c-a74a-198956e2cf09",
        "outputId": "2b3ea461-fb7f-4728-e681-ea15009bfa5b"
      },
      "outputs": [
        {
          "output_type": "stream",
          "name": "stdout",
          "text": [
            "############## Let's go with run (seed) 5\n"
          ]
        }
      ],
      "source": [
        "# Experiment Configuration\n",
        "run = 5 # current run (seed)\n",
        "\n",
        "# Configuration of the training\n",
        "batch_size = 128\n",
        "num_epochs = 50\n",
        "\n",
        "# Data configs\n",
        "dataset_root = 'drive/MyDrive/SKIN/dataset/'\n",
        "test_size = 500\n",
        "image_size = 224\n",
        "\n",
        "print(\"############## Let's go with run (seed)\", run)"
      ]
    },
    {
      "cell_type": "markdown",
      "source": [
        "## Experiment\n",
        "\n",
        "\n",
        "To investigate potential **racial biases** and evaluate **classification performance across different skin tones**, we define the following controlled experiment.\n",
        "\n",
        "### Data Partitioning by Skin Tone\n",
        "\n",
        "We categorize the dataset into two distinct groups based on the **Fitzpatrick skin tone (FST)** scale:\n",
        "\n",
        "- **Light skin tones**: FST 1–2\n",
        "- **Dark skin tones**: FST 5–6\n",
        "\n",
        "Samples labeled as **FST 3–4** are excluded from this experiment to avoid ambiguity and reduce overlap between groups.\n",
        "\n",
        "---\n",
        "\n",
        "### Training Set Configurations\n",
        "\n",
        "We create three separate training sets, each consisting of **1,000 samples**, but with varying proportions of dark and light skin tones. These configurations allow us to evaluate how training set composition affects model fairness and accuracy.\n",
        "\n",
        "| Dataset | Composition | Description |\n",
        "|--------|-------------|-------------|\n",
        "| **A** | 100% light samples | *Light-biased dataset* |\n",
        "| **B** | 50% light, 50% dark | *Balanced skin tone dataset* |\n",
        "| **C** | 100% dark samples | *Dark-biased dataset* |\n",
        "\n",
        "Each training set is designed to be equal in size (1,000 samples), ensuring that performance differences are attributable to **skin tone distribution**, not sample size.\n",
        "\n",
        "---\n",
        "\n",
        "### Test Sets\n",
        "\n",
        "To fairly evaluate performance across skin tones, we define two separate test sets:\n",
        "\n",
        "- **Light Test Set**: Contains only light (FST 1–2) samples\n",
        "- **Dark Test Set**: Contains only dark (FST 5–6) samples\n",
        "\n",
        "This allows us to assess model accuracy and generalization across **sensitive subgroups** and observe whether the training set composition introduces any bias.\n",
        "\n",
        "---\n",
        "\n",
        "This experimental design enables us to measure both **model fairness** and **performance disparities**, helping to discern whether models trained on imbalanced data may systematically underperform on underrepresented skin tones.\n"
      ],
      "metadata": {
        "id": "OduSA9EBqKYi"
      },
      "id": "OduSA9EBqKYi"
    },
    {
      "cell_type": "markdown",
      "id": "1c01ce35-78cc-4883-bf44-7b8dbb939304",
      "metadata": {
        "id": "1c01ce35-78cc-4883-bf44-7b8dbb939304"
      },
      "source": [
        "## Data loading"
      ]
    },
    {
      "cell_type": "markdown",
      "source": [
        "### Sampling Function for Experimental Configuration\n",
        "\n",
        "We begin by defining a function to generate the training and test sets for our experimental setup.\n",
        "\n",
        "This function supports flexible configuration through the following parameters:\n",
        "\n",
        "- **`perc_black`**: Controls the proportion of dark skin tone (FST 5–6) samples in the training set. We use values of `0` (all light), `0.5` (balanced), and `1` (all dark) to simulate three training conditions.\n",
        "- **`run`**: An integer used as a random seed to ensure reproducibility across different experimental runs.\n",
        "- **`test_size`**: Specifies the number of samples to include in each of the two test sets (light and dark), allowing us to control evaluation size.\n",
        "\n",
        "The function filters out ambiguous FST 3–4 samples and samples the training and test data accordingly. This setup ensures consistent and fair comparisons across configurations with controlled dataset compositions."
      ],
      "metadata": {
        "id": "kMER6POZiP63"
      },
      "id": "kMER6POZiP63"
    },
    {
      "cell_type": "code",
      "execution_count": null,
      "metadata": {
        "id": "36622cb2-209d-45f3-a4f0-9fec10939d2d"
      },
      "outputs": [],
      "source": [
        "# Function to sample training and test set depending on the configuration\n",
        "def train_test_fitz(dataset_root, perc_black, run, test_size):\n",
        "    # Read the dataframe\n",
        "    df = pd.read_csv(dataset_root + \"fitzpatrick17k.csv\")\n",
        "\n",
        "    # Keep only white and black Fitzpatrick groups (discard FST 3-4)\n",
        "    df = df[df['fitzpatrick_scale'].isin([1, 2, 5, 6])]\n",
        "\n",
        "    # Create simplified race group - we will call white and black\n",
        "    df['race_group'] = df['fitzpatrick_scale'].apply(lambda x: 'white' if x in [1, 2] else 'black')\n",
        "\n",
        "    # Create combined stratification key for test split: each instance will be labeled with the class and the race group\n",
        "    df['stratify_key'] = df['three_partition_label'].astype(str) + \"_\" + df['race_group']\n",
        "\n",
        "    # Stratified split into train and test by combined key (we expect to obtain an even distribution of tones and classes)\n",
        "    train_df, test_df = train_test_split(\n",
        "        df,\n",
        "        test_size=test_size, # option we selected to define the test size\n",
        "        stratify=df['stratify_key'],\n",
        "        random_state=run\n",
        "    )\n",
        "\n",
        "    ## Now we separate the racial groups:\n",
        "\n",
        "    # Separate test data by race\n",
        "    test_w = test_df[test_df['race_group'] == 'white']\n",
        "    test_b = test_df[test_df['race_group'] == 'black']\n",
        "\n",
        "    # Separate train data by race\n",
        "    white_df = train_df[train_df['race_group'] == 'white']\n",
        "    black_df = train_df[train_df['race_group'] == 'black']\n",
        "\n",
        "    # Handle edge cases for perc_black = 0 or 1\n",
        "    if perc_black == 0:\n",
        "        # Only white samples for training\n",
        "        white_train_size = len(white_df)\n",
        "        white_df, _ = train_test_split(\n",
        "            white_df,\n",
        "            train_size=1000,\n",
        "            stratify=white_df['three_partition_label'],\n",
        "            random_state=run\n",
        "        )\n",
        "        train_df = white_df\n",
        "    elif perc_black >= 1:\n",
        "        # Only black samples for training\n",
        "        black_train_size = len(black_df)\n",
        "        black_df, _ = train_test_split(\n",
        "            black_df,\n",
        "            train_size=1000,\n",
        "            stratify=black_df['three_partition_label'],\n",
        "            random_state=run\n",
        "        )\n",
        "        train_df = black_df\n",
        "    else:\n",
        "        # Mix of black and white samples (select the percentage of black)\n",
        "\n",
        "        # Calculate training sizes as integers\n",
        "        total_group_size = min(len(black_df), len(white_df))\n",
        "        n_black = int(round(perc_black * total_group_size))\n",
        "        n_white = int(round((1 - perc_black) * total_group_size))\n",
        "\n",
        "        # Clamp minimum 1 to avoid zero sample errors\n",
        "        n_black = max(n_black, 1)\n",
        "        n_white = max(n_white, 1)\n",
        "\n",
        "        # Stratified sampling inside each race group\n",
        "        white_df, _ = train_test_split(\n",
        "            white_df,\n",
        "            train_size=500,\n",
        "            stratify=white_df['three_partition_label'],\n",
        "            random_state=run\n",
        "        )\n",
        "\n",
        "        black_df, _ = train_test_split(\n",
        "            black_df,\n",
        "            train_size=500,\n",
        "            stratify=black_df['three_partition_label'],\n",
        "            random_state=run\n",
        "        )\n",
        "\n",
        "        train_df = pd.concat([white_df, black_df])\n",
        "\n",
        "    # Debug prints for distributions\n",
        "    print(\"Train distribution (three_partition_label, race):\\n\", train_df.groupby(['three_partition_label', 'race_group']).size())\n",
        "    print(\"Test distribution (three_partition_label, race):\\n\", test_df.groupby(['three_partition_label', 'race_group']).size())\n",
        "    print(\"Test white count:\", len(test_w), \"| Test black count:\", len(test_b))\n",
        "\n",
        "    # Class weights for imbalance: we penalize in the loss function underrepresented classes\n",
        "    label_mapping = {'non-neoplastic': 0, 'malignant': 1, 'benign': 2} # from str to int\n",
        "    int_labels = [label_mapping[label] for label in train_df['three_partition_label'].tolist()]\n",
        "    class_counts = collections.Counter(int_labels)\n",
        "    print(\"Class distribution in training: \", class_counts)\n",
        "    num_classes = len(class_counts)\n",
        "    total_samples = len(int_labels)\n",
        "    class_weights = [total_samples / (num_classes * class_counts[i]) for i in range(num_classes)]\n",
        "    class_weights = torch.tensor(class_weights, dtype=torch.float)\n",
        "    print(\"Weights: \", class_weights)\n",
        "\n",
        "    # Create fitz dataset objects for the dataloaders\n",
        "    train_dataset = fitz_dataset(train_df, dataset_root + 'imgs/finalfitz17k/', image_size, test=False)\n",
        "    test_dataset_w = fitz_dataset(test_w, dataset_root + 'imgs/finalfitz17k/', image_size, test=True)\n",
        "    test_dataset_b = fitz_dataset(test_b, dataset_root + 'imgs/finalfitz17k/', image_size, test=True)\n",
        "\n",
        "    return train_dataset, test_dataset_w, test_dataset_b, class_weights\n",
        "\n"
      ],
      "id": "36622cb2-209d-45f3-a4f0-9fec10939d2d"
    },
    {
      "cell_type": "markdown",
      "source": [
        "### Custom Dataset Class for Loading and Augmenting Images\n",
        "\n",
        "The following class is responsible for loading the dataset and preparing it for training and evaluation. It inherits from the `Dataset` class provided by **PyTorch**, which enables compatibility with the PyTorch `DataLoader`.\n",
        "\n",
        "To initialize the class, we pass a **Pandas DataFrame** containing the relevant information for each image, such as file paths, labels, and metadata.\n",
        "\n",
        "The class handles the following key functionalities:\n",
        "\n",
        "- **Image loading**: Reads each image file from the dataset based on the provided path.\n",
        "- **Label assignment**: Retrieves the correct label (e.g., for classification) from the DataFrame.\n",
        "- **Data augmentation**: Applies a set of transformations (e.g., random flips, rotations, normalization) to enhance generalization and reduce overfitting.\n",
        "    - These augmentations are only applied during **training**.\n",
        "    - A boolean argument `test` is used to control this behavior: if `test=True`, the dataset skips augmentation and applies only necessary preprocessing for evaluation.\n",
        "\n",
        "This modular design allows us to efficiently load, preprocess, and batch the data using a PyTorch `DataLoader`, making the dataset ready for model training or inference.\n"
      ],
      "metadata": {
        "id": "RoYjjEQEyXOG"
      },
      "id": "RoYjjEQEyXOG"
    },
    {
      "cell_type": "code",
      "source": [
        "class fitz_dataset(Dataset):\n",
        "    def __init__(self, dataframe, img_dir, image_size, test=False):\n",
        "\n",
        "        # Read dataframe\n",
        "        self.dataframe = dataframe\n",
        "        imgs = os.listdir(img_dir)\n",
        "        imgs_hash = [x.split('.')[0] for x in imgs]\n",
        "        # Match the hash of the dataframe and the images in the directory, this will be our utilized data\n",
        "        self.intersection = list(set(dataframe['md5hash']).intersection(imgs_hash))\n",
        "        self.images_fps = [img_dir + x + '.jpg' for x in self.intersection] # names for reading the images\n",
        "\n",
        "        # Data augmentation\n",
        "        if test:\n",
        "            self.transform = transforms.Compose([transforms.Resize(image_size),\n",
        "                                transforms.CenterCrop(image_size),\n",
        "                                transforms.ToTensor(),\n",
        "                                transforms.Normalize(mean=[0.485, 0.456, 0.406],\n",
        "                     std=[0.229, 0.224, 0.225])\n",
        "                                ])\n",
        "        else:\n",
        "            self.transform = transforms.Compose([transforms.Resize(image_size),\n",
        "                                transforms.CenterCrop(image_size),\n",
        "                                transforms.RandomHorizontalFlip(0.5),\n",
        "                                transforms.ToTensor(),\n",
        "                                transforms.Normalize(mean=[0.485, 0.456, 0.406],\n",
        "                     std=[0.229, 0.224, 0.225])\n",
        "                                ])\n",
        "\n",
        "        self.label_mapping_3 = {'non-neoplastic': 0, 'malignant': 1, 'benign': 2}\n",
        "\n",
        "        self.label_mapping_9 = {'inflammatory': 0, 'malignant epidermal': 1, 'genodermatoses': 2,\n",
        "                               'benign dermal': 3, 'benign epidermal': 4, 'malignant melanoma': 5,\n",
        "                               'benign melanocyte': 6, 'malignant cutaneous lymphoma': 7,\n",
        "                               'malignant dermal': 8}\n",
        "\n",
        "\n",
        "    def __len__(self):\n",
        "        return len(self.images_fps)\n",
        "\n",
        "    def __getitem__(self, idx):\n",
        "        # Get features and target\n",
        "        # read data\n",
        "        img = Image.open(self.images_fps[idx])\n",
        "        img = img.convert(\"RGB\")\n",
        "\n",
        "        image = self.transform(img)\n",
        "\n",
        "\n",
        "        return image, self.intersection[idx]\n",
        "\n",
        "    def __getitem__(self, idx):\n",
        "        # Get the image filepath\n",
        "        img_path = self.images_fps[idx]\n",
        "        img = Image.open(img_path).convert(\"RGB\")\n",
        "        image = self.transform(img)\n",
        "\n",
        "        # Get the image hash (filename without extension)\n",
        "        img_hash = self.intersection[idx]\n",
        "\n",
        "        # Get the corresponding row in the dataframe\n",
        "        row = self.dataframe[self.dataframe['md5hash'] == img_hash].iloc[0]\n",
        "\n",
        "        # Extract the three labels\n",
        "        label_3 = self.label_mapping_3[row['three_partition_label']]\n",
        "\n",
        "        # Optionally convert to long tensor for the torch loss\n",
        "        labels = torch.tensor(label_3, dtype=torch.long)\n",
        "\n",
        "        return image, labels, img_hash"
      ],
      "metadata": {
        "id": "sI6BzI23xuAF"
      },
      "id": "sI6BzI23xuAF",
      "execution_count": null,
      "outputs": []
    },
    {
      "cell_type": "markdown",
      "source": [
        "## <font color='red'>Second Discussion Round\n",
        "</font>\n",
        "\n",
        "Now, in this second round of discussion about the class dataset, let’s go deeper into how the dataset is used.\n",
        "\n",
        "### Sampling strategy\n",
        "\n",
        "- How are the **training and test sets defined** in this context?  \n",
        "- Do you think there are **more effective ways to split the data** (e.g., cross-validation, stratified sampling)? Why or why not? Which limitations do we face?\n",
        "\n",
        "### Data preprocessing\n",
        "\n",
        "- What are your thoughts on the **preprocessing steps** used in this dataset? Are there any improvements or best practices you would suggest?\n",
        "- What role do you think **data augmentation** can play here? Could it help reduce bias, improve generalization, or introduce new issues?"
      ],
      "metadata": {
        "id": "PcRpnUQOzqcW"
      },
      "id": "PcRpnUQOzqcW"
    },
    {
      "cell_type": "markdown",
      "id": "d3f1c88e",
      "metadata": {
        "id": "d3f1c88e"
      },
      "source": [
        "## Model definition, and training loop\n"
      ]
    },
    {
      "cell_type": "markdown",
      "source": [
        "### Model Definition and Training Procedure\n",
        "\n",
        "This function defines and executes the entire training pipeline for our classification task.\n",
        "\n",
        "We use a **pretrained EfficientNet-B0** model from ImageNet as the backbone. By fine-tuning this model on our specific dataset, we leverage powerful pretrained features while adapting the network to the task of skin disease classification.\n",
        "\n",
        "Key components of the function:\n",
        "\n",
        "- **Model Initialization**:\n",
        "    - Uses `EfficientNet-B0` from `torchvision.models` or `efficientnet_pytorch`.\n",
        "    - The classifier head is modified to match the number of output classes in our task (in this case, 3: benign, malignant, and non-neoplastic).\n",
        "\n",
        "- **Loss Function**:\n",
        "    - We use **CrossEntropyLoss** with optional **class weights** to address imbalanced class distributions.\n",
        "    - These weights help penalize underrepresented classes more heavily during training, improving performance on minority classes.\n",
        "\n",
        "- **Optimizer and Training Loop**:\n",
        "    - We define an optimizer (e.g., Adam or SGD) and implement the training loop with evaluation checkpoints. In this case, we use Adam.\n",
        "    - At regular intervals (e.g., after each epoch), the model is evaluated on the validation/test set.\n",
        "    - Metrics such as loss and accuracy are tracked for both training and testing phases.\n",
        "\n",
        "- **Device Support**:\n",
        "    - The function automatically uses **CUDA** if available, enabling GPU acceleration for faster training.\n",
        "\n",
        "Once the data is prepared and passed into the function (training and test loaders), the model is trained and evaluated in a streamlined and reproducible way.\n"
      ],
      "metadata": {
        "id": "hWWYkF7m6hY1"
      },
      "id": "hWWYkF7m6hY1"
    },
    {
      "cell_type": "code",
      "execution_count": null,
      "id": "e7ae4e56",
      "metadata": {
        "id": "e7ae4e56"
      },
      "outputs": [],
      "source": [
        "def train_evaluate_model(train_loader, test_loader, test_loader_w, test_loader_b, class_weights, num_epochs):\n",
        "    # --- Model ---\n",
        "    # use gpu if available\n",
        "    device = torch.device(\"cuda\" if torch.cuda.is_available() else \"cpu\")\n",
        "    print(\"We are running on \", device)\n",
        "    # load the network\n",
        "    model = timm.create_model('efficientnet_b0', pretrained=True)\n",
        "    in_features = model.classifier.in_features\n",
        "    # define the head\n",
        "    output_classes = 3\n",
        "    model.classifier = nn.Linear(in_features,output_classes)\n",
        "    print(output_classes)\n",
        "    # put the data into the device (gpu/cpu)\n",
        "    model = model.to(device)\n",
        "    class_weights_device = class_weights.to(device)\n",
        "    # loss and optimizer\n",
        "    criterion = torch.nn.CrossEntropyLoss(weight=class_weights_device)\n",
        "    optimizer = torch.optim.Adam(model.parameters(), lr=1e-4, weight_decay=1e-5)\n",
        "\n",
        "    def unnormalize(tensor):\n",
        "        # normalization for the pretrained network\n",
        "        mean = torch.tensor([0.485, 0.456, 0.406]).view(3,1,1)\n",
        "        std = torch.tensor([0.229, 0.224, 0.225]).view(3,1,1)\n",
        "        return tensor * std + mean\n",
        "\n",
        "    def test_model(test_loader, model, subgroup):\n",
        "        test_loss = 0\n",
        "        test_correct = 0\n",
        "        test_total = 0\n",
        "        all_labels = []\n",
        "        all_preds = []\n",
        "        shown = 0\n",
        "\n",
        "        with torch.no_grad():\n",
        "            for images, labels, ids in test_loader:\n",
        "                images, labels = images.to(device), labels.to(device)\n",
        "                # pass forward\n",
        "                outputs = model(images)\n",
        "                # compute the loss\n",
        "                loss = criterion(outputs, labels)\n",
        "\n",
        "                test_loss += loss.item() * images.size(0)\n",
        "                _, predicted = outputs.max(1)\n",
        "                test_total += labels.size(0)\n",
        "                test_correct += predicted.eq(labels).sum().item()\n",
        "\n",
        "                all_labels.extend(labels.cpu().numpy())\n",
        "                all_preds.extend(predicted.cpu().numpy())\n",
        "\n",
        "        # compute the metrics\n",
        "        test_loss /= test_total\n",
        "        acc = test_correct / test_total\n",
        "        f1 = f1_score(all_labels, all_preds, average='macro')\n",
        "        print(f\"Epoch {epoch+1}/{num_epochs} Test loss: {test_loss:.4f} Acc: {acc:.4f} F1: {f1:.4f} Subgroup: {subgroup}\")\n",
        "        print(collections.Counter(all_labels), collections.Counter(all_preds))\n",
        "        print(classification_report(all_labels, all_preds))\n",
        "        return f1\n",
        "\n",
        "    # --- Training Loop ---\n",
        "\n",
        "    for epoch in range(num_epochs):\n",
        "        model.train()\n",
        "        running_loss = 0\n",
        "        correct = 0\n",
        "        total = 0\n",
        "\n",
        "        # Wrap with tqdm and store the progress bar object\n",
        "        pbar = tqdm(train_loader, desc=f\"Epoch {epoch+1}/{num_epochs}\")\n",
        "\n",
        "        for images, labels, ids in pbar:\n",
        "            images, labels = images.to(device), labels.to(device)\n",
        "\n",
        "            optimizer.zero_grad()\n",
        "            # pass forward\n",
        "            outputs = model(images)\n",
        "            # compute the loss\n",
        "            loss = criterion(outputs, labels)\n",
        "            # back propagation and update of the parameters\n",
        "            loss.backward()\n",
        "            optimizer.step()\n",
        "\n",
        "            running_loss += loss.item() * images.size(0)\n",
        "            _, predicted = outputs.max(1)\n",
        "            total += labels.size(0)\n",
        "            correct += predicted.eq(labels).sum().item()\n",
        "\n",
        "            # Show running average loss and accuracy\n",
        "            current_loss = running_loss / total\n",
        "            current_acc = correct / total\n",
        "            pbar.set_postfix(loss=f\"{current_loss:.4f}\", acc=f\"{current_acc:.4f}\")\n",
        "\n",
        "\n",
        "\n",
        "        train_loss = running_loss / total\n",
        "        train_acc = correct / total\n",
        "        print(f\"Epoch {epoch+1}/{num_epochs} Train loss: {train_loss:.4f} Acc: {train_acc:.4f}\")\n",
        "\n",
        "        # Test\n",
        "        model.eval()\n",
        "        test_w = test_model(test_loader_w, model, 'Light tones')\n",
        "        test_b = test_model(test_loader_b, model, 'Dark tones')\n",
        "\n",
        "    return test_w, test_b\n"
      ]
    },
    {
      "cell_type": "markdown",
      "source": [
        "### Training Loop Across Skin Tone Configurations\n",
        "\n",
        "In this step, we define a loop to run our experiment for a selected random seed (`run`).\n",
        "\n",
        "For each run, we **sample three different training sets** according to the percentage of dark-skinned (FST 5–6) samples:\n",
        "- **Dataset A**: 0% dark samples (light-only)\n",
        "- **Dataset B**: 50% dark, 50% light (balanced)\n",
        "- **Dataset C**: 100% dark samples\n",
        "\n",
        "For each configuration:\n",
        "1. We **sample the training and test sets** using the predefined sampling function.\n",
        "2. We **train a model** on the corresponding training set.\n",
        "3. We **evaluate the model** on both light and dark test sets.\n",
        "4. We **store the performance metrics** (e.g., accuracy, loss, F1 score) for later analysis.\n",
        "\n",
        "All results are saved in a structured format for later visualization. This enables us to compare performance across different training distributions and assess how skin tone representation in training data affects model fairness and accuracy."
      ],
      "metadata": {
        "id": "cB-jvn6S6OnQ"
      },
      "id": "cB-jvn6S6OnQ"
    },
    {
      "cell_type": "code",
      "execution_count": null,
      "id": "1fcc2eaa",
      "metadata": {
        "id": "1fcc2eaa",
        "outputId": "e87080f7-6e89-4acb-cb0f-5583d4845496",
        "colab": {
          "base_uri": "https://localhost:8080/",
          "height": 1000,
          "referenced_widgets": [
            "ff11d8d262e04ae0856a2242c8b41e82",
            "d3f3dae22d8f457ea5de2c7ed974cc7a",
            "221bf09ee63a43e995d53f023be20e2e",
            "c95006b20b474807bfd7a71941fe6f90",
            "595b53f0ea274ff3b33f1f1d33c89b22",
            "6aa4159395f84541b8d82bc78dc39f10",
            "17f224228c3a40cda1894e32adae72a2",
            "a3bf5985f53c4c2e879d2f519fe976c2",
            "75428b1bfec14a058c641f4b8c09bb42",
            "07df1c45024a4a8a998d1f8f5fd7e25e",
            "82ab6fe4b638438c88066fce4a23c272"
          ]
        }
      },
      "outputs": [
        {
          "output_type": "stream",
          "name": "stdout",
          "text": [
            "Train distribution (three_partition_label, race):\n",
            " three_partition_label  race_group\n",
            "benign                 white         144\n",
            "malignant              white         154\n",
            "non-neoplastic         white         702\n",
            "dtype: int64\n",
            "Test distribution (three_partition_label, race):\n",
            " three_partition_label  race_group\n",
            "benign                 black          10\n",
            "                       white          56\n",
            "malignant              black          11\n",
            "                       white          60\n",
            "non-neoplastic         black          89\n",
            "                       white         274\n",
            "dtype: int64\n",
            "Test white count: 390 | Test black count: 110\n",
            "Class distribution in training:  Counter({0: 702, 1: 154, 2: 144})\n",
            "Weights:  tensor([0.4748, 2.1645, 2.3148])\n",
            "We are running on  cuda\n"
          ]
        },
        {
          "output_type": "stream",
          "name": "stderr",
          "text": [
            "/usr/local/lib/python3.12/dist-packages/huggingface_hub/utils/_auth.py:94: UserWarning: \n",
            "The secret `HF_TOKEN` does not exist in your Colab secrets.\n",
            "To authenticate with the Hugging Face Hub, create a token in your settings tab (https://huggingface.co/settings/tokens), set it as secret in your Google Colab and restart your session.\n",
            "You will be able to reuse this secret in all of your notebooks.\n",
            "Please note that authentication is recommended but still optional to access public models or datasets.\n",
            "  warnings.warn(\n"
          ]
        },
        {
          "output_type": "display_data",
          "data": {
            "text/plain": [
              "model.safetensors:   0%|          | 0.00/21.4M [00:00<?, ?B/s]"
            ],
            "application/vnd.jupyter.widget-view+json": {
              "version_major": 2,
              "version_minor": 0,
              "model_id": "ff11d8d262e04ae0856a2242c8b41e82"
            }
          },
          "metadata": {}
        },
        {
          "output_type": "stream",
          "name": "stdout",
          "text": [
            "3\n"
          ]
        },
        {
          "output_type": "stream",
          "name": "stderr",
          "text": [
            "Epoch 1/30: 100%|██████████| 7/7 [06:18<00:00, 54.12s/it, acc=0.3795, loss=1.0988]\n"
          ]
        },
        {
          "output_type": "stream",
          "name": "stdout",
          "text": [
            "Epoch 1/30 Train loss: 1.0988 Acc: 0.3795\n",
            "Epoch 1/30 Test loss: 1.0712 Acc: 0.5410 F1: 0.4231 Subgroup: Light tones\n",
            "Counter({np.int64(0): 274, np.int64(1): 60, np.int64(2): 56}) Counter({np.int64(0): 216, np.int64(1): 118, np.int64(2): 56})\n",
            "              precision    recall  f1-score   support\n",
            "\n",
            "           0       0.77      0.61      0.68       274\n",
            "           1       0.27      0.53      0.36        60\n",
            "           2       0.23      0.23      0.23        56\n",
            "\n",
            "    accuracy                           0.54       390\n",
            "   macro avg       0.42      0.46      0.42       390\n",
            "weighted avg       0.61      0.54      0.56       390\n",
            "\n",
            "Epoch 1/30 Test loss: 1.0443 Acc: 0.5909 F1: 0.4182 Subgroup: Dark tones\n",
            "Counter({np.int64(0): 89, np.int64(1): 11, np.int64(2): 10}) Counter({np.int64(0): 64, np.int64(1): 27, np.int64(2): 19})\n",
            "              precision    recall  f1-score   support\n",
            "\n",
            "           0       0.88      0.63      0.73        89\n",
            "           1       0.22      0.55      0.32        11\n",
            "           2       0.16      0.30      0.21        10\n",
            "\n",
            "    accuracy                           0.59       110\n",
            "   macro avg       0.42      0.49      0.42       110\n",
            "weighted avg       0.74      0.59      0.64       110\n",
            "\n"
          ]
        },
        {
          "output_type": "stream",
          "name": "stderr",
          "text": [
            "Epoch 2/30: 100%|██████████| 7/7 [00:19<00:00,  2.74s/it, acc=0.6116, loss=0.9292]\n"
          ]
        },
        {
          "output_type": "stream",
          "name": "stdout",
          "text": [
            "Epoch 2/30 Train loss: 0.9292 Acc: 0.6116\n",
            "Epoch 2/30 Test loss: 1.0109 Acc: 0.5641 F1: 0.4567 Subgroup: Light tones\n",
            "Counter({np.int64(0): 274, np.int64(1): 60, np.int64(2): 56}) Counter({np.int64(0): 201, np.int64(1): 129, np.int64(2): 60})\n",
            "              precision    recall  f1-score   support\n",
            "\n",
            "           0       0.82      0.60      0.69       274\n",
            "           1       0.32      0.68      0.43        60\n",
            "           2       0.23      0.25      0.24        56\n",
            "\n",
            "    accuracy                           0.56       390\n",
            "   macro avg       0.46      0.51      0.46       390\n",
            "weighted avg       0.66      0.56      0.59       390\n",
            "\n",
            "Epoch 2/30 Test loss: 1.0360 Acc: 0.5000 F1: 0.3071 Subgroup: Dark tones\n",
            "Counter({np.int64(0): 89, np.int64(1): 11, np.int64(2): 10}) Counter({np.int64(0): 56, np.int64(1): 43, np.int64(2): 11})\n",
            "              precision    recall  f1-score   support\n",
            "\n",
            "           0       0.86      0.54      0.66        89\n",
            "           1       0.16      0.64      0.26        11\n",
            "           2       0.00      0.00      0.00        10\n",
            "\n",
            "    accuracy                           0.50       110\n",
            "   macro avg       0.34      0.39      0.31       110\n",
            "weighted avg       0.71      0.50      0.56       110\n",
            "\n"
          ]
        },
        {
          "output_type": "stream",
          "name": "stderr",
          "text": [
            "Epoch 3/30: 100%|██████████| 7/7 [00:13<00:00,  1.96s/it, acc=0.6886, loss=0.8127]\n"
          ]
        },
        {
          "output_type": "stream",
          "name": "stdout",
          "text": [
            "Epoch 3/30 Train loss: 0.8127 Acc: 0.6886\n",
            "Epoch 3/30 Test loss: 0.9704 Acc: 0.5538 F1: 0.4651 Subgroup: Light tones\n",
            "Counter({np.int64(0): 274, np.int64(1): 60, np.int64(2): 56}) Counter({np.int64(0): 187, np.int64(1): 125, np.int64(2): 78})\n",
            "              precision    recall  f1-score   support\n",
            "\n",
            "           0       0.83      0.57      0.68       274\n",
            "           1       0.34      0.72      0.46        60\n",
            "           2       0.22      0.30      0.25        56\n",
            "\n",
            "    accuracy                           0.55       390\n",
            "   macro avg       0.47      0.53      0.47       390\n",
            "weighted avg       0.67      0.55      0.58       390\n",
            "\n",
            "Epoch 3/30 Test loss: 1.0295 Acc: 0.5182 F1: 0.3591 Subgroup: Dark tones\n",
            "Counter({np.int64(0): 89, np.int64(1): 11, np.int64(2): 10}) Counter({np.int64(0): 52, np.int64(1): 44, np.int64(2): 14})\n",
            "              precision    recall  f1-score   support\n",
            "\n",
            "           0       0.90      0.53      0.67        89\n",
            "           1       0.20      0.82      0.33        11\n",
            "           2       0.07      0.10      0.08        10\n",
            "\n",
            "    accuracy                           0.52       110\n",
            "   macro avg       0.39      0.48      0.36       110\n",
            "weighted avg       0.76      0.52      0.58       110\n",
            "\n"
          ]
        },
        {
          "output_type": "stream",
          "name": "stderr",
          "text": [
            "Epoch 4/30: 100%|██████████| 7/7 [00:13<00:00,  1.95s/it, acc=0.7489, loss=0.7126]\n"
          ]
        },
        {
          "output_type": "stream",
          "name": "stdout",
          "text": [
            "Epoch 4/30 Train loss: 0.7126 Acc: 0.7489\n",
            "Epoch 4/30 Test loss: 0.9468 Acc: 0.5769 F1: 0.4895 Subgroup: Light tones\n",
            "Counter({np.int64(0): 274, np.int64(1): 60, np.int64(2): 56}) Counter({np.int64(0): 193, np.int64(1): 120, np.int64(2): 77})\n",
            "              precision    recall  f1-score   support\n",
            "\n",
            "           0       0.84      0.59      0.69       274\n",
            "           1       0.37      0.73      0.49        60\n",
            "           2       0.25      0.34      0.29        56\n",
            "\n",
            "    accuracy                           0.58       390\n",
            "   macro avg       0.48      0.55      0.49       390\n",
            "weighted avg       0.68      0.58      0.60       390\n",
            "\n",
            "Epoch 4/30 Test loss: 1.0030 Acc: 0.5364 F1: 0.3919 Subgroup: Dark tones\n",
            "Counter({np.int64(0): 89, np.int64(1): 11, np.int64(2): 10}) Counter({np.int64(0): 53, np.int64(1): 42, np.int64(2): 15})\n",
            "              precision    recall  f1-score   support\n",
            "\n",
            "           0       0.91      0.54      0.68        89\n",
            "           1       0.21      0.82      0.34        11\n",
            "           2       0.13      0.20      0.16        10\n",
            "\n",
            "    accuracy                           0.54       110\n",
            "   macro avg       0.42      0.52      0.39       110\n",
            "weighted avg       0.77      0.54      0.60       110\n",
            "\n"
          ]
        },
        {
          "output_type": "stream",
          "name": "stderr",
          "text": [
            "Epoch 5/30: 100%|██████████| 7/7 [00:13<00:00,  1.97s/it, acc=0.7746, loss=0.6108]\n"
          ]
        },
        {
          "output_type": "stream",
          "name": "stdout",
          "text": [
            "Epoch 5/30 Train loss: 0.6108 Acc: 0.7746\n",
            "Epoch 5/30 Test loss: 0.9357 Acc: 0.5974 F1: 0.5013 Subgroup: Light tones\n",
            "Counter({np.int64(0): 274, np.int64(1): 60, np.int64(2): 56}) Counter({np.int64(0): 209, np.int64(1): 102, np.int64(2): 79})\n",
            "              precision    recall  f1-score   support\n",
            "\n",
            "           0       0.83      0.63      0.72       274\n",
            "           1       0.40      0.68      0.51        60\n",
            "           2       0.24      0.34      0.28        56\n",
            "\n",
            "    accuracy                           0.60       390\n",
            "   macro avg       0.49      0.55      0.50       390\n",
            "weighted avg       0.68      0.60      0.62       390\n",
            "\n",
            "Epoch 5/30 Test loss: 0.9797 Acc: 0.5364 F1: 0.4056 Subgroup: Dark tones\n",
            "Counter({np.int64(0): 89, np.int64(1): 11, np.int64(2): 10}) Counter({np.int64(0): 54, np.int64(1): 33, np.int64(2): 23})\n",
            "              precision    recall  f1-score   support\n",
            "\n",
            "           0       0.89      0.54      0.67        89\n",
            "           1       0.24      0.73      0.36        11\n",
            "           2       0.13      0.30      0.18        10\n",
            "\n",
            "    accuracy                           0.54       110\n",
            "   macro avg       0.42      0.52      0.41       110\n",
            "weighted avg       0.76      0.54      0.60       110\n",
            "\n"
          ]
        },
        {
          "output_type": "stream",
          "name": "stderr",
          "text": [
            "Epoch 6/30: 100%|██████████| 7/7 [00:13<00:00,  1.96s/it, acc=0.8114, loss=0.5095]\n"
          ]
        },
        {
          "output_type": "stream",
          "name": "stdout",
          "text": [
            "Epoch 6/30 Train loss: 0.5095 Acc: 0.8114\n",
            "Epoch 6/30 Test loss: 0.9334 Acc: 0.5949 F1: 0.4977 Subgroup: Light tones\n",
            "Counter({np.int64(0): 274, np.int64(1): 60, np.int64(2): 56}) Counter({np.int64(0): 214, np.int64(1): 89, np.int64(2): 87})\n",
            "              precision    recall  f1-score   support\n",
            "\n",
            "           0       0.82      0.64      0.72       274\n",
            "           1       0.43      0.63      0.51        60\n",
            "           2       0.22      0.34      0.27        56\n",
            "\n",
            "    accuracy                           0.59       390\n",
            "   macro avg       0.49      0.54      0.50       390\n",
            "weighted avg       0.67      0.59      0.62       390\n",
            "\n",
            "Epoch 6/30 Test loss: 0.9672 Acc: 0.6000 F1: 0.4492 Subgroup: Dark tones\n",
            "Counter({np.int64(0): 89, np.int64(1): 11, np.int64(2): 10}) Counter({np.int64(0): 61, np.int64(1): 26, np.int64(2): 23})\n",
            "              precision    recall  f1-score   support\n",
            "\n",
            "           0       0.90      0.62      0.73        89\n",
            "           1       0.31      0.73      0.43        11\n",
            "           2       0.13      0.30      0.18        10\n",
            "\n",
            "    accuracy                           0.60       110\n",
            "   macro avg       0.45      0.55      0.45       110\n",
            "weighted avg       0.77      0.60      0.65       110\n",
            "\n"
          ]
        },
        {
          "output_type": "stream",
          "name": "stderr",
          "text": [
            "Epoch 7/30: 100%|██████████| 7/7 [00:17<00:00,  2.46s/it, acc=0.8504, loss=0.4170]\n"
          ]
        },
        {
          "output_type": "stream",
          "name": "stdout",
          "text": [
            "Epoch 7/30 Train loss: 0.4170 Acc: 0.8504\n",
            "Epoch 7/30 Test loss: 0.9284 Acc: 0.6154 F1: 0.5117 Subgroup: Light tones\n",
            "Counter({np.int64(0): 274, np.int64(1): 60, np.int64(2): 56}) Counter({np.int64(0): 224, np.int64(2): 86, np.int64(1): 80})\n",
            "              precision    recall  f1-score   support\n",
            "\n",
            "           0       0.82      0.67      0.74       274\n",
            "           1       0.46      0.62      0.53        60\n",
            "           2       0.22      0.34      0.27        56\n",
            "\n",
            "    accuracy                           0.62       390\n",
            "   macro avg       0.50      0.54      0.51       390\n",
            "weighted avg       0.68      0.62      0.64       390\n",
            "\n",
            "Epoch 7/30 Test loss: 0.9637 Acc: 0.6273 F1: 0.4523 Subgroup: Dark tones\n",
            "Counter({np.int64(0): 89, np.int64(1): 11, np.int64(2): 10}) Counter({np.int64(0): 67, np.int64(1): 26, np.int64(2): 17})\n",
            "              precision    recall  f1-score   support\n",
            "\n",
            "           0       0.88      0.66      0.76        89\n",
            "           1       0.27      0.64      0.38        11\n",
            "           2       0.18      0.30      0.22        10\n",
            "\n",
            "    accuracy                           0.63       110\n",
            "   macro avg       0.44      0.53      0.45       110\n",
            "weighted avg       0.76      0.63      0.67       110\n",
            "\n"
          ]
        },
        {
          "output_type": "stream",
          "name": "stderr",
          "text": [
            "Epoch 8/30: 100%|██████████| 7/7 [00:15<00:00,  2.28s/it, acc=0.8672, loss=0.3632]\n"
          ]
        },
        {
          "output_type": "stream",
          "name": "stdout",
          "text": [
            "Epoch 8/30 Train loss: 0.3632 Acc: 0.8672\n",
            "Epoch 8/30 Test loss: 0.9319 Acc: 0.6333 F1: 0.5130 Subgroup: Light tones\n",
            "Counter({np.int64(0): 274, np.int64(1): 60, np.int64(2): 56}) Counter({np.int64(0): 240, np.int64(2): 76, np.int64(1): 74})\n",
            "              precision    recall  f1-score   support\n",
            "\n",
            "           0       0.81      0.71      0.76       274\n",
            "           1       0.46      0.57      0.51        60\n",
            "           2       0.24      0.32      0.27        56\n",
            "\n",
            "    accuracy                           0.63       390\n",
            "   macro avg       0.50      0.53      0.51       390\n",
            "weighted avg       0.68      0.63      0.65       390\n",
            "\n",
            "Epoch 8/30 Test loss: 0.9722 Acc: 0.6364 F1: 0.4348 Subgroup: Dark tones\n",
            "Counter({np.int64(0): 89, np.int64(1): 11, np.int64(2): 10}) Counter({np.int64(0): 72, np.int64(1): 23, np.int64(2): 15})\n",
            "              precision    recall  f1-score   support\n",
            "\n",
            "           0       0.86      0.70      0.77        89\n",
            "           1       0.22      0.45      0.29        11\n",
            "           2       0.20      0.30      0.24        10\n",
            "\n",
            "    accuracy                           0.64       110\n",
            "   macro avg       0.43      0.48      0.43       110\n",
            "weighted avg       0.74      0.64      0.67       110\n",
            "\n"
          ]
        },
        {
          "output_type": "stream",
          "name": "stderr",
          "text": [
            "Epoch 9/30: 100%|██████████| 7/7 [00:16<00:00,  2.32s/it, acc=0.9118, loss=0.2939]\n"
          ]
        },
        {
          "output_type": "stream",
          "name": "stdout",
          "text": [
            "Epoch 9/30 Train loss: 0.2939 Acc: 0.9118\n",
            "Epoch 9/30 Test loss: 0.9555 Acc: 0.6590 F1: 0.5250 Subgroup: Light tones\n",
            "Counter({np.int64(0): 274, np.int64(1): 60, np.int64(2): 56}) Counter({np.int64(0): 256, np.int64(2): 72, np.int64(1): 62})\n",
            "              precision    recall  f1-score   support\n",
            "\n",
            "           0       0.81      0.76      0.78       274\n",
            "           1       0.52      0.53      0.52        60\n",
            "           2       0.24      0.30      0.27        56\n",
            "\n",
            "    accuracy                           0.66       390\n",
            "   macro avg       0.52      0.53      0.53       390\n",
            "weighted avg       0.68      0.66      0.67       390\n",
            "\n",
            "Epoch 9/30 Test loss: 0.9778 Acc: 0.6636 F1: 0.4517 Subgroup: Dark tones\n",
            "Counter({np.int64(0): 89, np.int64(1): 11, np.int64(2): 10}) Counter({np.int64(0): 75, np.int64(1): 21, np.int64(2): 14})\n",
            "              precision    recall  f1-score   support\n",
            "\n",
            "           0       0.87      0.73      0.79        89\n",
            "           1       0.24      0.45      0.31        11\n",
            "           2       0.21      0.30      0.25        10\n",
            "\n",
            "    accuracy                           0.66       110\n",
            "   macro avg       0.44      0.49      0.45       110\n",
            "weighted avg       0.74      0.66      0.70       110\n",
            "\n"
          ]
        },
        {
          "output_type": "stream",
          "name": "stderr",
          "text": [
            "Epoch 10/30: 100%|██████████| 7/7 [00:13<00:00,  1.99s/it, acc=0.9252, loss=0.2456]\n"
          ]
        },
        {
          "output_type": "stream",
          "name": "stdout",
          "text": [
            "Epoch 10/30 Train loss: 0.2456 Acc: 0.9252\n",
            "Epoch 10/30 Test loss: 0.9827 Acc: 0.6872 F1: 0.5356 Subgroup: Light tones\n",
            "Counter({np.int64(0): 274, np.int64(1): 60, np.int64(2): 56}) Counter({np.int64(0): 271, np.int64(1): 60, np.int64(2): 59})\n",
            "              precision    recall  f1-score   support\n",
            "\n",
            "           0       0.82      0.81      0.81       274\n",
            "           1       0.50      0.50      0.50        60\n",
            "           2       0.29      0.30      0.30        56\n",
            "\n",
            "    accuracy                           0.69       390\n",
            "   macro avg       0.53      0.54      0.54       390\n",
            "weighted avg       0.69      0.69      0.69       390\n",
            "\n",
            "Epoch 10/30 Test loss: 0.9970 Acc: 0.6909 F1: 0.4175 Subgroup: Dark tones\n",
            "Counter({np.int64(0): 89, np.int64(1): 11, np.int64(2): 10}) Counter({np.int64(0): 82, np.int64(1): 20, np.int64(2): 8})\n",
            "              precision    recall  f1-score   support\n",
            "\n",
            "           0       0.85      0.79      0.82        89\n",
            "           1       0.25      0.45      0.32        11\n",
            "           2       0.12      0.10      0.11        10\n",
            "\n",
            "    accuracy                           0.69       110\n",
            "   macro avg       0.41      0.45      0.42       110\n",
            "weighted avg       0.73      0.69      0.70       110\n",
            "\n"
          ]
        },
        {
          "output_type": "stream",
          "name": "stderr",
          "text": [
            "Epoch 11/30: 100%|██████████| 7/7 [00:14<00:00,  2.02s/it, acc=0.9397, loss=0.2025]\n"
          ]
        },
        {
          "output_type": "stream",
          "name": "stdout",
          "text": [
            "Epoch 11/30 Train loss: 0.2025 Acc: 0.9397\n",
            "Epoch 11/30 Test loss: 1.0113 Acc: 0.7026 F1: 0.5463 Subgroup: Light tones\n",
            "Counter({np.int64(0): 274, np.int64(1): 60, np.int64(2): 56}) Counter({np.int64(0): 278, np.int64(1): 58, np.int64(2): 54})\n",
            "              precision    recall  f1-score   support\n",
            "\n",
            "           0       0.82      0.83      0.82       274\n",
            "           1       0.53      0.52      0.53        60\n",
            "           2       0.30      0.29      0.29        56\n",
            "\n",
            "    accuracy                           0.70       390\n",
            "   macro avg       0.55      0.54      0.55       390\n",
            "weighted avg       0.70      0.70      0.70       390\n",
            "\n",
            "Epoch 11/30 Test loss: 1.0217 Acc: 0.6909 F1: 0.4175 Subgroup: Dark tones\n",
            "Counter({np.int64(0): 89, np.int64(1): 11, np.int64(2): 10}) Counter({np.int64(0): 82, np.int64(1): 20, np.int64(2): 8})\n",
            "              precision    recall  f1-score   support\n",
            "\n",
            "           0       0.85      0.79      0.82        89\n",
            "           1       0.25      0.45      0.32        11\n",
            "           2       0.12      0.10      0.11        10\n",
            "\n",
            "    accuracy                           0.69       110\n",
            "   macro avg       0.41      0.45      0.42       110\n",
            "weighted avg       0.73      0.69      0.70       110\n",
            "\n"
          ]
        },
        {
          "output_type": "stream",
          "name": "stderr",
          "text": [
            "Epoch 12/30: 100%|██████████| 7/7 [00:14<00:00,  2.04s/it, acc=0.9721, loss=0.1578]\n"
          ]
        },
        {
          "output_type": "stream",
          "name": "stdout",
          "text": [
            "Epoch 12/30 Train loss: 0.1578 Acc: 0.9721\n",
            "Epoch 12/30 Test loss: 1.0529 Acc: 0.7205 F1: 0.5527 Subgroup: Light tones\n",
            "Counter({np.int64(0): 274, np.int64(1): 60, np.int64(2): 56}) Counter({np.int64(0): 290, np.int64(1): 58, np.int64(2): 42})\n",
            "              precision    recall  f1-score   support\n",
            "\n",
            "           0       0.81      0.86      0.83       274\n",
            "           1       0.57      0.55      0.56        60\n",
            "           2       0.31      0.23      0.27        56\n",
            "\n",
            "    accuracy                           0.72       390\n",
            "   macro avg       0.56      0.55      0.55       390\n",
            "weighted avg       0.70      0.72      0.71       390\n",
            "\n",
            "Epoch 12/30 Test loss: 1.0593 Acc: 0.7455 F1: 0.4354 Subgroup: Dark tones\n",
            "Counter({np.int64(0): 89, np.int64(1): 11, np.int64(2): 10}) Counter({np.int64(0): 91, np.int64(1): 15, np.int64(2): 4})\n",
            "              precision    recall  f1-score   support\n",
            "\n",
            "           0       0.85      0.87      0.86        89\n",
            "           1       0.27      0.36      0.31        11\n",
            "           2       0.25      0.10      0.14        10\n",
            "\n",
            "    accuracy                           0.75       110\n",
            "   macro avg       0.45      0.44      0.44       110\n",
            "weighted avg       0.73      0.75      0.74       110\n",
            "\n"
          ]
        },
        {
          "output_type": "stream",
          "name": "stderr",
          "text": [
            "Epoch 13/30: 100%|██████████| 7/7 [00:14<00:00,  2.12s/it, acc=0.9821, loss=0.1284]\n"
          ]
        },
        {
          "output_type": "stream",
          "name": "stdout",
          "text": [
            "Epoch 13/30 Train loss: 0.1284 Acc: 0.9821\n",
            "Epoch 13/30 Test loss: 1.1017 Acc: 0.7231 F1: 0.5561 Subgroup: Light tones\n",
            "Counter({np.int64(0): 274, np.int64(1): 60, np.int64(2): 56}) Counter({np.int64(0): 292, np.int64(1): 56, np.int64(2): 42})\n",
            "              precision    recall  f1-score   support\n",
            "\n",
            "           0       0.81      0.86      0.83       274\n",
            "           1       0.59      0.55      0.57        60\n",
            "           2       0.31      0.23      0.27        56\n",
            "\n",
            "    accuracy                           0.72       390\n",
            "   macro avg       0.57      0.55      0.56       390\n",
            "weighted avg       0.70      0.72      0.71       390\n",
            "\n",
            "Epoch 13/30 Test loss: 1.1040 Acc: 0.7455 F1: 0.4379 Subgroup: Dark tones\n",
            "Counter({np.int64(0): 89, np.int64(1): 11, np.int64(2): 10}) Counter({np.int64(0): 92, np.int64(1): 14, np.int64(2): 4})\n",
            "              precision    recall  f1-score   support\n",
            "\n",
            "           0       0.84      0.87      0.85        89\n",
            "           1       0.29      0.36      0.32        11\n",
            "           2       0.25      0.10      0.14        10\n",
            "\n",
            "    accuracy                           0.75       110\n",
            "   macro avg       0.46      0.44      0.44       110\n",
            "weighted avg       0.73      0.75      0.73       110\n",
            "\n"
          ]
        },
        {
          "output_type": "stream",
          "name": "stderr",
          "text": [
            "Epoch 14/30: 100%|██████████| 7/7 [00:14<00:00,  2.12s/it, acc=0.9810, loss=0.1047]\n"
          ]
        },
        {
          "output_type": "stream",
          "name": "stdout",
          "text": [
            "Epoch 14/30 Train loss: 0.1047 Acc: 0.9810\n",
            "Epoch 14/30 Test loss: 1.1605 Acc: 0.7231 F1: 0.5435 Subgroup: Light tones\n",
            "Counter({np.int64(0): 274, np.int64(1): 60, np.int64(2): 56}) Counter({np.int64(0): 299, np.int64(1): 50, np.int64(2): 41})\n",
            "              precision    recall  f1-score   support\n",
            "\n",
            "           0       0.80      0.88      0.84       274\n",
            "           1       0.60      0.50      0.55        60\n",
            "           2       0.29      0.21      0.25        56\n",
            "\n",
            "    accuracy                           0.72       390\n",
            "   macro avg       0.57      0.53      0.54       390\n",
            "weighted avg       0.70      0.72      0.71       390\n",
            "\n",
            "Epoch 14/30 Test loss: 1.1620 Acc: 0.7455 F1: 0.4379 Subgroup: Dark tones\n",
            "Counter({np.int64(0): 89, np.int64(1): 11, np.int64(2): 10}) Counter({np.int64(0): 92, np.int64(1): 14, np.int64(2): 4})\n",
            "              precision    recall  f1-score   support\n",
            "\n",
            "           0       0.84      0.87      0.85        89\n",
            "           1       0.29      0.36      0.32        11\n",
            "           2       0.25      0.10      0.14        10\n",
            "\n",
            "    accuracy                           0.75       110\n",
            "   macro avg       0.46      0.44      0.44       110\n",
            "weighted avg       0.73      0.75      0.73       110\n",
            "\n"
          ]
        },
        {
          "output_type": "stream",
          "name": "stderr",
          "text": [
            "Epoch 15/30: 100%|██████████| 7/7 [00:13<00:00,  1.94s/it, acc=0.9933, loss=0.0834]\n"
          ]
        },
        {
          "output_type": "stream",
          "name": "stdout",
          "text": [
            "Epoch 15/30 Train loss: 0.0834 Acc: 0.9933\n",
            "Epoch 15/30 Test loss: 1.2038 Acc: 0.7231 F1: 0.5450 Subgroup: Light tones\n",
            "Counter({np.int64(0): 274, np.int64(1): 60, np.int64(2): 56}) Counter({np.int64(0): 299, np.int64(1): 49, np.int64(2): 42})\n",
            "              precision    recall  f1-score   support\n",
            "\n",
            "           0       0.80      0.88      0.84       274\n",
            "           1       0.59      0.48      0.53        60\n",
            "           2       0.31      0.23      0.27        56\n",
            "\n",
            "    accuracy                           0.72       390\n",
            "   macro avg       0.57      0.53      0.55       390\n",
            "weighted avg       0.70      0.72      0.71       390\n",
            "\n",
            "Epoch 15/30 Test loss: 1.2136 Acc: 0.7636 F1: 0.4514 Subgroup: Dark tones\n",
            "Counter({np.int64(0): 89, np.int64(1): 11, np.int64(2): 10}) Counter({np.int64(0): 94, np.int64(1): 12, np.int64(2): 4})\n",
            "              precision    recall  f1-score   support\n",
            "\n",
            "           0       0.84      0.89      0.86        89\n",
            "           1       0.33      0.36      0.35        11\n",
            "           2       0.25      0.10      0.14        10\n",
            "\n",
            "    accuracy                           0.76       110\n",
            "   macro avg       0.47      0.45      0.45       110\n",
            "weighted avg       0.74      0.76      0.75       110\n",
            "\n"
          ]
        },
        {
          "output_type": "stream",
          "name": "stderr",
          "text": [
            "Epoch 16/30: 100%|██████████| 7/7 [00:15<00:00,  2.27s/it, acc=0.9978, loss=0.0630]\n"
          ]
        },
        {
          "output_type": "stream",
          "name": "stdout",
          "text": [
            "Epoch 16/30 Train loss: 0.0630 Acc: 0.9978\n",
            "Epoch 16/30 Test loss: 1.2568 Acc: 0.7231 F1: 0.5346 Subgroup: Light tones\n",
            "Counter({np.int64(0): 274, np.int64(1): 60, np.int64(2): 56}) Counter({np.int64(0): 304, np.int64(1): 50, np.int64(2): 36})\n",
            "              precision    recall  f1-score   support\n",
            "\n",
            "           0       0.80      0.88      0.84       274\n",
            "           1       0.58      0.48      0.53        60\n",
            "           2       0.31      0.20      0.24        56\n",
            "\n",
            "    accuracy                           0.72       390\n",
            "   macro avg       0.56      0.52      0.53       390\n",
            "weighted avg       0.69      0.72      0.70       390\n",
            "\n",
            "Epoch 16/30 Test loss: 1.2835 Acc: 0.7818 F1: 0.4634 Subgroup: Dark tones\n",
            "Counter({np.int64(0): 89, np.int64(1): 11, np.int64(2): 10}) Counter({np.int64(0): 96, np.int64(1): 12, np.int64(2): 2})\n",
            "              precision    recall  f1-score   support\n",
            "\n",
            "           0       0.84      0.91      0.88        89\n",
            "           1       0.33      0.36      0.35        11\n",
            "           2       0.50      0.10      0.17        10\n",
            "\n",
            "    accuracy                           0.78       110\n",
            "   macro avg       0.56      0.46      0.46       110\n",
            "weighted avg       0.76      0.78      0.76       110\n",
            "\n"
          ]
        },
        {
          "output_type": "stream",
          "name": "stderr",
          "text": [
            "Epoch 17/30: 100%|██████████| 7/7 [00:15<00:00,  2.18s/it, acc=0.9967, loss=0.0498]\n"
          ]
        },
        {
          "output_type": "stream",
          "name": "stdout",
          "text": [
            "Epoch 17/30 Train loss: 0.0498 Acc: 0.9967\n",
            "Epoch 17/30 Test loss: 1.2862 Acc: 0.7333 F1: 0.5522 Subgroup: Light tones\n",
            "Counter({np.int64(0): 274, np.int64(1): 60, np.int64(2): 56}) Counter({np.int64(0): 300, np.int64(1): 56, np.int64(2): 34})\n",
            "              precision    recall  f1-score   support\n",
            "\n",
            "           0       0.81      0.88      0.84       274\n",
            "           1       0.59      0.55      0.57        60\n",
            "           2       0.32      0.20      0.24        56\n",
            "\n",
            "    accuracy                           0.73       390\n",
            "   macro avg       0.57      0.54      0.55       390\n",
            "weighted avg       0.70      0.73      0.72       390\n",
            "\n",
            "Epoch 17/30 Test loss: 1.3284 Acc: 0.7818 F1: 0.4634 Subgroup: Dark tones\n",
            "Counter({np.int64(0): 89, np.int64(1): 11, np.int64(2): 10}) Counter({np.int64(0): 96, np.int64(1): 12, np.int64(2): 2})\n",
            "              precision    recall  f1-score   support\n",
            "\n",
            "           0       0.84      0.91      0.88        89\n",
            "           1       0.33      0.36      0.35        11\n",
            "           2       0.50      0.10      0.17        10\n",
            "\n",
            "    accuracy                           0.78       110\n",
            "   macro avg       0.56      0.46      0.46       110\n",
            "weighted avg       0.76      0.78      0.76       110\n",
            "\n"
          ]
        },
        {
          "output_type": "stream",
          "name": "stderr",
          "text": [
            "Epoch 18/30: 100%|██████████| 7/7 [00:14<00:00,  2.08s/it, acc=0.9978, loss=0.0378]\n"
          ]
        },
        {
          "output_type": "stream",
          "name": "stdout",
          "text": [
            "Epoch 18/30 Train loss: 0.0378 Acc: 0.9978\n",
            "Epoch 18/30 Test loss: 1.3453 Acc: 0.7333 F1: 0.5440 Subgroup: Light tones\n",
            "Counter({np.int64(0): 274, np.int64(1): 60, np.int64(2): 56}) Counter({np.int64(0): 307, np.int64(1): 52, np.int64(2): 31})\n",
            "              precision    recall  f1-score   support\n",
            "\n",
            "           0       0.80      0.89      0.84       274\n",
            "           1       0.58      0.50      0.54        60\n",
            "           2       0.35      0.20      0.25        56\n",
            "\n",
            "    accuracy                           0.73       390\n",
            "   macro avg       0.58      0.53      0.54       390\n",
            "weighted avg       0.70      0.73      0.71       390\n",
            "\n",
            "Epoch 18/30 Test loss: 1.3943 Acc: 0.7818 F1: 0.4634 Subgroup: Dark tones\n",
            "Counter({np.int64(0): 89, np.int64(1): 11, np.int64(2): 10}) Counter({np.int64(0): 96, np.int64(1): 12, np.int64(2): 2})\n",
            "              precision    recall  f1-score   support\n",
            "\n",
            "           0       0.84      0.91      0.88        89\n",
            "           1       0.33      0.36      0.35        11\n",
            "           2       0.50      0.10      0.17        10\n",
            "\n",
            "    accuracy                           0.78       110\n",
            "   macro avg       0.56      0.46      0.46       110\n",
            "weighted avg       0.76      0.78      0.76       110\n",
            "\n"
          ]
        },
        {
          "output_type": "stream",
          "name": "stderr",
          "text": [
            "Epoch 19/30: 100%|██████████| 7/7 [00:13<00:00,  1.97s/it, acc=0.9989, loss=0.0309]\n"
          ]
        },
        {
          "output_type": "stream",
          "name": "stdout",
          "text": [
            "Epoch 19/30 Train loss: 0.0309 Acc: 0.9989\n",
            "Epoch 19/30 Test loss: 1.3821 Acc: 0.7256 F1: 0.5417 Subgroup: Light tones\n",
            "Counter({np.int64(0): 274, np.int64(1): 60, np.int64(2): 56}) Counter({np.int64(0): 302, np.int64(1): 54, np.int64(2): 34})\n",
            "              precision    recall  f1-score   support\n",
            "\n",
            "           0       0.80      0.88      0.84       274\n",
            "           1       0.57      0.52      0.54        60\n",
            "           2       0.32      0.20      0.24        56\n",
            "\n",
            "    accuracy                           0.73       390\n",
            "   macro avg       0.57      0.53      0.54       390\n",
            "weighted avg       0.70      0.73      0.71       390\n",
            "\n",
            "Epoch 19/30 Test loss: 1.4350 Acc: 0.7727 F1: 0.4565 Subgroup: Dark tones\n",
            "Counter({np.int64(0): 89, np.int64(1): 11, np.int64(2): 10}) Counter({np.int64(0): 95, np.int64(1): 13, np.int64(2): 2})\n",
            "              precision    recall  f1-score   support\n",
            "\n",
            "           0       0.84      0.90      0.87        89\n",
            "           1       0.31      0.36      0.33        11\n",
            "           2       0.50      0.10      0.17        10\n",
            "\n",
            "    accuracy                           0.77       110\n",
            "   macro avg       0.55      0.45      0.46       110\n",
            "weighted avg       0.76      0.77      0.75       110\n",
            "\n"
          ]
        },
        {
          "output_type": "stream",
          "name": "stderr",
          "text": [
            "Epoch 20/30: 100%|██████████| 7/7 [00:15<00:00,  2.25s/it, acc=0.9989, loss=0.0269]\n"
          ]
        },
        {
          "output_type": "stream",
          "name": "stdout",
          "text": [
            "Epoch 20/30 Train loss: 0.0269 Acc: 0.9989\n",
            "Epoch 20/30 Test loss: 1.4115 Acc: 0.7231 F1: 0.5343 Subgroup: Light tones\n",
            "Counter({np.int64(0): 274, np.int64(1): 60, np.int64(2): 56}) Counter({np.int64(0): 305, np.int64(1): 51, np.int64(2): 34})\n",
            "              precision    recall  f1-score   support\n",
            "\n",
            "           0       0.79      0.88      0.84       274\n",
            "           1       0.57      0.48      0.52        60\n",
            "           2       0.32      0.20      0.24        56\n",
            "\n",
            "    accuracy                           0.72       390\n",
            "   macro avg       0.56      0.52      0.53       390\n",
            "weighted avg       0.69      0.72      0.70       390\n",
            "\n",
            "Epoch 20/30 Test loss: 1.4715 Acc: 0.7727 F1: 0.4565 Subgroup: Dark tones\n",
            "Counter({np.int64(0): 89, np.int64(1): 11, np.int64(2): 10}) Counter({np.int64(0): 95, np.int64(1): 13, np.int64(2): 2})\n",
            "              precision    recall  f1-score   support\n",
            "\n",
            "           0       0.84      0.90      0.87        89\n",
            "           1       0.31      0.36      0.33        11\n",
            "           2       0.50      0.10      0.17        10\n",
            "\n",
            "    accuracy                           0.77       110\n",
            "   macro avg       0.55      0.45      0.46       110\n",
            "weighted avg       0.76      0.77      0.75       110\n",
            "\n"
          ]
        },
        {
          "output_type": "stream",
          "name": "stderr",
          "text": [
            "Epoch 21/30: 100%|██████████| 7/7 [00:17<00:00,  2.46s/it, acc=1.0000, loss=0.0212]\n"
          ]
        },
        {
          "output_type": "stream",
          "name": "stdout",
          "text": [
            "Epoch 21/30 Train loss: 0.0212 Acc: 1.0000\n",
            "Epoch 21/30 Test loss: 1.4499 Acc: 0.7205 F1: 0.5257 Subgroup: Light tones\n",
            "Counter({np.int64(0): 274, np.int64(1): 60, np.int64(2): 56}) Counter({np.int64(0): 306, np.int64(1): 48, np.int64(2): 36})\n",
            "              precision    recall  f1-score   support\n",
            "\n",
            "           0       0.79      0.89      0.84       274\n",
            "           1       0.56      0.45      0.50        60\n",
            "           2       0.31      0.20      0.24        56\n",
            "\n",
            "    accuracy                           0.72       390\n",
            "   macro avg       0.55      0.51      0.53       390\n",
            "weighted avg       0.69      0.72      0.70       390\n",
            "\n",
            "Epoch 21/30 Test loss: 1.5196 Acc: 0.7727 F1: 0.4565 Subgroup: Dark tones\n",
            "Counter({np.int64(0): 89, np.int64(1): 11, np.int64(2): 10}) Counter({np.int64(0): 95, np.int64(1): 13, np.int64(2): 2})\n",
            "              precision    recall  f1-score   support\n",
            "\n",
            "           0       0.84      0.90      0.87        89\n",
            "           1       0.31      0.36      0.33        11\n",
            "           2       0.50      0.10      0.17        10\n",
            "\n",
            "    accuracy                           0.77       110\n",
            "   macro avg       0.55      0.45      0.46       110\n",
            "weighted avg       0.76      0.77      0.75       110\n",
            "\n"
          ]
        },
        {
          "output_type": "stream",
          "name": "stderr",
          "text": [
            "Epoch 22/30: 100%|██████████| 7/7 [00:13<00:00,  1.98s/it, acc=1.0000, loss=0.0177]\n"
          ]
        },
        {
          "output_type": "stream",
          "name": "stdout",
          "text": [
            "Epoch 22/30 Train loss: 0.0177 Acc: 1.0000\n",
            "Epoch 22/30 Test loss: 1.4704 Acc: 0.7231 F1: 0.5305 Subgroup: Light tones\n",
            "Counter({np.int64(0): 274, np.int64(1): 60, np.int64(2): 56}) Counter({np.int64(0): 306, np.int64(1): 50, np.int64(2): 34})\n",
            "              precision    recall  f1-score   support\n",
            "\n",
            "           0       0.79      0.89      0.84       274\n",
            "           1       0.56      0.47      0.51        60\n",
            "           2       0.32      0.20      0.24        56\n",
            "\n",
            "    accuracy                           0.72       390\n",
            "   macro avg       0.56      0.52      0.53       390\n",
            "weighted avg       0.69      0.72      0.70       390\n",
            "\n",
            "Epoch 22/30 Test loss: 1.5446 Acc: 0.7636 F1: 0.4500 Subgroup: Dark tones\n",
            "Counter({np.int64(0): 89, np.int64(1): 11, np.int64(2): 10}) Counter({np.int64(0): 94, np.int64(1): 14, np.int64(2): 2})\n",
            "              precision    recall  f1-score   support\n",
            "\n",
            "           0       0.84      0.89      0.86        89\n",
            "           1       0.29      0.36      0.32        11\n",
            "           2       0.50      0.10      0.17        10\n",
            "\n",
            "    accuracy                           0.76       110\n",
            "   macro avg       0.54      0.45      0.45       110\n",
            "weighted avg       0.75      0.76      0.75       110\n",
            "\n"
          ]
        },
        {
          "output_type": "stream",
          "name": "stderr",
          "text": [
            "Epoch 23/30: 100%|██████████| 7/7 [00:14<00:00,  2.05s/it, acc=1.0000, loss=0.0147]\n"
          ]
        },
        {
          "output_type": "stream",
          "name": "stdout",
          "text": [
            "Epoch 23/30 Train loss: 0.0147 Acc: 1.0000\n",
            "Epoch 23/30 Test loss: 1.4995 Acc: 0.7282 F1: 0.5308 Subgroup: Light tones\n",
            "Counter({np.int64(0): 274, np.int64(1): 60, np.int64(2): 56}) Counter({np.int64(0): 308, np.int64(1): 52, np.int64(2): 30})\n",
            "              precision    recall  f1-score   support\n",
            "\n",
            "           0       0.80      0.89      0.84       274\n",
            "           1       0.56      0.48      0.52        60\n",
            "           2       0.33      0.18      0.23        56\n",
            "\n",
            "    accuracy                           0.73       390\n",
            "   macro avg       0.56      0.52      0.53       390\n",
            "weighted avg       0.69      0.73      0.70       390\n",
            "\n",
            "Epoch 23/30 Test loss: 1.5670 Acc: 0.7545 F1: 0.4438 Subgroup: Dark tones\n",
            "Counter({np.int64(0): 89, np.int64(1): 11, np.int64(2): 10}) Counter({np.int64(0): 93, np.int64(1): 15, np.int64(2): 2})\n",
            "              precision    recall  f1-score   support\n",
            "\n",
            "           0       0.84      0.88      0.86        89\n",
            "           1       0.27      0.36      0.31        11\n",
            "           2       0.50      0.10      0.17        10\n",
            "\n",
            "    accuracy                           0.75       110\n",
            "   macro avg       0.54      0.45      0.44       110\n",
            "weighted avg       0.75      0.75      0.74       110\n",
            "\n"
          ]
        },
        {
          "output_type": "stream",
          "name": "stderr",
          "text": [
            "Epoch 24/30: 100%|██████████| 7/7 [00:14<00:00,  2.12s/it, acc=1.0000, loss=0.0126]\n"
          ]
        },
        {
          "output_type": "stream",
          "name": "stdout",
          "text": [
            "Epoch 24/30 Train loss: 0.0126 Acc: 1.0000\n",
            "Epoch 24/30 Test loss: 1.5394 Acc: 0.7282 F1: 0.5287 Subgroup: Light tones\n",
            "Counter({np.int64(0): 274, np.int64(1): 60, np.int64(2): 56}) Counter({np.int64(0): 310, np.int64(1): 49, np.int64(2): 31})\n",
            "              precision    recall  f1-score   support\n",
            "\n",
            "           0       0.79      0.90      0.84       274\n",
            "           1       0.57      0.47      0.51        60\n",
            "           2       0.32      0.18      0.23        56\n",
            "\n",
            "    accuracy                           0.73       390\n",
            "   macro avg       0.56      0.51      0.53       390\n",
            "weighted avg       0.69      0.73      0.70       390\n",
            "\n",
            "Epoch 24/30 Test loss: 1.6143 Acc: 0.7636 F1: 0.4500 Subgroup: Dark tones\n",
            "Counter({np.int64(0): 89, np.int64(1): 11, np.int64(2): 10}) Counter({np.int64(0): 94, np.int64(1): 14, np.int64(2): 2})\n",
            "              precision    recall  f1-score   support\n",
            "\n",
            "           0       0.84      0.89      0.86        89\n",
            "           1       0.29      0.36      0.32        11\n",
            "           2       0.50      0.10      0.17        10\n",
            "\n",
            "    accuracy                           0.76       110\n",
            "   macro avg       0.54      0.45      0.45       110\n",
            "weighted avg       0.75      0.76      0.75       110\n",
            "\n"
          ]
        },
        {
          "output_type": "stream",
          "name": "stderr",
          "text": [
            "Epoch 25/30: 100%|██████████| 7/7 [00:13<00:00,  1.94s/it, acc=1.0000, loss=0.0118]\n"
          ]
        },
        {
          "output_type": "stream",
          "name": "stdout",
          "text": [
            "Epoch 25/30 Train loss: 0.0118 Acc: 1.0000\n",
            "Epoch 25/30 Test loss: 1.5620 Acc: 0.7333 F1: 0.5375 Subgroup: Light tones\n",
            "Counter({np.int64(0): 274, np.int64(1): 60, np.int64(2): 56}) Counter({np.int64(0): 310, np.int64(1): 49, np.int64(2): 31})\n",
            "              precision    recall  f1-score   support\n",
            "\n",
            "           0       0.80      0.90      0.85       274\n",
            "           1       0.57      0.47      0.51        60\n",
            "           2       0.35      0.20      0.25        56\n",
            "\n",
            "    accuracy                           0.73       390\n",
            "   macro avg       0.57      0.52      0.54       390\n",
            "weighted avg       0.70      0.73      0.71       390\n",
            "\n",
            "Epoch 25/30 Test loss: 1.6315 Acc: 0.7636 F1: 0.4500 Subgroup: Dark tones\n",
            "Counter({np.int64(0): 89, np.int64(1): 11, np.int64(2): 10}) Counter({np.int64(0): 94, np.int64(1): 14, np.int64(2): 2})\n",
            "              precision    recall  f1-score   support\n",
            "\n",
            "           0       0.84      0.89      0.86        89\n",
            "           1       0.29      0.36      0.32        11\n",
            "           2       0.50      0.10      0.17        10\n",
            "\n",
            "    accuracy                           0.76       110\n",
            "   macro avg       0.54      0.45      0.45       110\n",
            "weighted avg       0.75      0.76      0.75       110\n",
            "\n"
          ]
        },
        {
          "output_type": "stream",
          "name": "stderr",
          "text": [
            "Epoch 26/30: 100%|██████████| 7/7 [00:18<00:00,  2.61s/it, acc=1.0000, loss=0.0103]\n"
          ]
        },
        {
          "output_type": "stream",
          "name": "stdout",
          "text": [
            "Epoch 26/30 Train loss: 0.0103 Acc: 1.0000\n",
            "Epoch 26/30 Test loss: 1.5900 Acc: 0.7359 F1: 0.5398 Subgroup: Light tones\n",
            "Counter({np.int64(0): 274, np.int64(1): 60, np.int64(2): 56}) Counter({np.int64(0): 311, np.int64(1): 48, np.int64(2): 31})\n",
            "              precision    recall  f1-score   support\n",
            "\n",
            "           0       0.80      0.91      0.85       274\n",
            "           1       0.58      0.47      0.52        60\n",
            "           2       0.35      0.20      0.25        56\n",
            "\n",
            "    accuracy                           0.74       390\n",
            "   macro avg       0.58      0.52      0.54       390\n",
            "weighted avg       0.70      0.74      0.71       390\n",
            "\n",
            "Epoch 26/30 Test loss: 1.6684 Acc: 0.7727 F1: 0.4565 Subgroup: Dark tones\n",
            "Counter({np.int64(0): 89, np.int64(1): 11, np.int64(2): 10}) Counter({np.int64(0): 95, np.int64(1): 13, np.int64(2): 2})\n",
            "              precision    recall  f1-score   support\n",
            "\n",
            "           0       0.84      0.90      0.87        89\n",
            "           1       0.31      0.36      0.33        11\n",
            "           2       0.50      0.10      0.17        10\n",
            "\n",
            "    accuracy                           0.77       110\n",
            "   macro avg       0.55      0.45      0.46       110\n",
            "weighted avg       0.76      0.77      0.75       110\n",
            "\n"
          ]
        },
        {
          "output_type": "stream",
          "name": "stderr",
          "text": [
            "Epoch 27/30: 100%|██████████| 7/7 [00:14<00:00,  2.11s/it, acc=1.0000, loss=0.0089]\n"
          ]
        },
        {
          "output_type": "stream",
          "name": "stdout",
          "text": [
            "Epoch 27/30 Train loss: 0.0089 Acc: 1.0000\n",
            "Epoch 27/30 Test loss: 1.6150 Acc: 0.7410 F1: 0.5502 Subgroup: Light tones\n",
            "Counter({np.int64(0): 274, np.int64(1): 60, np.int64(2): 56}) Counter({np.int64(0): 310, np.int64(1): 50, np.int64(2): 30})\n",
            "              precision    recall  f1-score   support\n",
            "\n",
            "           0       0.80      0.91      0.85       274\n",
            "           1       0.60      0.50      0.55        60\n",
            "           2       0.37      0.20      0.26        56\n",
            "\n",
            "    accuracy                           0.74       390\n",
            "   macro avg       0.59      0.53      0.55       390\n",
            "weighted avg       0.71      0.74      0.72       390\n",
            "\n",
            "Epoch 27/30 Test loss: 1.6953 Acc: 0.7636 F1: 0.4500 Subgroup: Dark tones\n",
            "Counter({np.int64(0): 89, np.int64(1): 11, np.int64(2): 10}) Counter({np.int64(0): 94, np.int64(1): 14, np.int64(2): 2})\n",
            "              precision    recall  f1-score   support\n",
            "\n",
            "           0       0.84      0.89      0.86        89\n",
            "           1       0.29      0.36      0.32        11\n",
            "           2       0.50      0.10      0.17        10\n",
            "\n",
            "    accuracy                           0.76       110\n",
            "   macro avg       0.54      0.45      0.45       110\n",
            "weighted avg       0.75      0.76      0.75       110\n",
            "\n"
          ]
        },
        {
          "output_type": "stream",
          "name": "stderr",
          "text": [
            "Epoch 28/30: 100%|██████████| 7/7 [00:14<00:00,  2.00s/it, acc=1.0000, loss=0.0079]\n"
          ]
        },
        {
          "output_type": "stream",
          "name": "stdout",
          "text": [
            "Epoch 28/30 Train loss: 0.0079 Acc: 1.0000\n",
            "Epoch 28/30 Test loss: 1.6558 Acc: 0.7410 F1: 0.5452 Subgroup: Light tones\n",
            "Counter({np.int64(0): 274, np.int64(1): 60, np.int64(2): 56}) Counter({np.int64(0): 312, np.int64(1): 49, np.int64(2): 29})\n",
            "              precision    recall  f1-score   support\n",
            "\n",
            "           0       0.80      0.91      0.85       274\n",
            "           1       0.61      0.50      0.55        60\n",
            "           2       0.34      0.18      0.24        56\n",
            "\n",
            "    accuracy                           0.74       390\n",
            "   macro avg       0.59      0.53      0.55       390\n",
            "weighted avg       0.70      0.74      0.72       390\n",
            "\n",
            "Epoch 28/30 Test loss: 1.7374 Acc: 0.7818 F1: 0.4634 Subgroup: Dark tones\n",
            "Counter({np.int64(0): 89, np.int64(1): 11, np.int64(2): 10}) Counter({np.int64(0): 96, np.int64(1): 12, np.int64(2): 2})\n",
            "              precision    recall  f1-score   support\n",
            "\n",
            "           0       0.84      0.91      0.88        89\n",
            "           1       0.33      0.36      0.35        11\n",
            "           2       0.50      0.10      0.17        10\n",
            "\n",
            "    accuracy                           0.78       110\n",
            "   macro avg       0.56      0.46      0.46       110\n",
            "weighted avg       0.76      0.78      0.76       110\n",
            "\n"
          ]
        },
        {
          "output_type": "stream",
          "name": "stderr",
          "text": [
            "Epoch 29/30: 100%|██████████| 7/7 [00:13<00:00,  1.95s/it, acc=1.0000, loss=0.0072]\n"
          ]
        },
        {
          "output_type": "stream",
          "name": "stdout",
          "text": [
            "Epoch 29/30 Train loss: 0.0072 Acc: 1.0000\n",
            "Epoch 29/30 Test loss: 1.6705 Acc: 0.7359 F1: 0.5364 Subgroup: Light tones\n",
            "Counter({np.int64(0): 274, np.int64(1): 60, np.int64(2): 56}) Counter({np.int64(0): 312, np.int64(1): 46, np.int64(2): 32})\n",
            "              precision    recall  f1-score   support\n",
            "\n",
            "           0       0.80      0.91      0.85       274\n",
            "           1       0.59      0.45      0.51        60\n",
            "           2       0.34      0.20      0.25        56\n",
            "\n",
            "    accuracy                           0.74       390\n",
            "   macro avg       0.58      0.52      0.54       390\n",
            "weighted avg       0.70      0.74      0.71       390\n",
            "\n",
            "Epoch 29/30 Test loss: 1.7554 Acc: 0.7818 F1: 0.4634 Subgroup: Dark tones\n",
            "Counter({np.int64(0): 89, np.int64(1): 11, np.int64(2): 10}) Counter({np.int64(0): 96, np.int64(1): 12, np.int64(2): 2})\n",
            "              precision    recall  f1-score   support\n",
            "\n",
            "           0       0.84      0.91      0.88        89\n",
            "           1       0.33      0.36      0.35        11\n",
            "           2       0.50      0.10      0.17        10\n",
            "\n",
            "    accuracy                           0.78       110\n",
            "   macro avg       0.56      0.46      0.46       110\n",
            "weighted avg       0.76      0.78      0.76       110\n",
            "\n"
          ]
        },
        {
          "output_type": "stream",
          "name": "stderr",
          "text": [
            "Epoch 30/30: 100%|██████████| 7/7 [00:14<00:00,  2.06s/it, acc=1.0000, loss=0.0062]\n"
          ]
        },
        {
          "output_type": "stream",
          "name": "stdout",
          "text": [
            "Epoch 30/30 Train loss: 0.0062 Acc: 1.0000\n",
            "Epoch 30/30 Test loss: 1.6949 Acc: 0.7359 F1: 0.5402 Subgroup: Light tones\n",
            "Counter({np.int64(0): 274, np.int64(1): 60, np.int64(2): 56}) Counter({np.int64(0): 312, np.int64(1): 48, np.int64(2): 30})\n",
            "              precision    recall  f1-score   support\n",
            "\n",
            "           0       0.79      0.91      0.85       274\n",
            "           1       0.58      0.47      0.52        60\n",
            "           2       0.37      0.20      0.26        56\n",
            "\n",
            "    accuracy                           0.74       390\n",
            "   macro avg       0.58      0.52      0.54       390\n",
            "weighted avg       0.70      0.74      0.71       390\n",
            "\n",
            "Epoch 30/30 Test loss: 1.7856 Acc: 0.7818 F1: 0.4634 Subgroup: Dark tones\n",
            "Counter({np.int64(0): 89, np.int64(1): 11, np.int64(2): 10}) Counter({np.int64(0): 96, np.int64(1): 12, np.int64(2): 2})\n",
            "              precision    recall  f1-score   support\n",
            "\n",
            "           0       0.84      0.91      0.88        89\n",
            "           1       0.33      0.36      0.35        11\n",
            "           2       0.50      0.10      0.17        10\n",
            "\n",
            "    accuracy                           0.78       110\n",
            "   macro avg       0.56      0.46      0.46       110\n",
            "weighted avg       0.76      0.78      0.76       110\n",
            "\n",
            "Train distribution (three_partition_label, race):\n",
            " three_partition_label  race_group\n",
            "benign                 black          47\n",
            "                       white          72\n",
            "malignant              black          48\n",
            "                       white          77\n",
            "non-neoplastic         black         405\n",
            "                       white         351\n",
            "dtype: int64\n",
            "Test distribution (three_partition_label, race):\n",
            " three_partition_label  race_group\n",
            "benign                 black          10\n",
            "                       white          56\n",
            "malignant              black          11\n",
            "                       white          60\n",
            "non-neoplastic         black          89\n",
            "                       white         274\n",
            "dtype: int64\n",
            "Test white count: 390 | Test black count: 110\n",
            "Class distribution in training:  Counter({0: 756, 1: 125, 2: 119})\n",
            "Weights:  tensor([0.4409, 2.6667, 2.8011])\n",
            "We are running on  cuda\n",
            "3\n"
          ]
        },
        {
          "output_type": "stream",
          "name": "stderr",
          "text": [
            "Epoch 1/30: 100%|██████████| 7/7 [03:21<00:00, 28.76s/it, acc=0.2879, loss=1.0721]\n"
          ]
        },
        {
          "output_type": "stream",
          "name": "stdout",
          "text": [
            "Epoch 1/30 Train loss: 1.0721 Acc: 0.2879\n",
            "Epoch 1/30 Test loss: 1.0627 Acc: 0.3974 F1: 0.3395 Subgroup: Light tones\n",
            "Counter({np.int64(0): 274, np.int64(1): 60, np.int64(2): 56}) Counter({np.int64(1): 190, np.int64(0): 128, np.int64(2): 72})\n",
            "              precision    recall  f1-score   support\n",
            "\n",
            "           0       0.79      0.37      0.50       274\n",
            "           1       0.23      0.72      0.34        60\n",
            "           2       0.15      0.20      0.17        56\n",
            "\n",
            "    accuracy                           0.40       390\n",
            "   macro avg       0.39      0.43      0.34       390\n",
            "weighted avg       0.61      0.40      0.43       390\n",
            "\n",
            "Epoch 1/30 Test loss: 1.0285 Acc: 0.4455 F1: 0.3480 Subgroup: Dark tones\n",
            "Counter({np.int64(0): 89, np.int64(1): 11, np.int64(2): 10}) Counter({np.int64(1): 45, np.int64(0): 41, np.int64(2): 24})\n",
            "              precision    recall  f1-score   support\n",
            "\n",
            "           0       0.90      0.42      0.57        89\n",
            "           1       0.22      0.91      0.36        11\n",
            "           2       0.08      0.20      0.12        10\n",
            "\n",
            "    accuracy                           0.45       110\n",
            "   macro avg       0.40      0.51      0.35       110\n",
            "weighted avg       0.76      0.45      0.51       110\n",
            "\n"
          ]
        },
        {
          "output_type": "stream",
          "name": "stderr",
          "text": [
            "Epoch 2/30: 100%|██████████| 7/7 [00:15<00:00,  2.21s/it, acc=0.4933, loss=0.9246]\n"
          ]
        },
        {
          "output_type": "stream",
          "name": "stdout",
          "text": [
            "Epoch 2/30 Train loss: 0.9246 Acc: 0.4933\n",
            "Epoch 2/30 Test loss: 1.0174 Acc: 0.4205 F1: 0.3462 Subgroup: Light tones\n",
            "Counter({np.int64(0): 274, np.int64(1): 60, np.int64(2): 56}) Counter({np.int64(1): 186, np.int64(0): 140, np.int64(2): 64})\n",
            "              precision    recall  f1-score   support\n",
            "\n",
            "           0       0.79      0.40      0.53       274\n",
            "           1       0.25      0.77      0.37        60\n",
            "           2       0.12      0.14      0.13        56\n",
            "\n",
            "    accuracy                           0.42       390\n",
            "   macro avg       0.39      0.44      0.35       390\n",
            "weighted avg       0.61      0.42      0.45       390\n",
            "\n",
            "Epoch 2/30 Test loss: 0.9898 Acc: 0.5182 F1: 0.4063 Subgroup: Dark tones\n",
            "Counter({np.int64(0): 89, np.int64(1): 11, np.int64(2): 10}) Counter({np.int64(1): 47, np.int64(0): 46, np.int64(2): 17})\n",
            "              precision    recall  f1-score   support\n",
            "\n",
            "           0       0.96      0.49      0.65        89\n",
            "           1       0.21      0.91      0.34        11\n",
            "           2       0.18      0.30      0.22        10\n",
            "\n",
            "    accuracy                           0.52       110\n",
            "   macro avg       0.45      0.57      0.41       110\n",
            "weighted avg       0.81      0.52      0.58       110\n",
            "\n"
          ]
        },
        {
          "output_type": "stream",
          "name": "stderr",
          "text": [
            "Epoch 3/30: 100%|██████████| 7/7 [00:14<00:00,  2.08s/it, acc=0.6384, loss=0.7877]\n"
          ]
        },
        {
          "output_type": "stream",
          "name": "stdout",
          "text": [
            "Epoch 3/30 Train loss: 0.7877 Acc: 0.6384\n",
            "Epoch 3/30 Test loss: 0.9907 Acc: 0.4231 F1: 0.3461 Subgroup: Light tones\n",
            "Counter({np.int64(0): 274, np.int64(1): 60, np.int64(2): 56}) Counter({np.int64(1): 178, np.int64(0): 146, np.int64(2): 66})\n",
            "              precision    recall  f1-score   support\n",
            "\n",
            "           0       0.76      0.41      0.53       274\n",
            "           1       0.26      0.78      0.39        60\n",
            "           2       0.11      0.12      0.11        56\n",
            "\n",
            "    accuracy                           0.42       390\n",
            "   macro avg       0.38      0.44      0.35       390\n",
            "weighted avg       0.59      0.42      0.45       390\n",
            "\n",
            "Epoch 3/30 Test loss: 0.9821 Acc: 0.5455 F1: 0.4174 Subgroup: Dark tones\n",
            "Counter({np.int64(0): 89, np.int64(1): 11, np.int64(2): 10}) Counter({np.int64(0): 50, np.int64(1): 45, np.int64(2): 15})\n",
            "              precision    recall  f1-score   support\n",
            "\n",
            "           0       0.96      0.54      0.69        89\n",
            "           1       0.20      0.82      0.32        11\n",
            "           2       0.20      0.30      0.24        10\n",
            "\n",
            "    accuracy                           0.55       110\n",
            "   macro avg       0.45      0.55      0.42       110\n",
            "weighted avg       0.81      0.55      0.61       110\n",
            "\n"
          ]
        },
        {
          "output_type": "stream",
          "name": "stderr",
          "text": [
            "Epoch 4/30: 100%|██████████| 7/7 [00:14<00:00,  2.02s/it, acc=0.6975, loss=0.6876]\n"
          ]
        },
        {
          "output_type": "stream",
          "name": "stdout",
          "text": [
            "Epoch 4/30 Train loss: 0.6876 Acc: 0.6975\n",
            "Epoch 4/30 Test loss: 0.9786 Acc: 0.4462 F1: 0.3721 Subgroup: Light tones\n",
            "Counter({np.int64(0): 274, np.int64(1): 60, np.int64(2): 56}) Counter({np.int64(0): 154, np.int64(1): 154, np.int64(2): 82})\n",
            "              precision    recall  f1-score   support\n",
            "\n",
            "           0       0.77      0.43      0.56       274\n",
            "           1       0.30      0.77      0.43        60\n",
            "           2       0.11      0.16      0.13        56\n",
            "\n",
            "    accuracy                           0.45       390\n",
            "   macro avg       0.39      0.45      0.37       390\n",
            "weighted avg       0.60      0.45      0.48       390\n",
            "\n",
            "Epoch 4/30 Test loss: 0.9723 Acc: 0.6091 F1: 0.4672 Subgroup: Dark tones\n",
            "Counter({np.int64(0): 89, np.int64(1): 11, np.int64(2): 10}) Counter({np.int64(0): 58, np.int64(1): 37, np.int64(2): 15})\n",
            "              precision    recall  f1-score   support\n",
            "\n",
            "           0       0.95      0.62      0.75        89\n",
            "           1       0.22      0.73      0.33        11\n",
            "           2       0.27      0.40      0.32        10\n",
            "\n",
            "    accuracy                           0.61       110\n",
            "   macro avg       0.48      0.58      0.47       110\n",
            "weighted avg       0.81      0.61      0.67       110\n",
            "\n"
          ]
        },
        {
          "output_type": "stream",
          "name": "stderr",
          "text": [
            "Epoch 5/30: 100%|██████████| 7/7 [00:14<00:00,  2.03s/it, acc=0.7712, loss=0.5908]\n"
          ]
        },
        {
          "output_type": "stream",
          "name": "stdout",
          "text": [
            "Epoch 5/30 Train loss: 0.5908 Acc: 0.7712\n",
            "Epoch 5/30 Test loss: 0.9724 Acc: 0.4692 F1: 0.4016 Subgroup: Light tones\n",
            "Counter({np.int64(0): 274, np.int64(1): 60, np.int64(2): 56}) Counter({np.int64(0): 164, np.int64(1): 129, np.int64(2): 97})\n",
            "              precision    recall  f1-score   support\n",
            "\n",
            "           0       0.77      0.46      0.58       274\n",
            "           1       0.33      0.72      0.46        60\n",
            "           2       0.13      0.23      0.17        56\n",
            "\n",
            "    accuracy                           0.47       390\n",
            "   macro avg       0.41      0.47      0.40       390\n",
            "weighted avg       0.61      0.47      0.50       390\n",
            "\n",
            "Epoch 5/30 Test loss: 0.9556 Acc: 0.6273 F1: 0.4796 Subgroup: Dark tones\n",
            "Counter({np.int64(0): 89, np.int64(1): 11, np.int64(2): 10}) Counter({np.int64(0): 60, np.int64(1): 36, np.int64(2): 14})\n",
            "              precision    recall  f1-score   support\n",
            "\n",
            "           0       0.95      0.64      0.77        89\n",
            "           1       0.22      0.73      0.34        11\n",
            "           2       0.29      0.40      0.33        10\n",
            "\n",
            "    accuracy                           0.63       110\n",
            "   macro avg       0.49      0.59      0.48       110\n",
            "weighted avg       0.82      0.63      0.68       110\n",
            "\n"
          ]
        },
        {
          "output_type": "stream",
          "name": "stderr",
          "text": [
            "Epoch 6/30: 100%|██████████| 7/7 [00:14<00:00,  2.01s/it, acc=0.8237, loss=0.4987]\n"
          ]
        },
        {
          "output_type": "stream",
          "name": "stdout",
          "text": [
            "Epoch 6/30 Train loss: 0.4987 Acc: 0.8237\n",
            "Epoch 6/30 Test loss: 0.9649 Acc: 0.5231 F1: 0.4414 Subgroup: Light tones\n",
            "Counter({np.int64(0): 274, np.int64(1): 60, np.int64(2): 56}) Counter({np.int64(0): 187, np.int64(1): 110, np.int64(2): 93})\n",
            "              precision    recall  f1-score   support\n",
            "\n",
            "           0       0.79      0.54      0.64       274\n",
            "           1       0.38      0.70      0.49        60\n",
            "           2       0.15      0.25      0.19        56\n",
            "\n",
            "    accuracy                           0.52       390\n",
            "   macro avg       0.44      0.50      0.44       390\n",
            "weighted avg       0.64      0.52      0.55       390\n",
            "\n",
            "Epoch 6/30 Test loss: 0.9432 Acc: 0.7091 F1: 0.5355 Subgroup: Dark tones\n",
            "Counter({np.int64(0): 89, np.int64(1): 11, np.int64(2): 10}) Counter({np.int64(0): 69, np.int64(1): 30, np.int64(2): 11})\n",
            "              precision    recall  f1-score   support\n",
            "\n",
            "           0       0.96      0.74      0.84        89\n",
            "           1       0.27      0.73      0.39        11\n",
            "           2       0.36      0.40      0.38        10\n",
            "\n",
            "    accuracy                           0.71       110\n",
            "   macro avg       0.53      0.62      0.54       110\n",
            "weighted avg       0.83      0.71      0.75       110\n",
            "\n"
          ]
        },
        {
          "output_type": "stream",
          "name": "stderr",
          "text": [
            "Epoch 7/30: 100%|██████████| 7/7 [00:14<00:00,  2.01s/it, acc=0.8371, loss=0.4251]\n"
          ]
        },
        {
          "output_type": "stream",
          "name": "stdout",
          "text": [
            "Epoch 7/30 Train loss: 0.4251 Acc: 0.8371\n",
            "Epoch 7/30 Test loss: 0.9685 Acc: 0.5564 F1: 0.4762 Subgroup: Light tones\n",
            "Counter({np.int64(0): 274, np.int64(1): 60, np.int64(2): 56}) Counter({np.int64(0): 200, np.int64(2): 101, np.int64(1): 89})\n",
            "              precision    recall  f1-score   support\n",
            "\n",
            "           0       0.80      0.58      0.68       274\n",
            "           1       0.45      0.67      0.54        60\n",
            "           2       0.17      0.30      0.22        56\n",
            "\n",
            "    accuracy                           0.56       390\n",
            "   macro avg       0.47      0.52      0.48       390\n",
            "weighted avg       0.66      0.56      0.59       390\n",
            "\n",
            "Epoch 7/30 Test loss: 0.9337 Acc: 0.7273 F1: 0.5471 Subgroup: Dark tones\n",
            "Counter({np.int64(0): 89, np.int64(1): 11, np.int64(2): 10}) Counter({np.int64(0): 71, np.int64(1): 28, np.int64(2): 11})\n",
            "              precision    recall  f1-score   support\n",
            "\n",
            "           0       0.96      0.76      0.85        89\n",
            "           1       0.29      0.73      0.41        11\n",
            "           2       0.36      0.40      0.38        10\n",
            "\n",
            "    accuracy                           0.73       110\n",
            "   macro avg       0.54      0.63      0.55       110\n",
            "weighted avg       0.84      0.73      0.76       110\n",
            "\n"
          ]
        },
        {
          "output_type": "stream",
          "name": "stderr",
          "text": [
            "Epoch 8/30: 100%|██████████| 7/7 [00:14<00:00,  2.06s/it, acc=0.8761, loss=0.3504]\n"
          ]
        },
        {
          "output_type": "stream",
          "name": "stdout",
          "text": [
            "Epoch 8/30 Train loss: 0.3504 Acc: 0.8761\n",
            "Epoch 8/30 Test loss: 0.9842 Acc: 0.5897 F1: 0.5001 Subgroup: Light tones\n",
            "Counter({np.int64(0): 274, np.int64(1): 60, np.int64(2): 56}) Counter({np.int64(0): 217, np.int64(2): 95, np.int64(1): 78})\n",
            "              precision    recall  f1-score   support\n",
            "\n",
            "           0       0.80      0.64      0.71       274\n",
            "           1       0.51      0.67      0.58        60\n",
            "           2       0.17      0.29      0.21        56\n",
            "\n",
            "    accuracy                           0.59       390\n",
            "   macro avg       0.49      0.53      0.50       390\n",
            "weighted avg       0.67      0.59      0.62       390\n",
            "\n",
            "Epoch 8/30 Test loss: 0.9442 Acc: 0.7818 F1: 0.6007 Subgroup: Dark tones\n",
            "Counter({np.int64(0): 89, np.int64(1): 11, np.int64(2): 10}) Counter({np.int64(0): 79, np.int64(1): 19, np.int64(2): 12})\n",
            "              precision    recall  f1-score   support\n",
            "\n",
            "           0       0.94      0.83      0.88        89\n",
            "           1       0.37      0.64      0.47        11\n",
            "           2       0.42      0.50      0.45        10\n",
            "\n",
            "    accuracy                           0.78       110\n",
            "   macro avg       0.57      0.66      0.60       110\n",
            "weighted avg       0.83      0.78      0.80       110\n",
            "\n"
          ]
        },
        {
          "output_type": "stream",
          "name": "stderr",
          "text": [
            "Epoch 9/30: 100%|██████████| 7/7 [00:14<00:00,  2.01s/it, acc=0.9074, loss=0.2892]\n"
          ]
        },
        {
          "output_type": "stream",
          "name": "stdout",
          "text": [
            "Epoch 9/30 Train loss: 0.2892 Acc: 0.9074\n",
            "Epoch 9/30 Test loss: 1.0020 Acc: 0.6103 F1: 0.5118 Subgroup: Light tones\n",
            "Counter({np.int64(0): 274, np.int64(1): 60, np.int64(2): 56}) Counter({np.int64(0): 225, np.int64(2): 84, np.int64(1): 81})\n",
            "              precision    recall  f1-score   support\n",
            "\n",
            "           0       0.80      0.66      0.73       274\n",
            "           1       0.52      0.70      0.60        60\n",
            "           2       0.18      0.27      0.21        56\n",
            "\n",
            "    accuracy                           0.61       390\n",
            "   macro avg       0.50      0.54      0.51       390\n",
            "weighted avg       0.67      0.61      0.63       390\n",
            "\n",
            "Epoch 9/30 Test loss: 0.9635 Acc: 0.8000 F1: 0.6177 Subgroup: Dark tones\n",
            "Counter({np.int64(0): 89, np.int64(1): 11, np.int64(2): 10}) Counter({np.int64(0): 81, np.int64(1): 18, np.int64(2): 11})\n",
            "              precision    recall  f1-score   support\n",
            "\n",
            "           0       0.94      0.85      0.89        89\n",
            "           1       0.39      0.64      0.48        11\n",
            "           2       0.45      0.50      0.48        10\n",
            "\n",
            "    accuracy                           0.80       110\n",
            "   macro avg       0.59      0.66      0.62       110\n",
            "weighted avg       0.84      0.80      0.81       110\n",
            "\n"
          ]
        },
        {
          "output_type": "stream",
          "name": "stderr",
          "text": [
            "Epoch 10/30: 100%|██████████| 7/7 [00:14<00:00,  2.01s/it, acc=0.9308, loss=0.2460]\n"
          ]
        },
        {
          "output_type": "stream",
          "name": "stdout",
          "text": [
            "Epoch 10/30 Train loss: 0.2460 Acc: 0.9308\n",
            "Epoch 10/30 Test loss: 1.0306 Acc: 0.6513 F1: 0.5356 Subgroup: Light tones\n",
            "Counter({np.int64(0): 274, np.int64(1): 60, np.int64(2): 56}) Counter({np.int64(0): 249, np.int64(2): 73, np.int64(1): 68})\n",
            "              precision    recall  f1-score   support\n",
            "\n",
            "           0       0.80      0.73      0.76       274\n",
            "           1       0.59      0.67      0.62        60\n",
            "           2       0.19      0.25      0.22        56\n",
            "\n",
            "    accuracy                           0.65       390\n",
            "   macro avg       0.53      0.55      0.54       390\n",
            "weighted avg       0.68      0.65      0.66       390\n",
            "\n",
            "Epoch 10/30 Test loss: 0.9856 Acc: 0.8091 F1: 0.5943 Subgroup: Dark tones\n",
            "Counter({np.int64(0): 89, np.int64(1): 11, np.int64(2): 10}) Counter({np.int64(0): 86, np.int64(1): 14, np.int64(2): 10})\n",
            "              precision    recall  f1-score   support\n",
            "\n",
            "           0       0.92      0.89      0.90        89\n",
            "           1       0.43      0.55      0.48        11\n",
            "           2       0.40      0.40      0.40        10\n",
            "\n",
            "    accuracy                           0.81       110\n",
            "   macro avg       0.58      0.61      0.59       110\n",
            "weighted avg       0.82      0.81      0.81       110\n",
            "\n"
          ]
        },
        {
          "output_type": "stream",
          "name": "stderr",
          "text": [
            "Epoch 11/30: 100%|██████████| 7/7 [00:13<00:00,  1.99s/it, acc=0.9665, loss=0.1896]\n"
          ]
        },
        {
          "output_type": "stream",
          "name": "stdout",
          "text": [
            "Epoch 11/30 Train loss: 0.1896 Acc: 0.9665\n",
            "Epoch 11/30 Test loss: 1.0858 Acc: 0.6769 F1: 0.5432 Subgroup: Light tones\n",
            "Counter({np.int64(0): 274, np.int64(1): 60, np.int64(2): 56}) Counter({np.int64(0): 268, np.int64(2): 67, np.int64(1): 55})\n",
            "              precision    recall  f1-score   support\n",
            "\n",
            "           0       0.80      0.78      0.79       274\n",
            "           1       0.64      0.58      0.61        60\n",
            "           2       0.21      0.25      0.23        56\n",
            "\n",
            "    accuracy                           0.68       390\n",
            "   macro avg       0.55      0.54      0.54       390\n",
            "weighted avg       0.69      0.68      0.68       390\n",
            "\n",
            "Epoch 11/30 Test loss: 1.0206 Acc: 0.8091 F1: 0.5992 Subgroup: Dark tones\n",
            "Counter({np.int64(0): 89, np.int64(1): 11, np.int64(2): 10}) Counter({np.int64(0): 87, np.int64(1): 13, np.int64(2): 10})\n",
            "              precision    recall  f1-score   support\n",
            "\n",
            "           0       0.91      0.89      0.90        89\n",
            "           1       0.46      0.55      0.50        11\n",
            "           2       0.40      0.40      0.40        10\n",
            "\n",
            "    accuracy                           0.81       110\n",
            "   macro avg       0.59      0.61      0.60       110\n",
            "weighted avg       0.82      0.81      0.81       110\n",
            "\n"
          ]
        },
        {
          "output_type": "stream",
          "name": "stderr",
          "text": [
            "Epoch 12/30: 100%|██████████| 7/7 [00:14<00:00,  2.04s/it, acc=0.9743, loss=0.1544]\n"
          ]
        },
        {
          "output_type": "stream",
          "name": "stdout",
          "text": [
            "Epoch 12/30 Train loss: 0.1544 Acc: 0.9743\n",
            "Epoch 12/30 Test loss: 1.1444 Acc: 0.6846 F1: 0.5278 Subgroup: Light tones\n",
            "Counter({np.int64(0): 274, np.int64(1): 60, np.int64(2): 56}) Counter({np.int64(0): 284, np.int64(2): 57, np.int64(1): 49})\n",
            "              precision    recall  f1-score   support\n",
            "\n",
            "           0       0.79      0.82      0.80       274\n",
            "           1       0.61      0.50      0.55        60\n",
            "           2       0.23      0.23      0.23        56\n",
            "\n",
            "    accuracy                           0.68       390\n",
            "   macro avg       0.54      0.52      0.53       390\n",
            "weighted avg       0.68      0.68      0.68       390\n",
            "\n",
            "Epoch 12/30 Test loss: 1.0605 Acc: 0.8182 F1: 0.5860 Subgroup: Dark tones\n",
            "Counter({np.int64(0): 89, np.int64(1): 11, np.int64(2): 10}) Counter({np.int64(0): 90, np.int64(1): 13, np.int64(2): 7})\n",
            "              precision    recall  f1-score   support\n",
            "\n",
            "           0       0.90      0.91      0.91        89\n",
            "           1       0.46      0.55      0.50        11\n",
            "           2       0.43      0.30      0.35        10\n",
            "\n",
            "    accuracy                           0.82       110\n",
            "   macro avg       0.60      0.59      0.59       110\n",
            "weighted avg       0.81      0.82      0.81       110\n",
            "\n"
          ]
        },
        {
          "output_type": "stream",
          "name": "stderr",
          "text": [
            "Epoch 13/30: 100%|██████████| 7/7 [00:13<00:00,  1.99s/it, acc=0.9866, loss=0.1224]\n"
          ]
        },
        {
          "output_type": "stream",
          "name": "stdout",
          "text": [
            "Epoch 13/30 Train loss: 0.1224 Acc: 0.9866\n",
            "Epoch 13/30 Test loss: 1.1939 Acc: 0.6846 F1: 0.5151 Subgroup: Light tones\n",
            "Counter({np.int64(0): 274, np.int64(1): 60, np.int64(2): 56}) Counter({np.int64(0): 289, np.int64(2): 53, np.int64(1): 48})\n",
            "              precision    recall  f1-score   support\n",
            "\n",
            "           0       0.79      0.83      0.81       274\n",
            "           1       0.60      0.48      0.54        60\n",
            "           2       0.21      0.20      0.20        56\n",
            "\n",
            "    accuracy                           0.68       390\n",
            "   macro avg       0.53      0.50      0.52       390\n",
            "weighted avg       0.67      0.68      0.68       390\n",
            "\n",
            "Epoch 13/30 Test loss: 1.1037 Acc: 0.8182 F1: 0.5860 Subgroup: Dark tones\n",
            "Counter({np.int64(0): 89, np.int64(1): 11, np.int64(2): 10}) Counter({np.int64(0): 90, np.int64(1): 13, np.int64(2): 7})\n",
            "              precision    recall  f1-score   support\n",
            "\n",
            "           0       0.90      0.91      0.91        89\n",
            "           1       0.46      0.55      0.50        11\n",
            "           2       0.43      0.30      0.35        10\n",
            "\n",
            "    accuracy                           0.82       110\n",
            "   macro avg       0.60      0.59      0.59       110\n",
            "weighted avg       0.81      0.82      0.81       110\n",
            "\n"
          ]
        },
        {
          "output_type": "stream",
          "name": "stderr",
          "text": [
            "Epoch 14/30: 100%|██████████| 7/7 [00:14<00:00,  2.05s/it, acc=0.9922, loss=0.0981]\n"
          ]
        },
        {
          "output_type": "stream",
          "name": "stdout",
          "text": [
            "Epoch 14/30 Train loss: 0.0981 Acc: 0.9922\n",
            "Epoch 14/30 Test loss: 1.2383 Acc: 0.7026 F1: 0.5365 Subgroup: Light tones\n",
            "Counter({np.int64(0): 274, np.int64(1): 60, np.int64(2): 56}) Counter({np.int64(0): 292, np.int64(1): 50, np.int64(2): 48})\n",
            "              precision    recall  f1-score   support\n",
            "\n",
            "           0       0.79      0.84      0.82       274\n",
            "           1       0.64      0.53      0.58        60\n",
            "           2       0.23      0.20      0.21        56\n",
            "\n",
            "    accuracy                           0.70       390\n",
            "   macro avg       0.55      0.52      0.54       390\n",
            "weighted avg       0.69      0.70      0.69       390\n",
            "\n",
            "Epoch 14/30 Test loss: 1.1354 Acc: 0.8182 F1: 0.5860 Subgroup: Dark tones\n",
            "Counter({np.int64(0): 89, np.int64(1): 11, np.int64(2): 10}) Counter({np.int64(0): 90, np.int64(1): 13, np.int64(2): 7})\n",
            "              precision    recall  f1-score   support\n",
            "\n",
            "           0       0.90      0.91      0.91        89\n",
            "           1       0.46      0.55      0.50        11\n",
            "           2       0.43      0.30      0.35        10\n",
            "\n",
            "    accuracy                           0.82       110\n",
            "   macro avg       0.60      0.59      0.59       110\n",
            "weighted avg       0.81      0.82      0.81       110\n",
            "\n"
          ]
        },
        {
          "output_type": "stream",
          "name": "stderr",
          "text": [
            "Epoch 15/30: 100%|██████████| 7/7 [00:19<00:00,  2.72s/it, acc=0.9944, loss=0.0759]\n"
          ]
        },
        {
          "output_type": "stream",
          "name": "stdout",
          "text": [
            "Epoch 15/30 Train loss: 0.0759 Acc: 0.9944\n",
            "Epoch 15/30 Test loss: 1.3193 Acc: 0.7051 F1: 0.5341 Subgroup: Light tones\n",
            "Counter({np.int64(0): 274, np.int64(1): 60, np.int64(2): 56}) Counter({np.int64(0): 301, np.int64(1): 46, np.int64(2): 43})\n",
            "              precision    recall  f1-score   support\n",
            "\n",
            "           0       0.78      0.85      0.81       274\n",
            "           1       0.65      0.50      0.57        60\n",
            "           2       0.26      0.20      0.22        56\n",
            "\n",
            "    accuracy                           0.71       390\n",
            "   macro avg       0.56      0.52      0.53       390\n",
            "weighted avg       0.68      0.71      0.69       390\n",
            "\n",
            "Epoch 15/30 Test loss: 1.1885 Acc: 0.8182 F1: 0.5712 Subgroup: Dark tones\n",
            "Counter({np.int64(0): 89, np.int64(1): 11, np.int64(2): 10}) Counter({np.int64(0): 92, np.int64(1): 11, np.int64(2): 7})\n",
            "              precision    recall  f1-score   support\n",
            "\n",
            "           0       0.89      0.92      0.91        89\n",
            "           1       0.45      0.45      0.45        11\n",
            "           2       0.43      0.30      0.35        10\n",
            "\n",
            "    accuracy                           0.82       110\n",
            "   macro avg       0.59      0.56      0.57       110\n",
            "weighted avg       0.81      0.82      0.81       110\n",
            "\n"
          ]
        },
        {
          "output_type": "stream",
          "name": "stderr",
          "text": [
            "Epoch 16/30: 100%|██████████| 7/7 [00:15<00:00,  2.15s/it, acc=0.9989, loss=0.0586]\n"
          ]
        },
        {
          "output_type": "stream",
          "name": "stdout",
          "text": [
            "Epoch 16/30 Train loss: 0.0586 Acc: 0.9989\n",
            "Epoch 16/30 Test loss: 1.3925 Acc: 0.7026 F1: 0.5071 Subgroup: Light tones\n",
            "Counter({np.int64(0): 274, np.int64(1): 60, np.int64(2): 56}) Counter({np.int64(0): 305, np.int64(1): 49, np.int64(2): 36})\n",
            "              precision    recall  f1-score   support\n",
            "\n",
            "           0       0.78      0.86      0.82       274\n",
            "           1       0.61      0.50      0.55        60\n",
            "           2       0.19      0.12      0.15        56\n",
            "\n",
            "    accuracy                           0.70       390\n",
            "   macro avg       0.53      0.50      0.51       390\n",
            "weighted avg       0.67      0.70      0.68       390\n",
            "\n",
            "Epoch 16/30 Test loss: 1.2266 Acc: 0.8091 F1: 0.5303 Subgroup: Dark tones\n",
            "Counter({np.int64(0): 89, np.int64(1): 11, np.int64(2): 10}) Counter({np.int64(0): 92, np.int64(1): 12, np.int64(2): 6})\n",
            "              precision    recall  f1-score   support\n",
            "\n",
            "           0       0.89      0.92      0.91        89\n",
            "           1       0.42      0.45      0.43        11\n",
            "           2       0.33      0.20      0.25        10\n",
            "\n",
            "    accuracy                           0.81       110\n",
            "   macro avg       0.55      0.53      0.53       110\n",
            "weighted avg       0.79      0.81      0.80       110\n",
            "\n"
          ]
        },
        {
          "output_type": "stream",
          "name": "stderr",
          "text": [
            "Epoch 17/30: 100%|██████████| 7/7 [00:15<00:00,  2.25s/it, acc=0.9967, loss=0.0472]\n"
          ]
        },
        {
          "output_type": "stream",
          "name": "stdout",
          "text": [
            "Epoch 17/30 Train loss: 0.0472 Acc: 0.9967\n",
            "Epoch 17/30 Test loss: 1.4568 Acc: 0.7077 F1: 0.5131 Subgroup: Light tones\n",
            "Counter({np.int64(0): 274, np.int64(1): 60, np.int64(2): 56}) Counter({np.int64(0): 308, np.int64(1): 47, np.int64(2): 35})\n",
            "              precision    recall  f1-score   support\n",
            "\n",
            "           0       0.78      0.87      0.82       274\n",
            "           1       0.62      0.48      0.54        60\n",
            "           2       0.23      0.14      0.18        56\n",
            "\n",
            "    accuracy                           0.71       390\n",
            "   macro avg       0.54      0.50      0.51       390\n",
            "weighted avg       0.67      0.71      0.69       390\n",
            "\n",
            "Epoch 17/30 Test loss: 1.2628 Acc: 0.8182 F1: 0.5378 Subgroup: Dark tones\n",
            "Counter({np.int64(0): 89, np.int64(1): 11, np.int64(2): 10}) Counter({np.int64(0): 93, np.int64(1): 12, np.int64(2): 5})\n",
            "              precision    recall  f1-score   support\n",
            "\n",
            "           0       0.89      0.93      0.91        89\n",
            "           1       0.42      0.45      0.43        11\n",
            "           2       0.40      0.20      0.27        10\n",
            "\n",
            "    accuracy                           0.82       110\n",
            "   macro avg       0.57      0.53      0.54       110\n",
            "weighted avg       0.80      0.82      0.81       110\n",
            "\n"
          ]
        },
        {
          "output_type": "stream",
          "name": "stderr",
          "text": [
            "Epoch 18/30: 100%|██████████| 7/7 [00:14<00:00,  2.09s/it, acc=0.9978, loss=0.0357]\n"
          ]
        },
        {
          "output_type": "stream",
          "name": "stdout",
          "text": [
            "Epoch 18/30 Train loss: 0.0357 Acc: 0.9978\n",
            "Epoch 18/30 Test loss: 1.5309 Acc: 0.7103 F1: 0.5122 Subgroup: Light tones\n",
            "Counter({np.int64(0): 274, np.int64(1): 60, np.int64(2): 56}) Counter({np.int64(0): 310, np.int64(1): 48, np.int64(2): 32})\n",
            "              precision    recall  f1-score   support\n",
            "\n",
            "           0       0.77      0.88      0.82       274\n",
            "           1       0.62      0.50      0.56        60\n",
            "           2       0.22      0.12      0.16        56\n",
            "\n",
            "    accuracy                           0.71       390\n",
            "   macro avg       0.54      0.50      0.51       390\n",
            "weighted avg       0.67      0.71      0.69       390\n",
            "\n",
            "Epoch 18/30 Test loss: 1.3070 Acc: 0.8091 F1: 0.5125 Subgroup: Dark tones\n",
            "Counter({np.int64(0): 89, np.int64(1): 11, np.int64(2): 10}) Counter({np.int64(0): 94, np.int64(1): 11, np.int64(2): 5})\n",
            "              precision    recall  f1-score   support\n",
            "\n",
            "           0       0.88      0.93      0.91        89\n",
            "           1       0.36      0.36      0.36        11\n",
            "           2       0.40      0.20      0.27        10\n",
            "\n",
            "    accuracy                           0.81       110\n",
            "   macro avg       0.55      0.50      0.51       110\n",
            "weighted avg       0.79      0.81      0.79       110\n",
            "\n"
          ]
        },
        {
          "output_type": "stream",
          "name": "stderr",
          "text": [
            "Epoch 19/30: 100%|██████████| 7/7 [00:14<00:00,  2.08s/it, acc=0.9989, loss=0.0319]\n"
          ]
        },
        {
          "output_type": "stream",
          "name": "stdout",
          "text": [
            "Epoch 19/30 Train loss: 0.0319 Acc: 0.9989\n",
            "Epoch 19/30 Test loss: 1.5840 Acc: 0.7077 F1: 0.5093 Subgroup: Light tones\n",
            "Counter({np.int64(0): 274, np.int64(1): 60, np.int64(2): 56}) Counter({np.int64(0): 310, np.int64(1): 46, np.int64(2): 34})\n",
            "              precision    recall  f1-score   support\n",
            "\n",
            "           0       0.77      0.88      0.82       274\n",
            "           1       0.61      0.47      0.53        60\n",
            "           2       0.24      0.14      0.18        56\n",
            "\n",
            "    accuracy                           0.71       390\n",
            "   macro avg       0.54      0.50      0.51       390\n",
            "weighted avg       0.67      0.71      0.68       390\n",
            "\n",
            "Epoch 19/30 Test loss: 1.3290 Acc: 0.8091 F1: 0.5125 Subgroup: Dark tones\n",
            "Counter({np.int64(0): 89, np.int64(1): 11, np.int64(2): 10}) Counter({np.int64(0): 94, np.int64(1): 11, np.int64(2): 5})\n",
            "              precision    recall  f1-score   support\n",
            "\n",
            "           0       0.88      0.93      0.91        89\n",
            "           1       0.36      0.36      0.36        11\n",
            "           2       0.40      0.20      0.27        10\n",
            "\n",
            "    accuracy                           0.81       110\n",
            "   macro avg       0.55      0.50      0.51       110\n",
            "weighted avg       0.79      0.81      0.79       110\n",
            "\n"
          ]
        },
        {
          "output_type": "stream",
          "name": "stderr",
          "text": [
            "Epoch 20/30: 100%|██████████| 7/7 [00:15<00:00,  2.16s/it, acc=0.9978, loss=0.0257]\n"
          ]
        },
        {
          "output_type": "stream",
          "name": "stdout",
          "text": [
            "Epoch 20/30 Train loss: 0.0257 Acc: 0.9978\n",
            "Epoch 20/30 Test loss: 1.6281 Acc: 0.7103 F1: 0.5127 Subgroup: Light tones\n",
            "Counter({np.int64(0): 274, np.int64(1): 60, np.int64(2): 56}) Counter({np.int64(0): 311, np.int64(1): 45, np.int64(2): 34})\n",
            "              precision    recall  f1-score   support\n",
            "\n",
            "           0       0.77      0.88      0.82       274\n",
            "           1       0.60      0.45      0.51        60\n",
            "           2       0.26      0.16      0.20        56\n",
            "\n",
            "    accuracy                           0.71       390\n",
            "   macro avg       0.55      0.50      0.51       390\n",
            "weighted avg       0.67      0.71      0.69       390\n",
            "\n",
            "Epoch 20/30 Test loss: 1.3500 Acc: 0.8182 F1: 0.5378 Subgroup: Dark tones\n",
            "Counter({np.int64(0): 89, np.int64(1): 11, np.int64(2): 10}) Counter({np.int64(0): 93, np.int64(1): 12, np.int64(2): 5})\n",
            "              precision    recall  f1-score   support\n",
            "\n",
            "           0       0.89      0.93      0.91        89\n",
            "           1       0.42      0.45      0.43        11\n",
            "           2       0.40      0.20      0.27        10\n",
            "\n",
            "    accuracy                           0.82       110\n",
            "   macro avg       0.57      0.53      0.54       110\n",
            "weighted avg       0.80      0.82      0.81       110\n",
            "\n"
          ]
        },
        {
          "output_type": "stream",
          "name": "stderr",
          "text": [
            "Epoch 21/30: 100%|██████████| 7/7 [00:16<00:00,  2.30s/it, acc=1.0000, loss=0.0203]\n"
          ]
        },
        {
          "output_type": "stream",
          "name": "stdout",
          "text": [
            "Epoch 21/30 Train loss: 0.0203 Acc: 1.0000\n",
            "Epoch 21/30 Test loss: 1.6772 Acc: 0.7128 F1: 0.5176 Subgroup: Light tones\n",
            "Counter({np.int64(0): 274, np.int64(1): 60, np.int64(2): 56}) Counter({np.int64(0): 309, np.int64(1): 46, np.int64(2): 35})\n",
            "              precision    recall  f1-score   support\n",
            "\n",
            "           0       0.78      0.88      0.83       274\n",
            "           1       0.61      0.47      0.53        60\n",
            "           2       0.26      0.16      0.20        56\n",
            "\n",
            "    accuracy                           0.71       390\n",
            "   macro avg       0.55      0.50      0.52       390\n",
            "weighted avg       0.68      0.71      0.69       390\n",
            "\n",
            "Epoch 21/30 Test loss: 1.3882 Acc: 0.8182 F1: 0.5249 Subgroup: Dark tones\n",
            "Counter({np.int64(0): 89, np.int64(1): 11, np.int64(2): 10}) Counter({np.int64(0): 96, np.int64(1): 10, np.int64(2): 4})\n",
            "              precision    recall  f1-score   support\n",
            "\n",
            "           0       0.88      0.94      0.91        89\n",
            "           1       0.40      0.36      0.38        11\n",
            "           2       0.50      0.20      0.29        10\n",
            "\n",
            "    accuracy                           0.82       110\n",
            "   macro avg       0.59      0.50      0.52       110\n",
            "weighted avg       0.79      0.82      0.80       110\n",
            "\n"
          ]
        },
        {
          "output_type": "stream",
          "name": "stderr",
          "text": [
            "Epoch 22/30: 100%|██████████| 7/7 [00:14<00:00,  2.03s/it, acc=0.9989, loss=0.0176]\n"
          ]
        },
        {
          "output_type": "stream",
          "name": "stdout",
          "text": [
            "Epoch 22/30 Train loss: 0.0176 Acc: 0.9989\n",
            "Epoch 22/30 Test loss: 1.7090 Acc: 0.7103 F1: 0.5093 Subgroup: Light tones\n",
            "Counter({np.int64(0): 274, np.int64(1): 60, np.int64(2): 56}) Counter({np.int64(0): 311, np.int64(1): 43, np.int64(2): 36})\n",
            "              precision    recall  f1-score   support\n",
            "\n",
            "           0       0.78      0.88      0.83       274\n",
            "           1       0.60      0.43      0.50        60\n",
            "           2       0.25      0.16      0.20        56\n",
            "\n",
            "    accuracy                           0.71       390\n",
            "   macro avg       0.54      0.49      0.51       390\n",
            "weighted avg       0.68      0.71      0.69       390\n",
            "\n",
            "Epoch 22/30 Test loss: 1.4198 Acc: 0.8273 F1: 0.5694 Subgroup: Dark tones\n",
            "Counter({np.int64(0): 89, np.int64(1): 11, np.int64(2): 10}) Counter({np.int64(0): 96, np.int64(1): 9, np.int64(2): 5})\n",
            "              precision    recall  f1-score   support\n",
            "\n",
            "           0       0.88      0.94      0.91        89\n",
            "           1       0.44      0.36      0.40        11\n",
            "           2       0.60      0.30      0.40        10\n",
            "\n",
            "    accuracy                           0.83       110\n",
            "   macro avg       0.64      0.54      0.57       110\n",
            "weighted avg       0.81      0.83      0.81       110\n",
            "\n"
          ]
        },
        {
          "output_type": "stream",
          "name": "stderr",
          "text": [
            "Epoch 23/30: 100%|██████████| 7/7 [00:14<00:00,  2.03s/it, acc=0.9989, loss=0.0141]\n"
          ]
        },
        {
          "output_type": "stream",
          "name": "stdout",
          "text": [
            "Epoch 23/30 Train loss: 0.0141 Acc: 0.9989\n",
            "Epoch 23/30 Test loss: 1.7471 Acc: 0.7179 F1: 0.5194 Subgroup: Light tones\n",
            "Counter({np.int64(0): 274, np.int64(1): 60, np.int64(2): 56}) Counter({np.int64(0): 312, np.int64(1): 46, np.int64(2): 32})\n",
            "              precision    recall  f1-score   support\n",
            "\n",
            "           0       0.78      0.89      0.83       274\n",
            "           1       0.63      0.48      0.55        60\n",
            "           2       0.25      0.14      0.18        56\n",
            "\n",
            "    accuracy                           0.72       390\n",
            "   macro avg       0.55      0.50      0.52       390\n",
            "weighted avg       0.68      0.72      0.69       390\n",
            "\n",
            "Epoch 23/30 Test loss: 1.4659 Acc: 0.8182 F1: 0.5249 Subgroup: Dark tones\n",
            "Counter({np.int64(0): 89, np.int64(1): 11, np.int64(2): 10}) Counter({np.int64(0): 96, np.int64(1): 10, np.int64(2): 4})\n",
            "              precision    recall  f1-score   support\n",
            "\n",
            "           0       0.88      0.94      0.91        89\n",
            "           1       0.40      0.36      0.38        11\n",
            "           2       0.50      0.20      0.29        10\n",
            "\n",
            "    accuracy                           0.82       110\n",
            "   macro avg       0.59      0.50      0.52       110\n",
            "weighted avg       0.79      0.82      0.80       110\n",
            "\n"
          ]
        },
        {
          "output_type": "stream",
          "name": "stderr",
          "text": [
            "Epoch 24/30: 100%|██████████| 7/7 [00:16<00:00,  2.35s/it, acc=0.9989, loss=0.0123]\n"
          ]
        },
        {
          "output_type": "stream",
          "name": "stdout",
          "text": [
            "Epoch 24/30 Train loss: 0.0123 Acc: 0.9989\n",
            "Epoch 24/30 Test loss: 1.7792 Acc: 0.7179 F1: 0.5194 Subgroup: Light tones\n",
            "Counter({np.int64(0): 274, np.int64(1): 60, np.int64(2): 56}) Counter({np.int64(0): 312, np.int64(1): 46, np.int64(2): 32})\n",
            "              precision    recall  f1-score   support\n",
            "\n",
            "           0       0.78      0.89      0.83       274\n",
            "           1       0.63      0.48      0.55        60\n",
            "           2       0.25      0.14      0.18        56\n",
            "\n",
            "    accuracy                           0.72       390\n",
            "   macro avg       0.55      0.50      0.52       390\n",
            "weighted avg       0.68      0.72      0.69       390\n",
            "\n",
            "Epoch 24/30 Test loss: 1.4972 Acc: 0.8182 F1: 0.5249 Subgroup: Dark tones\n",
            "Counter({np.int64(0): 89, np.int64(1): 11, np.int64(2): 10}) Counter({np.int64(0): 96, np.int64(1): 10, np.int64(2): 4})\n",
            "              precision    recall  f1-score   support\n",
            "\n",
            "           0       0.88      0.94      0.91        89\n",
            "           1       0.40      0.36      0.38        11\n",
            "           2       0.50      0.20      0.29        10\n",
            "\n",
            "    accuracy                           0.82       110\n",
            "   macro avg       0.59      0.50      0.52       110\n",
            "weighted avg       0.79      0.82      0.80       110\n",
            "\n"
          ]
        },
        {
          "output_type": "stream",
          "name": "stderr",
          "text": [
            "Epoch 25/30: 100%|██████████| 7/7 [00:13<00:00,  2.00s/it, acc=0.9989, loss=0.0115]\n"
          ]
        },
        {
          "output_type": "stream",
          "name": "stdout",
          "text": [
            "Epoch 25/30 Train loss: 0.0115 Acc: 0.9989\n",
            "Epoch 25/30 Test loss: 1.7905 Acc: 0.7179 F1: 0.5194 Subgroup: Light tones\n",
            "Counter({np.int64(0): 274, np.int64(1): 60, np.int64(2): 56}) Counter({np.int64(0): 312, np.int64(1): 46, np.int64(2): 32})\n",
            "              precision    recall  f1-score   support\n",
            "\n",
            "           0       0.78      0.89      0.83       274\n",
            "           1       0.63      0.48      0.55        60\n",
            "           2       0.25      0.14      0.18        56\n",
            "\n",
            "    accuracy                           0.72       390\n",
            "   macro avg       0.55      0.50      0.52       390\n",
            "weighted avg       0.68      0.72      0.69       390\n",
            "\n",
            "Epoch 25/30 Test loss: 1.5076 Acc: 0.8182 F1: 0.5249 Subgroup: Dark tones\n",
            "Counter({np.int64(0): 89, np.int64(1): 11, np.int64(2): 10}) Counter({np.int64(0): 96, np.int64(1): 10, np.int64(2): 4})\n",
            "              precision    recall  f1-score   support\n",
            "\n",
            "           0       0.88      0.94      0.91        89\n",
            "           1       0.40      0.36      0.38        11\n",
            "           2       0.50      0.20      0.29        10\n",
            "\n",
            "    accuracy                           0.82       110\n",
            "   macro avg       0.59      0.50      0.52       110\n",
            "weighted avg       0.79      0.82      0.80       110\n",
            "\n"
          ]
        },
        {
          "output_type": "stream",
          "name": "stderr",
          "text": [
            "Epoch 26/30: 100%|██████████| 7/7 [00:14<00:00,  2.00s/it, acc=0.9989, loss=0.0113]\n"
          ]
        },
        {
          "output_type": "stream",
          "name": "stdout",
          "text": [
            "Epoch 26/30 Train loss: 0.0113 Acc: 0.9989\n",
            "Epoch 26/30 Test loss: 1.8204 Acc: 0.7205 F1: 0.5208 Subgroup: Light tones\n",
            "Counter({np.int64(0): 274, np.int64(1): 60, np.int64(2): 56}) Counter({np.int64(0): 313, np.int64(1): 46, np.int64(2): 31})\n",
            "              precision    recall  f1-score   support\n",
            "\n",
            "           0       0.78      0.89      0.83       274\n",
            "           1       0.63      0.48      0.55        60\n",
            "           2       0.26      0.14      0.18        56\n",
            "\n",
            "    accuracy                           0.72       390\n",
            "   macro avg       0.56      0.51      0.52       390\n",
            "weighted avg       0.68      0.72      0.69       390\n",
            "\n",
            "Epoch 26/30 Test loss: 1.5296 Acc: 0.8182 F1: 0.5249 Subgroup: Dark tones\n",
            "Counter({np.int64(0): 89, np.int64(1): 11, np.int64(2): 10}) Counter({np.int64(0): 96, np.int64(1): 10, np.int64(2): 4})\n",
            "              precision    recall  f1-score   support\n",
            "\n",
            "           0       0.88      0.94      0.91        89\n",
            "           1       0.40      0.36      0.38        11\n",
            "           2       0.50      0.20      0.29        10\n",
            "\n",
            "    accuracy                           0.82       110\n",
            "   macro avg       0.59      0.50      0.52       110\n",
            "weighted avg       0.79      0.82      0.80       110\n",
            "\n"
          ]
        },
        {
          "output_type": "stream",
          "name": "stderr",
          "text": [
            "Epoch 27/30: 100%|██████████| 7/7 [00:15<00:00,  2.16s/it, acc=1.0000, loss=0.0092]\n"
          ]
        },
        {
          "output_type": "stream",
          "name": "stdout",
          "text": [
            "Epoch 27/30 Train loss: 0.0092 Acc: 1.0000\n",
            "Epoch 27/30 Test loss: 1.8459 Acc: 0.7179 F1: 0.5194 Subgroup: Light tones\n",
            "Counter({np.int64(0): 274, np.int64(1): 60, np.int64(2): 56}) Counter({np.int64(0): 312, np.int64(1): 46, np.int64(2): 32})\n",
            "              precision    recall  f1-score   support\n",
            "\n",
            "           0       0.78      0.89      0.83       274\n",
            "           1       0.63      0.48      0.55        60\n",
            "           2       0.25      0.14      0.18        56\n",
            "\n",
            "    accuracy                           0.72       390\n",
            "   macro avg       0.55      0.50      0.52       390\n",
            "weighted avg       0.68      0.72      0.69       390\n",
            "\n",
            "Epoch 27/30 Test loss: 1.5448 Acc: 0.8182 F1: 0.5249 Subgroup: Dark tones\n",
            "Counter({np.int64(0): 89, np.int64(1): 11, np.int64(2): 10}) Counter({np.int64(0): 96, np.int64(1): 10, np.int64(2): 4})\n",
            "              precision    recall  f1-score   support\n",
            "\n",
            "           0       0.88      0.94      0.91        89\n",
            "           1       0.40      0.36      0.38        11\n",
            "           2       0.50      0.20      0.29        10\n",
            "\n",
            "    accuracy                           0.82       110\n",
            "   macro avg       0.59      0.50      0.52       110\n",
            "weighted avg       0.79      0.82      0.80       110\n",
            "\n"
          ]
        },
        {
          "output_type": "stream",
          "name": "stderr",
          "text": [
            "Epoch 28/30: 100%|██████████| 7/7 [00:14<00:00,  2.10s/it, acc=1.0000, loss=0.0081]\n"
          ]
        },
        {
          "output_type": "stream",
          "name": "stdout",
          "text": [
            "Epoch 28/30 Train loss: 0.0081 Acc: 1.0000\n",
            "Epoch 28/30 Test loss: 1.8609 Acc: 0.7154 F1: 0.5129 Subgroup: Light tones\n",
            "Counter({np.int64(0): 274, np.int64(1): 60, np.int64(2): 56}) Counter({np.int64(0): 311, np.int64(1): 46, np.int64(2): 33})\n",
            "              precision    recall  f1-score   support\n",
            "\n",
            "           0       0.78      0.89      0.83       274\n",
            "           1       0.61      0.47      0.53        60\n",
            "           2       0.24      0.14      0.18        56\n",
            "\n",
            "    accuracy                           0.72       390\n",
            "   macro avg       0.54      0.50      0.51       390\n",
            "weighted avg       0.68      0.72      0.69       390\n",
            "\n",
            "Epoch 28/30 Test loss: 1.5592 Acc: 0.8182 F1: 0.5249 Subgroup: Dark tones\n",
            "Counter({np.int64(0): 89, np.int64(1): 11, np.int64(2): 10}) Counter({np.int64(0): 96, np.int64(1): 10, np.int64(2): 4})\n",
            "              precision    recall  f1-score   support\n",
            "\n",
            "           0       0.88      0.94      0.91        89\n",
            "           1       0.40      0.36      0.38        11\n",
            "           2       0.50      0.20      0.29        10\n",
            "\n",
            "    accuracy                           0.82       110\n",
            "   macro avg       0.59      0.50      0.52       110\n",
            "weighted avg       0.79      0.82      0.80       110\n",
            "\n"
          ]
        },
        {
          "output_type": "stream",
          "name": "stderr",
          "text": [
            "Epoch 29/30: 100%|██████████| 7/7 [00:15<00:00,  2.20s/it, acc=1.0000, loss=0.0065]\n"
          ]
        },
        {
          "output_type": "stream",
          "name": "stdout",
          "text": [
            "Epoch 29/30 Train loss: 0.0065 Acc: 1.0000\n",
            "Epoch 29/30 Test loss: 1.8963 Acc: 0.7205 F1: 0.5280 Subgroup: Light tones\n",
            "Counter({np.int64(0): 274, np.int64(1): 60, np.int64(2): 56}) Counter({np.int64(0): 312, np.int64(1): 45, np.int64(2): 33})\n",
            "              precision    recall  f1-score   support\n",
            "\n",
            "           0       0.78      0.89      0.83       274\n",
            "           1       0.64      0.48      0.55        60\n",
            "           2       0.27      0.16      0.20        56\n",
            "\n",
            "    accuracy                           0.72       390\n",
            "   macro avg       0.57      0.51      0.53       390\n",
            "weighted avg       0.69      0.72      0.70       390\n",
            "\n",
            "Epoch 29/30 Test loss: 1.5975 Acc: 0.8182 F1: 0.5249 Subgroup: Dark tones\n",
            "Counter({np.int64(0): 89, np.int64(1): 11, np.int64(2): 10}) Counter({np.int64(0): 96, np.int64(1): 10, np.int64(2): 4})\n",
            "              precision    recall  f1-score   support\n",
            "\n",
            "           0       0.88      0.94      0.91        89\n",
            "           1       0.40      0.36      0.38        11\n",
            "           2       0.50      0.20      0.29        10\n",
            "\n",
            "    accuracy                           0.82       110\n",
            "   macro avg       0.59      0.50      0.52       110\n",
            "weighted avg       0.79      0.82      0.80       110\n",
            "\n"
          ]
        },
        {
          "output_type": "stream",
          "name": "stderr",
          "text": [
            "Epoch 30/30: 100%|██████████| 7/7 [00:14<00:00,  2.06s/it, acc=1.0000, loss=0.0063]\n"
          ]
        },
        {
          "output_type": "stream",
          "name": "stdout",
          "text": [
            "Epoch 30/30 Train loss: 0.0063 Acc: 1.0000\n",
            "Epoch 30/30 Test loss: 1.9311 Acc: 0.7231 F1: 0.5320 Subgroup: Light tones\n",
            "Counter({np.int64(0): 274, np.int64(1): 60, np.int64(2): 56}) Counter({np.int64(0): 311, np.int64(1): 47, np.int64(2): 32})\n",
            "              precision    recall  f1-score   support\n",
            "\n",
            "           0       0.78      0.89      0.83       274\n",
            "           1       0.64      0.50      0.56        60\n",
            "           2       0.28      0.16      0.20        56\n",
            "\n",
            "    accuracy                           0.72       390\n",
            "   macro avg       0.57      0.52      0.53       390\n",
            "weighted avg       0.69      0.72      0.70       390\n",
            "\n",
            "Epoch 30/30 Test loss: 1.6269 Acc: 0.8182 F1: 0.5249 Subgroup: Dark tones\n",
            "Counter({np.int64(0): 89, np.int64(1): 11, np.int64(2): 10}) Counter({np.int64(0): 96, np.int64(1): 10, np.int64(2): 4})\n",
            "              precision    recall  f1-score   support\n",
            "\n",
            "           0       0.88      0.94      0.91        89\n",
            "           1       0.40      0.36      0.38        11\n",
            "           2       0.50      0.20      0.29        10\n",
            "\n",
            "    accuracy                           0.82       110\n",
            "   macro avg       0.59      0.50      0.52       110\n",
            "weighted avg       0.79      0.82      0.80       110\n",
            "\n",
            "Train distribution (three_partition_label, race):\n",
            " three_partition_label  race_group\n",
            "benign                 black          94\n",
            "malignant              black          96\n",
            "non-neoplastic         black         810\n",
            "dtype: int64\n",
            "Test distribution (three_partition_label, race):\n",
            " three_partition_label  race_group\n",
            "benign                 black          10\n",
            "                       white          56\n",
            "malignant              black          11\n",
            "                       white          60\n",
            "non-neoplastic         black          89\n",
            "                       white         274\n",
            "dtype: int64\n",
            "Test white count: 390 | Test black count: 110\n",
            "Class distribution in training:  Counter({0: 810, 1: 96, 2: 94})\n",
            "Weights:  tensor([0.4115, 3.4722, 3.5461])\n",
            "We are running on  cuda\n",
            "3\n"
          ]
        },
        {
          "output_type": "stream",
          "name": "stderr",
          "text": [
            "Epoch 1/30: 100%|██████████| 7/7 [03:29<00:00, 29.99s/it, acc=0.4911, loss=1.0964]\n"
          ]
        },
        {
          "output_type": "stream",
          "name": "stdout",
          "text": [
            "Epoch 1/30 Train loss: 1.0964 Acc: 0.4911\n",
            "Epoch 1/30 Test loss: 1.0662 Acc: 0.3154 F1: 0.3006 Subgroup: Light tones\n",
            "Counter({np.int64(0): 274, np.int64(1): 60, np.int64(2): 56}) Counter({np.int64(2): 162, np.int64(1): 134, np.int64(0): 94})\n",
            "              precision    recall  f1-score   support\n",
            "\n",
            "           0       0.74      0.26      0.38       274\n",
            "           1       0.23      0.52      0.32        60\n",
            "           2       0.14      0.39      0.20        56\n",
            "\n",
            "    accuracy                           0.32       390\n",
            "   macro avg       0.37      0.39      0.30       390\n",
            "weighted avg       0.58      0.32      0.35       390\n",
            "\n",
            "Epoch 1/30 Test loss: 1.0067 Acc: 0.4364 F1: 0.3727 Subgroup: Dark tones\n",
            "Counter({np.int64(0): 89, np.int64(1): 11, np.int64(2): 10}) Counter({np.int64(1): 45, np.int64(0): 34, np.int64(2): 31})\n",
            "              precision    recall  f1-score   support\n",
            "\n",
            "           0       1.00      0.38      0.55        89\n",
            "           1       0.20      0.82      0.32        11\n",
            "           2       0.16      0.50      0.24        10\n",
            "\n",
            "    accuracy                           0.44       110\n",
            "   macro avg       0.45      0.57      0.37       110\n",
            "weighted avg       0.84      0.44      0.50       110\n",
            "\n"
          ]
        },
        {
          "output_type": "stream",
          "name": "stderr",
          "text": [
            "Epoch 2/30: 100%|██████████| 7/7 [00:14<00:00,  2.14s/it, acc=0.6518, loss=0.9137]\n"
          ]
        },
        {
          "output_type": "stream",
          "name": "stdout",
          "text": [
            "Epoch 2/30 Train loss: 0.9137 Acc: 0.6518\n",
            "Epoch 2/30 Test loss: 1.0245 Acc: 0.4333 F1: 0.4011 Subgroup: Light tones\n",
            "Counter({np.int64(0): 274, np.int64(1): 60, np.int64(2): 56}) Counter({np.int64(1): 145, np.int64(0): 124, np.int64(2): 121})\n",
            "              precision    recall  f1-score   support\n",
            "\n",
            "           0       0.82      0.37      0.51       274\n",
            "           1       0.30      0.72      0.42        60\n",
            "           2       0.20      0.43      0.27        56\n",
            "\n",
            "    accuracy                           0.43       390\n",
            "   macro avg       0.44      0.51      0.40       390\n",
            "weighted avg       0.65      0.43      0.46       390\n",
            "\n",
            "Epoch 2/30 Test loss: 0.9749 Acc: 0.5364 F1: 0.4464 Subgroup: Dark tones\n",
            "Counter({np.int64(0): 89, np.int64(1): 11, np.int64(2): 10}) Counter({np.int64(0): 47, np.int64(1): 40, np.int64(2): 23})\n",
            "              precision    recall  f1-score   support\n",
            "\n",
            "           0       0.96      0.51      0.66        89\n",
            "           1       0.20      0.73      0.31        11\n",
            "           2       0.26      0.60      0.36        10\n",
            "\n",
            "    accuracy                           0.54       110\n",
            "   macro avg       0.47      0.61      0.45       110\n",
            "weighted avg       0.82      0.54      0.60       110\n",
            "\n"
          ]
        },
        {
          "output_type": "stream",
          "name": "stderr",
          "text": [
            "Epoch 3/30: 100%|██████████| 7/7 [00:15<00:00,  2.18s/it, acc=0.7098, loss=0.7900]\n"
          ]
        },
        {
          "output_type": "stream",
          "name": "stdout",
          "text": [
            "Epoch 3/30 Train loss: 0.7900 Acc: 0.7098\n",
            "Epoch 3/30 Test loss: 1.0014 Acc: 0.4282 F1: 0.3891 Subgroup: Light tones\n",
            "Counter({np.int64(0): 274, np.int64(1): 60, np.int64(2): 56}) Counter({np.int64(1): 150, np.int64(0): 129, np.int64(2): 111})\n",
            "              precision    recall  f1-score   support\n",
            "\n",
            "           0       0.80      0.38      0.51       274\n",
            "           1       0.30      0.75      0.43        60\n",
            "           2       0.17      0.34      0.23        56\n",
            "\n",
            "    accuracy                           0.43       390\n",
            "   macro avg       0.42      0.49      0.39       390\n",
            "weighted avg       0.63      0.43      0.46       390\n",
            "\n",
            "Epoch 3/30 Test loss: 0.9280 Acc: 0.5455 F1: 0.4241 Subgroup: Dark tones\n",
            "Counter({np.int64(0): 89, np.int64(1): 11, np.int64(2): 10}) Counter({np.int64(0): 52, np.int64(1): 37, np.int64(2): 21})\n",
            "              precision    recall  f1-score   support\n",
            "\n",
            "           0       0.92      0.54      0.68        89\n",
            "           1       0.22      0.73      0.33        11\n",
            "           2       0.19      0.40      0.26        10\n",
            "\n",
            "    accuracy                           0.55       110\n",
            "   macro avg       0.44      0.56      0.42       110\n",
            "weighted avg       0.79      0.55      0.61       110\n",
            "\n"
          ]
        },
        {
          "output_type": "stream",
          "name": "stderr",
          "text": [
            "Epoch 4/30: 100%|██████████| 7/7 [00:14<00:00,  2.06s/it, acc=0.7634, loss=0.6691]\n"
          ]
        },
        {
          "output_type": "stream",
          "name": "stdout",
          "text": [
            "Epoch 4/30 Train loss: 0.6691 Acc: 0.7634\n",
            "Epoch 4/30 Test loss: 0.9928 Acc: 0.4487 F1: 0.3937 Subgroup: Light tones\n",
            "Counter({np.int64(0): 274, np.int64(1): 60, np.int64(2): 56}) Counter({np.int64(1): 156, np.int64(0): 142, np.int64(2): 92})\n",
            "              precision    recall  f1-score   support\n",
            "\n",
            "           0       0.80      0.41      0.54       274\n",
            "           1       0.30      0.78      0.44        60\n",
            "           2       0.16      0.27      0.20        56\n",
            "\n",
            "    accuracy                           0.45       390\n",
            "   macro avg       0.42      0.49      0.39       390\n",
            "weighted avg       0.63      0.45      0.48       390\n",
            "\n",
            "Epoch 4/30 Test loss: 0.8874 Acc: 0.6364 F1: 0.4933 Subgroup: Dark tones\n",
            "Counter({np.int64(0): 89, np.int64(1): 11, np.int64(2): 10}) Counter({np.int64(0): 61, np.int64(1): 34, np.int64(2): 15})\n",
            "              precision    recall  f1-score   support\n",
            "\n",
            "           0       0.93      0.64      0.76        89\n",
            "           1       0.26      0.82      0.40        11\n",
            "           2       0.27      0.40      0.32        10\n",
            "\n",
            "    accuracy                           0.64       110\n",
            "   macro avg       0.49      0.62      0.49       110\n",
            "weighted avg       0.81      0.64      0.68       110\n",
            "\n"
          ]
        },
        {
          "output_type": "stream",
          "name": "stderr",
          "text": [
            "Epoch 5/30: 100%|██████████| 7/7 [00:13<00:00,  1.96s/it, acc=0.8270, loss=0.5748]\n"
          ]
        },
        {
          "output_type": "stream",
          "name": "stdout",
          "text": [
            "Epoch 5/30 Train loss: 0.5748 Acc: 0.8270\n",
            "Epoch 5/30 Test loss: 0.9850 Acc: 0.4667 F1: 0.4051 Subgroup: Light tones\n",
            "Counter({np.int64(0): 274, np.int64(1): 60, np.int64(2): 56}) Counter({np.int64(0): 152, np.int64(1): 149, np.int64(2): 89})\n",
            "              precision    recall  f1-score   support\n",
            "\n",
            "           0       0.80      0.44      0.57       274\n",
            "           1       0.31      0.77      0.44        60\n",
            "           2       0.17      0.27      0.21        56\n",
            "\n",
            "    accuracy                           0.47       390\n",
            "   macro avg       0.42      0.49      0.41       390\n",
            "weighted avg       0.63      0.47      0.50       390\n",
            "\n",
            "Epoch 5/30 Test loss: 0.8513 Acc: 0.6455 F1: 0.4589 Subgroup: Dark tones\n",
            "Counter({np.int64(0): 89, np.int64(1): 11, np.int64(2): 10}) Counter({np.int64(0): 66, np.int64(1): 31, np.int64(2): 13})\n",
            "              precision    recall  f1-score   support\n",
            "\n",
            "           0       0.91      0.67      0.77        89\n",
            "           1       0.29      0.82      0.43        11\n",
            "           2       0.15      0.20      0.17        10\n",
            "\n",
            "    accuracy                           0.65       110\n",
            "   macro avg       0.45      0.56      0.46       110\n",
            "weighted avg       0.78      0.65      0.69       110\n",
            "\n"
          ]
        },
        {
          "output_type": "stream",
          "name": "stderr",
          "text": [
            "Epoch 6/30: 100%|██████████| 7/7 [00:14<00:00,  2.01s/it, acc=0.8516, loss=0.4739]\n"
          ]
        },
        {
          "output_type": "stream",
          "name": "stdout",
          "text": [
            "Epoch 6/30 Train loss: 0.4739 Acc: 0.8516\n",
            "Epoch 6/30 Test loss: 0.9860 Acc: 0.4923 F1: 0.4179 Subgroup: Light tones\n",
            "Counter({np.int64(0): 274, np.int64(1): 60, np.int64(2): 56}) Counter({np.int64(0): 166, np.int64(1): 141, np.int64(2): 83})\n",
            "              precision    recall  f1-score   support\n",
            "\n",
            "           0       0.80      0.49      0.60       274\n",
            "           1       0.32      0.75      0.45        60\n",
            "           2       0.17      0.25      0.20        56\n",
            "\n",
            "    accuracy                           0.49       390\n",
            "   macro avg       0.43      0.50      0.42       390\n",
            "weighted avg       0.64      0.49      0.52       390\n",
            "\n",
            "Epoch 6/30 Test loss: 0.8282 Acc: 0.6818 F1: 0.5066 Subgroup: Dark tones\n",
            "Counter({np.int64(0): 89, np.int64(1): 11, np.int64(2): 10}) Counter({np.int64(0): 69, np.int64(1): 28, np.int64(2): 13})\n",
            "              precision    recall  f1-score   support\n",
            "\n",
            "           0       0.91      0.71      0.80        89\n",
            "           1       0.32      0.82      0.46        11\n",
            "           2       0.23      0.30      0.26        10\n",
            "\n",
            "    accuracy                           0.68       110\n",
            "   macro avg       0.49      0.61      0.51       110\n",
            "weighted avg       0.79      0.68      0.72       110\n",
            "\n"
          ]
        },
        {
          "output_type": "stream",
          "name": "stderr",
          "text": [
            "Epoch 7/30: 100%|██████████| 7/7 [00:13<00:00,  1.99s/it, acc=0.8873, loss=0.3959]\n"
          ]
        },
        {
          "output_type": "stream",
          "name": "stdout",
          "text": [
            "Epoch 7/30 Train loss: 0.3959 Acc: 0.8873\n",
            "Epoch 7/30 Test loss: 0.9967 Acc: 0.5154 F1: 0.4200 Subgroup: Light tones\n",
            "Counter({np.int64(0): 274, np.int64(1): 60, np.int64(2): 56}) Counter({np.int64(0): 187, np.int64(1): 131, np.int64(2): 72})\n",
            "              precision    recall  f1-score   support\n",
            "\n",
            "           0       0.79      0.54      0.64       274\n",
            "           1       0.33      0.72      0.45        60\n",
            "           2       0.15      0.20      0.17        56\n",
            "\n",
            "    accuracy                           0.52       390\n",
            "   macro avg       0.42      0.48      0.42       390\n",
            "weighted avg       0.62      0.52      0.54       390\n",
            "\n",
            "Epoch 7/30 Test loss: 0.8135 Acc: 0.6909 F1: 0.5132 Subgroup: Dark tones\n",
            "Counter({np.int64(0): 89, np.int64(1): 11, np.int64(2): 10}) Counter({np.int64(0): 70, np.int64(1): 27, np.int64(2): 13})\n",
            "              precision    recall  f1-score   support\n",
            "\n",
            "           0       0.91      0.72      0.81        89\n",
            "           1       0.33      0.82      0.47        11\n",
            "           2       0.23      0.30      0.26        10\n",
            "\n",
            "    accuracy                           0.69       110\n",
            "   macro avg       0.49      0.61      0.51       110\n",
            "weighted avg       0.79      0.69      0.72       110\n",
            "\n"
          ]
        },
        {
          "output_type": "stream",
          "name": "stderr",
          "text": [
            "Epoch 8/30: 100%|██████████| 7/7 [00:14<00:00,  2.02s/it, acc=0.9185, loss=0.3162]\n"
          ]
        },
        {
          "output_type": "stream",
          "name": "stdout",
          "text": [
            "Epoch 8/30 Train loss: 0.3162 Acc: 0.9185\n",
            "Epoch 8/30 Test loss: 1.0116 Acc: 0.5487 F1: 0.4468 Subgroup: Light tones\n",
            "Counter({np.int64(0): 274, np.int64(1): 60, np.int64(2): 56}) Counter({np.int64(0): 199, np.int64(1): 119, np.int64(2): 72})\n",
            "              precision    recall  f1-score   support\n",
            "\n",
            "           0       0.80      0.58      0.67       274\n",
            "           1       0.36      0.72      0.48        60\n",
            "           2       0.17      0.21      0.19        56\n",
            "\n",
            "    accuracy                           0.55       390\n",
            "   macro avg       0.44      0.50      0.45       390\n",
            "weighted avg       0.64      0.55      0.57       390\n",
            "\n",
            "Epoch 8/30 Test loss: 0.8080 Acc: 0.7273 F1: 0.5403 Subgroup: Dark tones\n",
            "Counter({np.int64(0): 89, np.int64(1): 11, np.int64(2): 10}) Counter({np.int64(0): 74, np.int64(1): 26, np.int64(2): 10})\n",
            "              precision    recall  f1-score   support\n",
            "\n",
            "           0       0.92      0.76      0.83        89\n",
            "           1       0.35      0.82      0.49        11\n",
            "           2       0.30      0.30      0.30        10\n",
            "\n",
            "    accuracy                           0.73       110\n",
            "   macro avg       0.52      0.63      0.54       110\n",
            "weighted avg       0.81      0.73      0.75       110\n",
            "\n"
          ]
        },
        {
          "output_type": "stream",
          "name": "stderr",
          "text": [
            "Epoch 9/30: 100%|██████████| 7/7 [00:13<00:00,  1.98s/it, acc=0.9342, loss=0.2590]\n"
          ]
        },
        {
          "output_type": "stream",
          "name": "stdout",
          "text": [
            "Epoch 9/30 Train loss: 0.2590 Acc: 0.9342\n",
            "Epoch 9/30 Test loss: 1.0460 Acc: 0.5795 F1: 0.4596 Subgroup: Light tones\n",
            "Counter({np.int64(0): 274, np.int64(1): 60, np.int64(2): 56}) Counter({np.int64(0): 218, np.int64(1): 108, np.int64(2): 64})\n",
            "              precision    recall  f1-score   support\n",
            "\n",
            "           0       0.80      0.64      0.71       274\n",
            "           1       0.38      0.68      0.49        60\n",
            "           2       0.17      0.20      0.18        56\n",
            "\n",
            "    accuracy                           0.58       390\n",
            "   macro avg       0.45      0.50      0.46       390\n",
            "weighted avg       0.64      0.58      0.60       390\n",
            "\n",
            "Epoch 9/30 Test loss: 0.8237 Acc: 0.7273 F1: 0.5309 Subgroup: Dark tones\n",
            "Counter({np.int64(0): 89, np.int64(1): 11, np.int64(2): 10}) Counter({np.int64(0): 76, np.int64(1): 23, np.int64(2): 11})\n",
            "              precision    recall  f1-score   support\n",
            "\n",
            "           0       0.91      0.78      0.84        89\n",
            "           1       0.35      0.73      0.47        11\n",
            "           2       0.27      0.30      0.29        10\n",
            "\n",
            "    accuracy                           0.73       110\n",
            "   macro avg       0.51      0.60      0.53       110\n",
            "weighted avg       0.79      0.73      0.75       110\n",
            "\n"
          ]
        },
        {
          "output_type": "stream",
          "name": "stderr",
          "text": [
            "Epoch 10/30: 100%|██████████| 7/7 [00:13<00:00,  1.99s/it, acc=0.9520, loss=0.2157]\n"
          ]
        },
        {
          "output_type": "stream",
          "name": "stdout",
          "text": [
            "Epoch 10/30 Train loss: 0.2157 Acc: 0.9520\n",
            "Epoch 10/30 Test loss: 1.0732 Acc: 0.5897 F1: 0.4680 Subgroup: Light tones\n",
            "Counter({np.int64(0): 274, np.int64(1): 60, np.int64(2): 56}) Counter({np.int64(0): 219, np.int64(1): 113, np.int64(2): 58})\n",
            "              precision    recall  f1-score   support\n",
            "\n",
            "           0       0.80      0.64      0.71       274\n",
            "           1       0.38      0.72      0.50        60\n",
            "           2       0.19      0.20      0.19        56\n",
            "\n",
            "    accuracy                           0.59       390\n",
            "   macro avg       0.46      0.52      0.47       390\n",
            "weighted avg       0.65      0.59      0.61       390\n",
            "\n",
            "Epoch 10/30 Test loss: 0.8276 Acc: 0.7455 F1: 0.5456 Subgroup: Dark tones\n",
            "Counter({np.int64(0): 89, np.int64(1): 11, np.int64(2): 10}) Counter({np.int64(0): 78, np.int64(1): 23, np.int64(2): 9})\n",
            "              precision    recall  f1-score   support\n",
            "\n",
            "           0       0.91      0.80      0.85        89\n",
            "           1       0.35      0.73      0.47        11\n",
            "           2       0.33      0.30      0.32        10\n",
            "\n",
            "    accuracy                           0.75       110\n",
            "   macro avg       0.53      0.61      0.55       110\n",
            "weighted avg       0.80      0.75      0.76       110\n",
            "\n"
          ]
        },
        {
          "output_type": "stream",
          "name": "stderr",
          "text": [
            "Epoch 11/30: 100%|██████████| 7/7 [00:13<00:00,  1.98s/it, acc=0.9699, loss=0.1678]\n"
          ]
        },
        {
          "output_type": "stream",
          "name": "stdout",
          "text": [
            "Epoch 11/30 Train loss: 0.1678 Acc: 0.9699\n",
            "Epoch 11/30 Test loss: 1.1218 Acc: 0.6154 F1: 0.4783 Subgroup: Light tones\n",
            "Counter({np.int64(0): 274, np.int64(1): 60, np.int64(2): 56}) Counter({np.int64(0): 236, np.int64(1): 102, np.int64(2): 52})\n",
            "              precision    recall  f1-score   support\n",
            "\n",
            "           0       0.80      0.69      0.74       274\n",
            "           1       0.42      0.72      0.53        60\n",
            "           2       0.17      0.16      0.17        56\n",
            "\n",
            "    accuracy                           0.62       390\n",
            "   macro avg       0.46      0.52      0.48       390\n",
            "weighted avg       0.65      0.62      0.62       390\n",
            "\n",
            "Epoch 11/30 Test loss: 0.8440 Acc: 0.7636 F1: 0.5493 Subgroup: Dark tones\n",
            "Counter({np.int64(0): 89, np.int64(1): 11, np.int64(2): 10}) Counter({np.int64(0): 82, np.int64(1): 19, np.int64(2): 9})\n",
            "              precision    recall  f1-score   support\n",
            "\n",
            "           0       0.90      0.83      0.87        89\n",
            "           1       0.37      0.64      0.47        11\n",
            "           2       0.33      0.30      0.32        10\n",
            "\n",
            "    accuracy                           0.76       110\n",
            "   macro avg       0.53      0.59      0.55       110\n",
            "weighted avg       0.80      0.76      0.78       110\n",
            "\n"
          ]
        },
        {
          "output_type": "stream",
          "name": "stderr",
          "text": [
            "Epoch 12/30: 100%|██████████| 7/7 [00:13<00:00,  1.97s/it, acc=0.9777, loss=0.1343]\n"
          ]
        },
        {
          "output_type": "stream",
          "name": "stdout",
          "text": [
            "Epoch 12/30 Train loss: 0.1343 Acc: 0.9777\n",
            "Epoch 12/30 Test loss: 1.1780 Acc: 0.6308 F1: 0.4743 Subgroup: Light tones\n",
            "Counter({np.int64(0): 274, np.int64(1): 60, np.int64(2): 56}) Counter({np.int64(0): 253, np.int64(1): 89, np.int64(2): 48})\n",
            "              precision    recall  f1-score   support\n",
            "\n",
            "           0       0.79      0.73      0.76       274\n",
            "           1       0.43      0.63      0.51        60\n",
            "           2       0.17      0.14      0.15        56\n",
            "\n",
            "    accuracy                           0.63       390\n",
            "   macro avg       0.46      0.50      0.47       390\n",
            "weighted avg       0.65      0.63      0.63       390\n",
            "\n",
            "Epoch 12/30 Test loss: 0.8762 Acc: 0.7727 F1: 0.5569 Subgroup: Dark tones\n",
            "Counter({np.int64(0): 89, np.int64(1): 11, np.int64(2): 10}) Counter({np.int64(0): 83, np.int64(1): 18, np.int64(2): 9})\n",
            "              precision    recall  f1-score   support\n",
            "\n",
            "           0       0.90      0.84      0.87        89\n",
            "           1       0.39      0.64      0.48        11\n",
            "           2       0.33      0.30      0.32        10\n",
            "\n",
            "    accuracy                           0.77       110\n",
            "   macro avg       0.54      0.59      0.56       110\n",
            "weighted avg       0.80      0.77      0.78       110\n",
            "\n"
          ]
        },
        {
          "output_type": "stream",
          "name": "stderr",
          "text": [
            "Epoch 13/30: 100%|██████████| 7/7 [00:13<00:00,  1.98s/it, acc=0.9900, loss=0.1015]\n"
          ]
        },
        {
          "output_type": "stream",
          "name": "stdout",
          "text": [
            "Epoch 13/30 Train loss: 0.1015 Acc: 0.9900\n",
            "Epoch 13/30 Test loss: 1.2319 Acc: 0.6333 F1: 0.4643 Subgroup: Light tones\n",
            "Counter({np.int64(0): 274, np.int64(1): 60, np.int64(2): 56}) Counter({np.int64(0): 261, np.int64(1): 85, np.int64(2): 44})\n",
            "              precision    recall  f1-score   support\n",
            "\n",
            "           0       0.78      0.74      0.76       274\n",
            "           1       0.44      0.62      0.51        60\n",
            "           2       0.14      0.11      0.12        56\n",
            "\n",
            "    accuracy                           0.63       390\n",
            "   macro avg       0.45      0.49      0.46       390\n",
            "weighted avg       0.64      0.63      0.63       390\n",
            "\n",
            "Epoch 13/30 Test loss: 0.9134 Acc: 0.7818 F1: 0.5648 Subgroup: Dark tones\n",
            "Counter({np.int64(0): 89, np.int64(1): 11, np.int64(2): 10}) Counter({np.int64(0): 84, np.int64(1): 17, np.int64(2): 9})\n",
            "              precision    recall  f1-score   support\n",
            "\n",
            "           0       0.90      0.85      0.88        89\n",
            "           1       0.41      0.64      0.50        11\n",
            "           2       0.33      0.30      0.32        10\n",
            "\n",
            "    accuracy                           0.78       110\n",
            "   macro avg       0.55      0.60      0.56       110\n",
            "weighted avg       0.80      0.78      0.79       110\n",
            "\n"
          ]
        },
        {
          "output_type": "stream",
          "name": "stderr",
          "text": [
            "Epoch 14/30: 100%|██████████| 7/7 [00:13<00:00,  1.96s/it, acc=0.9922, loss=0.0838]\n"
          ]
        },
        {
          "output_type": "stream",
          "name": "stdout",
          "text": [
            "Epoch 14/30 Train loss: 0.0838 Acc: 0.9922\n",
            "Epoch 14/30 Test loss: 1.2760 Acc: 0.6436 F1: 0.4663 Subgroup: Light tones\n",
            "Counter({np.int64(0): 274, np.int64(1): 60, np.int64(2): 56}) Counter({np.int64(0): 269, np.int64(1): 81, np.int64(2): 40})\n",
            "              precision    recall  f1-score   support\n",
            "\n",
            "           0       0.78      0.76      0.77       274\n",
            "           1       0.46      0.62      0.52        60\n",
            "           2       0.12      0.09      0.10        56\n",
            "\n",
            "    accuracy                           0.64       390\n",
            "   macro avg       0.45      0.49      0.47       390\n",
            "weighted avg       0.63      0.64      0.64       390\n",
            "\n",
            "Epoch 14/30 Test loss: 0.9402 Acc: 0.8091 F1: 0.5897 Subgroup: Dark tones\n",
            "Counter({np.int64(0): 89, np.int64(1): 11, np.int64(2): 10}) Counter({np.int64(0): 87, np.int64(1): 16, np.int64(2): 7})\n",
            "              precision    recall  f1-score   support\n",
            "\n",
            "           0       0.91      0.89      0.90        89\n",
            "           1       0.44      0.64      0.52        11\n",
            "           2       0.43      0.30      0.35        10\n",
            "\n",
            "    accuracy                           0.81       110\n",
            "   macro avg       0.59      0.61      0.59       110\n",
            "weighted avg       0.82      0.81      0.81       110\n",
            "\n"
          ]
        },
        {
          "output_type": "stream",
          "name": "stderr",
          "text": [
            "Epoch 15/30: 100%|██████████| 7/7 [00:13<00:00,  1.97s/it, acc=0.9955, loss=0.0704]\n"
          ]
        },
        {
          "output_type": "stream",
          "name": "stdout",
          "text": [
            "Epoch 15/30 Train loss: 0.0704 Acc: 0.9955\n",
            "Epoch 15/30 Test loss: 1.3177 Acc: 0.6615 F1: 0.4893 Subgroup: Light tones\n",
            "Counter({np.int64(0): 274, np.int64(1): 60, np.int64(2): 56}) Counter({np.int64(0): 270, np.int64(1): 79, np.int64(2): 41})\n",
            "              precision    recall  f1-score   support\n",
            "\n",
            "           0       0.79      0.78      0.78       274\n",
            "           1       0.49      0.65      0.56        60\n",
            "           2       0.15      0.11      0.12        56\n",
            "\n",
            "    accuracy                           0.66       390\n",
            "   macro avg       0.48      0.51      0.49       390\n",
            "weighted avg       0.65      0.66      0.65       390\n",
            "\n",
            "Epoch 15/30 Test loss: 0.9714 Acc: 0.8091 F1: 0.5909 Subgroup: Dark tones\n",
            "Counter({np.int64(0): 89, np.int64(1): 11, np.int64(2): 10}) Counter({np.int64(0): 87, np.int64(1): 17, np.int64(2): 6})\n",
            "              precision    recall  f1-score   support\n",
            "\n",
            "           0       0.91      0.89      0.90        89\n",
            "           1       0.41      0.64      0.50        11\n",
            "           2       0.50      0.30      0.38        10\n",
            "\n",
            "    accuracy                           0.81       110\n",
            "   macro avg       0.61      0.61      0.59       110\n",
            "weighted avg       0.82      0.81      0.81       110\n",
            "\n"
          ]
        },
        {
          "output_type": "stream",
          "name": "stderr",
          "text": [
            "Epoch 16/30: 100%|██████████| 7/7 [00:13<00:00,  1.99s/it, acc=0.9978, loss=0.0536]\n"
          ]
        },
        {
          "output_type": "stream",
          "name": "stdout",
          "text": [
            "Epoch 16/30 Train loss: 0.0536 Acc: 0.9978\n",
            "Epoch 16/30 Test loss: 1.3714 Acc: 0.6641 F1: 0.4790 Subgroup: Light tones\n",
            "Counter({np.int64(0): 274, np.int64(1): 60, np.int64(2): 56}) Counter({np.int64(0): 275, np.int64(1): 77, np.int64(2): 38})\n",
            "              precision    recall  f1-score   support\n",
            "\n",
            "           0       0.79      0.79      0.79       274\n",
            "           1       0.48      0.62      0.54        60\n",
            "           2       0.13      0.09      0.11        56\n",
            "\n",
            "    accuracy                           0.66       390\n",
            "   macro avg       0.47      0.50      0.48       390\n",
            "weighted avg       0.65      0.66      0.65       390\n",
            "\n",
            "Epoch 16/30 Test loss: 0.9968 Acc: 0.8091 F1: 0.5897 Subgroup: Dark tones\n",
            "Counter({np.int64(0): 89, np.int64(1): 11, np.int64(2): 10}) Counter({np.int64(0): 87, np.int64(1): 16, np.int64(2): 7})\n",
            "              precision    recall  f1-score   support\n",
            "\n",
            "           0       0.91      0.89      0.90        89\n",
            "           1       0.44      0.64      0.52        11\n",
            "           2       0.43      0.30      0.35        10\n",
            "\n",
            "    accuracy                           0.81       110\n",
            "   macro avg       0.59      0.61      0.59       110\n",
            "weighted avg       0.82      0.81      0.81       110\n",
            "\n"
          ]
        },
        {
          "output_type": "stream",
          "name": "stderr",
          "text": [
            "Epoch 17/30: 100%|██████████| 7/7 [00:14<00:00,  2.01s/it, acc=0.9967, loss=0.0434]\n"
          ]
        },
        {
          "output_type": "stream",
          "name": "stdout",
          "text": [
            "Epoch 17/30 Train loss: 0.0434 Acc: 0.9967\n",
            "Epoch 17/30 Test loss: 1.4326 Acc: 0.6718 F1: 0.4820 Subgroup: Light tones\n",
            "Counter({np.int64(0): 274, np.int64(1): 60, np.int64(2): 56}) Counter({np.int64(0): 284, np.int64(1): 69, np.int64(2): 37})\n",
            "              precision    recall  f1-score   support\n",
            "\n",
            "           0       0.78      0.81      0.80       274\n",
            "           1       0.51      0.58      0.54        60\n",
            "           2       0.14      0.09      0.11        56\n",
            "\n",
            "    accuracy                           0.67       390\n",
            "   macro avg       0.47      0.49      0.48       390\n",
            "weighted avg       0.65      0.67      0.66       390\n",
            "\n",
            "Epoch 17/30 Test loss: 1.0388 Acc: 0.8091 F1: 0.5909 Subgroup: Dark tones\n",
            "Counter({np.int64(0): 89, np.int64(1): 11, np.int64(2): 10}) Counter({np.int64(0): 87, np.int64(1): 17, np.int64(2): 6})\n",
            "              precision    recall  f1-score   support\n",
            "\n",
            "           0       0.91      0.89      0.90        89\n",
            "           1       0.41      0.64      0.50        11\n",
            "           2       0.50      0.30      0.38        10\n",
            "\n",
            "    accuracy                           0.81       110\n",
            "   macro avg       0.61      0.61      0.59       110\n",
            "weighted avg       0.82      0.81      0.81       110\n",
            "\n"
          ]
        },
        {
          "output_type": "stream",
          "name": "stderr",
          "text": [
            "Epoch 18/30: 100%|██████████| 7/7 [00:14<00:00,  2.01s/it, acc=0.9989, loss=0.0335]\n"
          ]
        },
        {
          "output_type": "stream",
          "name": "stdout",
          "text": [
            "Epoch 18/30 Train loss: 0.0335 Acc: 0.9989\n",
            "Epoch 18/30 Test loss: 1.4606 Acc: 0.6769 F1: 0.4934 Subgroup: Light tones\n",
            "Counter({np.int64(0): 274, np.int64(1): 60, np.int64(2): 56}) Counter({np.int64(0): 282, np.int64(1): 70, np.int64(2): 38})\n",
            "              precision    recall  f1-score   support\n",
            "\n",
            "           0       0.79      0.81      0.80       274\n",
            "           1       0.51      0.60      0.55        60\n",
            "           2       0.16      0.11      0.13        56\n",
            "\n",
            "    accuracy                           0.68       390\n",
            "   macro avg       0.49      0.51      0.49       390\n",
            "weighted avg       0.65      0.68      0.66       390\n",
            "\n",
            "Epoch 18/30 Test loss: 1.0566 Acc: 0.8091 F1: 0.5897 Subgroup: Dark tones\n",
            "Counter({np.int64(0): 89, np.int64(1): 11, np.int64(2): 10}) Counter({np.int64(0): 87, np.int64(1): 16, np.int64(2): 7})\n",
            "              precision    recall  f1-score   support\n",
            "\n",
            "           0       0.91      0.89      0.90        89\n",
            "           1       0.44      0.64      0.52        11\n",
            "           2       0.43      0.30      0.35        10\n",
            "\n",
            "    accuracy                           0.81       110\n",
            "   macro avg       0.59      0.61      0.59       110\n",
            "weighted avg       0.82      0.81      0.81       110\n",
            "\n"
          ]
        },
        {
          "output_type": "stream",
          "name": "stderr",
          "text": [
            "Epoch 19/30: 100%|██████████| 7/7 [00:14<00:00,  2.00s/it, acc=0.9989, loss=0.0323]\n"
          ]
        },
        {
          "output_type": "stream",
          "name": "stdout",
          "text": [
            "Epoch 19/30 Train loss: 0.0323 Acc: 0.9989\n",
            "Epoch 19/30 Test loss: 1.4861 Acc: 0.6769 F1: 0.4974 Subgroup: Light tones\n",
            "Counter({np.int64(0): 274, np.int64(1): 60, np.int64(2): 56}) Counter({np.int64(0): 279, np.int64(1): 72, np.int64(2): 39})\n",
            "              precision    recall  f1-score   support\n",
            "\n",
            "           0       0.79      0.81      0.80       274\n",
            "           1       0.50      0.60      0.55        60\n",
            "           2       0.18      0.12      0.15        56\n",
            "\n",
            "    accuracy                           0.68       390\n",
            "   macro avg       0.49      0.51      0.50       390\n",
            "weighted avg       0.66      0.68      0.67       390\n",
            "\n",
            "Epoch 19/30 Test loss: 1.0681 Acc: 0.8091 F1: 0.5897 Subgroup: Dark tones\n",
            "Counter({np.int64(0): 89, np.int64(1): 11, np.int64(2): 10}) Counter({np.int64(0): 87, np.int64(1): 16, np.int64(2): 7})\n",
            "              precision    recall  f1-score   support\n",
            "\n",
            "           0       0.91      0.89      0.90        89\n",
            "           1       0.44      0.64      0.52        11\n",
            "           2       0.43      0.30      0.35        10\n",
            "\n",
            "    accuracy                           0.81       110\n",
            "   macro avg       0.59      0.61      0.59       110\n",
            "weighted avg       0.82      0.81      0.81       110\n",
            "\n"
          ]
        },
        {
          "output_type": "stream",
          "name": "stderr",
          "text": [
            "Epoch 20/30: 100%|██████████| 7/7 [00:15<00:00,  2.17s/it, acc=1.0000, loss=0.0216]\n"
          ]
        },
        {
          "output_type": "stream",
          "name": "stdout",
          "text": [
            "Epoch 20/30 Train loss: 0.0216 Acc: 1.0000\n",
            "Epoch 20/30 Test loss: 1.5460 Acc: 0.6821 F1: 0.5073 Subgroup: Light tones\n",
            "Counter({np.int64(0): 274, np.int64(1): 60, np.int64(2): 56}) Counter({np.int64(0): 280, np.int64(1): 70, np.int64(2): 40})\n",
            "              precision    recall  f1-score   support\n",
            "\n",
            "           0       0.79      0.81      0.80       274\n",
            "           1       0.51      0.60      0.55        60\n",
            "           2       0.20      0.14      0.17        56\n",
            "\n",
            "    accuracy                           0.68       390\n",
            "   macro avg       0.50      0.52      0.51       390\n",
            "weighted avg       0.66      0.68      0.67       390\n",
            "\n",
            "Epoch 20/30 Test loss: 1.1192 Acc: 0.8091 F1: 0.5897 Subgroup: Dark tones\n",
            "Counter({np.int64(0): 89, np.int64(1): 11, np.int64(2): 10}) Counter({np.int64(0): 87, np.int64(1): 16, np.int64(2): 7})\n",
            "              precision    recall  f1-score   support\n",
            "\n",
            "           0       0.91      0.89      0.90        89\n",
            "           1       0.44      0.64      0.52        11\n",
            "           2       0.43      0.30      0.35        10\n",
            "\n",
            "    accuracy                           0.81       110\n",
            "   macro avg       0.59      0.61      0.59       110\n",
            "weighted avg       0.82      0.81      0.81       110\n",
            "\n"
          ]
        },
        {
          "output_type": "stream",
          "name": "stderr",
          "text": [
            "Epoch 21/30: 100%|██████████| 7/7 [00:14<00:00,  2.01s/it, acc=1.0000, loss=0.0197]\n"
          ]
        },
        {
          "output_type": "stream",
          "name": "stdout",
          "text": [
            "Epoch 21/30 Train loss: 0.0197 Acc: 1.0000\n",
            "Epoch 21/30 Test loss: 1.5940 Acc: 0.6821 F1: 0.5083 Subgroup: Light tones\n",
            "Counter({np.int64(0): 274, np.int64(1): 60, np.int64(2): 56}) Counter({np.int64(0): 281, np.int64(1): 69, np.int64(2): 40})\n",
            "              precision    recall  f1-score   support\n",
            "\n",
            "           0       0.79      0.81      0.80       274\n",
            "           1       0.52      0.60      0.56        60\n",
            "           2       0.20      0.14      0.17        56\n",
            "\n",
            "    accuracy                           0.68       390\n",
            "   macro avg       0.50      0.52      0.51       390\n",
            "weighted avg       0.66      0.68      0.67       390\n",
            "\n",
            "Epoch 21/30 Test loss: 1.1385 Acc: 0.8000 F1: 0.5690 Subgroup: Dark tones\n",
            "Counter({np.int64(0): 89, np.int64(1): 11, np.int64(2): 10}) Counter({np.int64(0): 88, np.int64(1): 15, np.int64(2): 7})\n",
            "              precision    recall  f1-score   support\n",
            "\n",
            "           0       0.90      0.89      0.89        89\n",
            "           1       0.40      0.55      0.46        11\n",
            "           2       0.43      0.30      0.35        10\n",
            "\n",
            "    accuracy                           0.80       110\n",
            "   macro avg       0.58      0.58      0.57       110\n",
            "weighted avg       0.81      0.80      0.80       110\n",
            "\n"
          ]
        },
        {
          "output_type": "stream",
          "name": "stderr",
          "text": [
            "Epoch 22/30: 100%|██████████| 7/7 [00:16<00:00,  2.37s/it, acc=1.0000, loss=0.0165]\n"
          ]
        },
        {
          "output_type": "stream",
          "name": "stdout",
          "text": [
            "Epoch 22/30 Train loss: 0.0165 Acc: 1.0000\n",
            "Epoch 22/30 Test loss: 1.6236 Acc: 0.6872 F1: 0.5138 Subgroup: Light tones\n",
            "Counter({np.int64(0): 274, np.int64(1): 60, np.int64(2): 56}) Counter({np.int64(0): 281, np.int64(1): 70, np.int64(2): 39})\n",
            "              precision    recall  f1-score   support\n",
            "\n",
            "           0       0.79      0.81      0.80       274\n",
            "           1       0.53      0.62      0.57        60\n",
            "           2       0.21      0.14      0.17        56\n",
            "\n",
            "    accuracy                           0.69       390\n",
            "   macro avg       0.51      0.52      0.51       390\n",
            "weighted avg       0.67      0.69      0.68       390\n",
            "\n",
            "Epoch 22/30 Test loss: 1.1522 Acc: 0.8000 F1: 0.5690 Subgroup: Dark tones\n",
            "Counter({np.int64(0): 89, np.int64(1): 11, np.int64(2): 10}) Counter({np.int64(0): 88, np.int64(1): 15, np.int64(2): 7})\n",
            "              precision    recall  f1-score   support\n",
            "\n",
            "           0       0.90      0.89      0.89        89\n",
            "           1       0.40      0.55      0.46        11\n",
            "           2       0.43      0.30      0.35        10\n",
            "\n",
            "    accuracy                           0.80       110\n",
            "   macro avg       0.58      0.58      0.57       110\n",
            "weighted avg       0.81      0.80      0.80       110\n",
            "\n"
          ]
        },
        {
          "output_type": "stream",
          "name": "stderr",
          "text": [
            "Epoch 23/30: 100%|██████████| 7/7 [00:14<00:00,  2.08s/it, acc=1.0000, loss=0.0138]\n"
          ]
        },
        {
          "output_type": "stream",
          "name": "stdout",
          "text": [
            "Epoch 23/30 Train loss: 0.0138 Acc: 1.0000\n",
            "Epoch 23/30 Test loss: 1.6437 Acc: 0.6846 F1: 0.5145 Subgroup: Light tones\n",
            "Counter({np.int64(0): 274, np.int64(1): 60, np.int64(2): 56}) Counter({np.int64(0): 279, np.int64(1): 72, np.int64(2): 39})\n",
            "              precision    recall  f1-score   support\n",
            "\n",
            "           0       0.79      0.81      0.80       274\n",
            "           1       0.53      0.63      0.58        60\n",
            "           2       0.21      0.14      0.17        56\n",
            "\n",
            "    accuracy                           0.68       390\n",
            "   macro avg       0.51      0.53      0.51       390\n",
            "weighted avg       0.67      0.68      0.67       390\n",
            "\n",
            "Epoch 23/30 Test loss: 1.1642 Acc: 0.8000 F1: 0.5690 Subgroup: Dark tones\n",
            "Counter({np.int64(0): 89, np.int64(1): 11, np.int64(2): 10}) Counter({np.int64(0): 88, np.int64(1): 15, np.int64(2): 7})\n",
            "              precision    recall  f1-score   support\n",
            "\n",
            "           0       0.90      0.89      0.89        89\n",
            "           1       0.40      0.55      0.46        11\n",
            "           2       0.43      0.30      0.35        10\n",
            "\n",
            "    accuracy                           0.80       110\n",
            "   macro avg       0.58      0.58      0.57       110\n",
            "weighted avg       0.81      0.80      0.80       110\n",
            "\n"
          ]
        },
        {
          "output_type": "stream",
          "name": "stderr",
          "text": [
            "Epoch 24/30: 100%|██████████| 7/7 [00:15<00:00,  2.27s/it, acc=1.0000, loss=0.0126]\n"
          ]
        },
        {
          "output_type": "stream",
          "name": "stdout",
          "text": [
            "Epoch 24/30 Train loss: 0.0126 Acc: 1.0000\n",
            "Epoch 24/30 Test loss: 1.6595 Acc: 0.6821 F1: 0.5106 Subgroup: Light tones\n",
            "Counter({np.int64(0): 274, np.int64(1): 60, np.int64(2): 56}) Counter({np.int64(0): 277, np.int64(1): 75, np.int64(2): 38})\n",
            "              precision    recall  f1-score   support\n",
            "\n",
            "           0       0.79      0.80      0.80       274\n",
            "           1       0.51      0.63      0.56        60\n",
            "           2       0.21      0.14      0.17        56\n",
            "\n",
            "    accuracy                           0.68       390\n",
            "   macro avg       0.50      0.53      0.51       390\n",
            "weighted avg       0.67      0.68      0.67       390\n",
            "\n",
            "Epoch 24/30 Test loss: 1.1818 Acc: 0.8000 F1: 0.5690 Subgroup: Dark tones\n",
            "Counter({np.int64(0): 89, np.int64(1): 11, np.int64(2): 10}) Counter({np.int64(0): 88, np.int64(1): 15, np.int64(2): 7})\n",
            "              precision    recall  f1-score   support\n",
            "\n",
            "           0       0.90      0.89      0.89        89\n",
            "           1       0.40      0.55      0.46        11\n",
            "           2       0.43      0.30      0.35        10\n",
            "\n",
            "    accuracy                           0.80       110\n",
            "   macro avg       0.58      0.58      0.57       110\n",
            "weighted avg       0.81      0.80      0.80       110\n",
            "\n"
          ]
        },
        {
          "output_type": "stream",
          "name": "stderr",
          "text": [
            "Epoch 25/30: 100%|██████████| 7/7 [00:15<00:00,  2.22s/it, acc=1.0000, loss=0.0112]\n"
          ]
        },
        {
          "output_type": "stream",
          "name": "stdout",
          "text": [
            "Epoch 25/30 Train loss: 0.0112 Acc: 1.0000\n",
            "Epoch 25/30 Test loss: 1.6902 Acc: 0.6872 F1: 0.5153 Subgroup: Light tones\n",
            "Counter({np.int64(0): 274, np.int64(1): 60, np.int64(2): 56}) Counter({np.int64(0): 278, np.int64(1): 77, np.int64(2): 35})\n",
            "              precision    recall  f1-score   support\n",
            "\n",
            "           0       0.79      0.81      0.80       274\n",
            "           1       0.51      0.65      0.57        60\n",
            "           2       0.23      0.14      0.18        56\n",
            "\n",
            "    accuracy                           0.69       390\n",
            "   macro avg       0.51      0.53      0.52       390\n",
            "weighted avg       0.67      0.69      0.68       390\n",
            "\n",
            "Epoch 25/30 Test loss: 1.1993 Acc: 0.8091 F1: 0.5785 Subgroup: Dark tones\n",
            "Counter({np.int64(0): 89, np.int64(1): 11, np.int64(2): 10}) Counter({np.int64(0): 89, np.int64(1): 15, np.int64(2): 6})\n",
            "              precision    recall  f1-score   support\n",
            "\n",
            "           0       0.90      0.90      0.90        89\n",
            "           1       0.40      0.55      0.46        11\n",
            "           2       0.50      0.30      0.38        10\n",
            "\n",
            "    accuracy                           0.81       110\n",
            "   macro avg       0.60      0.58      0.58       110\n",
            "weighted avg       0.81      0.81      0.81       110\n",
            "\n"
          ]
        },
        {
          "output_type": "stream",
          "name": "stderr",
          "text": [
            "Epoch 26/30: 100%|██████████| 7/7 [00:14<00:00,  2.07s/it, acc=1.0000, loss=0.0098]\n"
          ]
        },
        {
          "output_type": "stream",
          "name": "stdout",
          "text": [
            "Epoch 26/30 Train loss: 0.0098 Acc: 1.0000\n",
            "Epoch 26/30 Test loss: 1.7123 Acc: 0.6795 F1: 0.5085 Subgroup: Light tones\n",
            "Counter({np.int64(0): 274, np.int64(1): 60, np.int64(2): 56}) Counter({np.int64(0): 276, np.int64(1): 76, np.int64(2): 38})\n",
            "              precision    recall  f1-score   support\n",
            "\n",
            "           0       0.79      0.80      0.80       274\n",
            "           1       0.50      0.63      0.56        60\n",
            "           2       0.21      0.14      0.17        56\n",
            "\n",
            "    accuracy                           0.68       390\n",
            "   macro avg       0.50      0.53      0.51       390\n",
            "weighted avg       0.66      0.68      0.67       390\n",
            "\n",
            "Epoch 26/30 Test loss: 1.2076 Acc: 0.8091 F1: 0.5785 Subgroup: Dark tones\n",
            "Counter({np.int64(0): 89, np.int64(1): 11, np.int64(2): 10}) Counter({np.int64(0): 89, np.int64(1): 15, np.int64(2): 6})\n",
            "              precision    recall  f1-score   support\n",
            "\n",
            "           0       0.90      0.90      0.90        89\n",
            "           1       0.40      0.55      0.46        11\n",
            "           2       0.50      0.30      0.38        10\n",
            "\n",
            "    accuracy                           0.81       110\n",
            "   macro avg       0.60      0.58      0.58       110\n",
            "weighted avg       0.81      0.81      0.81       110\n",
            "\n"
          ]
        },
        {
          "output_type": "stream",
          "name": "stderr",
          "text": [
            "Epoch 27/30: 100%|██████████| 7/7 [00:18<00:00,  2.58s/it, acc=1.0000, loss=0.0082]\n"
          ]
        },
        {
          "output_type": "stream",
          "name": "stdout",
          "text": [
            "Epoch 27/30 Train loss: 0.0082 Acc: 1.0000\n",
            "Epoch 27/30 Test loss: 1.7419 Acc: 0.6821 F1: 0.5107 Subgroup: Light tones\n",
            "Counter({np.int64(0): 274, np.int64(1): 60, np.int64(2): 56}) Counter({np.int64(0): 278, np.int64(1): 75, np.int64(2): 37})\n",
            "              precision    recall  f1-score   support\n",
            "\n",
            "           0       0.79      0.80      0.80       274\n",
            "           1       0.51      0.63      0.56        60\n",
            "           2       0.22      0.14      0.17        56\n",
            "\n",
            "    accuracy                           0.68       390\n",
            "   macro avg       0.50      0.53      0.51       390\n",
            "weighted avg       0.66      0.68      0.67       390\n",
            "\n",
            "Epoch 27/30 Test loss: 1.2330 Acc: 0.8091 F1: 0.5785 Subgroup: Dark tones\n",
            "Counter({np.int64(0): 89, np.int64(1): 11, np.int64(2): 10}) Counter({np.int64(0): 89, np.int64(1): 15, np.int64(2): 6})\n",
            "              precision    recall  f1-score   support\n",
            "\n",
            "           0       0.90      0.90      0.90        89\n",
            "           1       0.40      0.55      0.46        11\n",
            "           2       0.50      0.30      0.38        10\n",
            "\n",
            "    accuracy                           0.81       110\n",
            "   macro avg       0.60      0.58      0.58       110\n",
            "weighted avg       0.81      0.81      0.81       110\n",
            "\n"
          ]
        },
        {
          "output_type": "stream",
          "name": "stderr",
          "text": [
            "Epoch 28/30: 100%|██████████| 7/7 [00:15<00:00,  2.23s/it, acc=1.0000, loss=0.0085]\n"
          ]
        },
        {
          "output_type": "stream",
          "name": "stdout",
          "text": [
            "Epoch 28/30 Train loss: 0.0085 Acc: 1.0000\n",
            "Epoch 28/30 Test loss: 1.7415 Acc: 0.6744 F1: 0.5043 Subgroup: Light tones\n",
            "Counter({np.int64(0): 274, np.int64(1): 60, np.int64(2): 56}) Counter({np.int64(0): 274, np.int64(1): 78, np.int64(2): 38})\n",
            "              precision    recall  f1-score   support\n",
            "\n",
            "           0       0.79      0.79      0.79       274\n",
            "           1       0.49      0.63      0.55        60\n",
            "           2       0.21      0.14      0.17        56\n",
            "\n",
            "    accuracy                           0.67       390\n",
            "   macro avg       0.50      0.52      0.50       390\n",
            "weighted avg       0.66      0.67      0.67       390\n",
            "\n",
            "Epoch 28/30 Test loss: 1.2106 Acc: 0.8091 F1: 0.5785 Subgroup: Dark tones\n",
            "Counter({np.int64(0): 89, np.int64(1): 11, np.int64(2): 10}) Counter({np.int64(0): 89, np.int64(1): 15, np.int64(2): 6})\n",
            "              precision    recall  f1-score   support\n",
            "\n",
            "           0       0.90      0.90      0.90        89\n",
            "           1       0.40      0.55      0.46        11\n",
            "           2       0.50      0.30      0.38        10\n",
            "\n",
            "    accuracy                           0.81       110\n",
            "   macro avg       0.60      0.58      0.58       110\n",
            "weighted avg       0.81      0.81      0.81       110\n",
            "\n"
          ]
        },
        {
          "output_type": "stream",
          "name": "stderr",
          "text": [
            "Epoch 29/30: 100%|██████████| 7/7 [00:14<00:00,  2.08s/it, acc=1.0000, loss=0.0081]\n"
          ]
        },
        {
          "output_type": "stream",
          "name": "stdout",
          "text": [
            "Epoch 29/30 Train loss: 0.0081 Acc: 1.0000\n",
            "Epoch 29/30 Test loss: 1.7674 Acc: 0.6795 F1: 0.5077 Subgroup: Light tones\n",
            "Counter({np.int64(0): 274, np.int64(1): 60, np.int64(2): 56}) Counter({np.int64(0): 276, np.int64(1): 77, np.int64(2): 37})\n",
            "              precision    recall  f1-score   support\n",
            "\n",
            "           0       0.79      0.80      0.80       274\n",
            "           1       0.49      0.63      0.55        60\n",
            "           2       0.22      0.14      0.17        56\n",
            "\n",
            "    accuracy                           0.68       390\n",
            "   macro avg       0.50      0.53      0.51       390\n",
            "weighted avg       0.66      0.68      0.67       390\n",
            "\n",
            "Epoch 29/30 Test loss: 1.2256 Acc: 0.8000 F1: 0.5690 Subgroup: Dark tones\n",
            "Counter({np.int64(0): 89, np.int64(1): 11, np.int64(2): 10}) Counter({np.int64(0): 88, np.int64(1): 15, np.int64(2): 7})\n",
            "              precision    recall  f1-score   support\n",
            "\n",
            "           0       0.90      0.89      0.89        89\n",
            "           1       0.40      0.55      0.46        11\n",
            "           2       0.43      0.30      0.35        10\n",
            "\n",
            "    accuracy                           0.80       110\n",
            "   macro avg       0.58      0.58      0.57       110\n",
            "weighted avg       0.81      0.80      0.80       110\n",
            "\n"
          ]
        },
        {
          "output_type": "stream",
          "name": "stderr",
          "text": [
            "Epoch 30/30: 100%|██████████| 7/7 [00:14<00:00,  2.02s/it, acc=1.0000, loss=0.0064]\n"
          ]
        },
        {
          "output_type": "stream",
          "name": "stdout",
          "text": [
            "Epoch 30/30 Train loss: 0.0064 Acc: 1.0000\n",
            "Epoch 30/30 Test loss: 1.7934 Acc: 0.6821 F1: 0.5091 Subgroup: Light tones\n",
            "Counter({np.int64(0): 274, np.int64(1): 60, np.int64(2): 56}) Counter({np.int64(0): 277, np.int64(1): 77, np.int64(2): 36})\n",
            "              precision    recall  f1-score   support\n",
            "\n",
            "           0       0.79      0.80      0.80       274\n",
            "           1       0.49      0.63      0.55        60\n",
            "           2       0.22      0.14      0.17        56\n",
            "\n",
            "    accuracy                           0.68       390\n",
            "   macro avg       0.50      0.53      0.51       390\n",
            "weighted avg       0.67      0.68      0.67       390\n",
            "\n",
            "Epoch 30/30 Test loss: 1.2539 Acc: 0.8091 F1: 0.5785 Subgroup: Dark tones\n",
            "Counter({np.int64(0): 89, np.int64(1): 11, np.int64(2): 10}) Counter({np.int64(0): 89, np.int64(1): 15, np.int64(2): 6})\n",
            "              precision    recall  f1-score   support\n",
            "\n",
            "           0       0.90      0.90      0.90        89\n",
            "           1       0.40      0.55      0.46        11\n",
            "           2       0.50      0.30      0.38        10\n",
            "\n",
            "    accuracy                           0.81       110\n",
            "   macro avg       0.60      0.58      0.58       110\n",
            "weighted avg       0.81      0.81      0.81       110\n",
            "\n"
          ]
        }
      ],
      "source": [
        "# Dictionary to store everything\n",
        "perc_black_values = [0.0, 0.5, 1.0]\n",
        "results = {}\n",
        "\n",
        "for subset in perc_black_values:\n",
        "\n",
        "    perc_black = int(subset) if subset == 0.0 or subset == 1.0 else subset\n",
        "    # Get datasets\n",
        "    train_dataset, test_dataset_white, test_dataset_black, class_weights = train_test_fitz(\n",
        "        dataset_root, perc_black, run, test_size\n",
        "    )\n",
        "\n",
        "    # Create DataLoaders\n",
        "    train_loader = DataLoader(train_dataset, batch_size=batch_size, shuffle=True, drop_last=True)\n",
        "    test_loader_white = DataLoader(test_dataset_white, batch_size=batch_size, shuffle=False)\n",
        "    test_loader_black = DataLoader(test_dataset_black, batch_size=batch_size, shuffle=False)\n",
        "\n",
        "    # Call training/evaluation function\n",
        "    result = train_evaluate_model(\n",
        "        train_loader=train_loader,\n",
        "        test_loader=test_loader_white,  # General test loader (can be avg or main test)\n",
        "        test_loader_w=test_loader_white,\n",
        "        test_loader_b=test_loader_black,\n",
        "        class_weights=class_weights,\n",
        "        num_epochs=30\n",
        "    )\n",
        "\n",
        "    # Save everything in the dictionary\n",
        "    results[perc_black] = {\n",
        "        'datasets': {\n",
        "            'train': train_dataset,\n",
        "            'test_white': test_dataset_white,\n",
        "            'test_black': test_dataset_black\n",
        "        },\n",
        "        'loaders': {\n",
        "            'train': train_loader,\n",
        "            'test_white': test_loader_white,\n",
        "            'test_black': test_loader_black\n",
        "        },\n",
        "        'class_weights': class_weights,\n",
        "        'training_result': result\n",
        "    }"
      ]
    },
    {
      "cell_type": "markdown",
      "source": [
        "## Visualization of the results"
      ],
      "metadata": {
        "id": "32kO9Xop6JXk"
      },
      "id": "32kO9Xop6JXk"
    },
    {
      "cell_type": "markdown",
      "source": [
        "\n",
        "\n",
        "In this section, we visualize the results from our experiments using the **F1 score** as the evaluation metric.\n",
        "\n",
        "The F1 score is particularly useful in this context because it balances **precision** and **recall**, making it more informative than accuracy in the presence of **class imbalance**.\n",
        "\n",
        "We compare the F1 scores of models trained on the three different configurations (light-only, balanced, dark-only) across both **light-skinned** and **dark-skinned** test sets. This allows us to observe how training data composition impacts model\n"
      ],
      "metadata": {
        "id": "MHIR6rZk7lTq"
      },
      "id": "MHIR6rZk7lTq"
    },
    {
      "cell_type": "code",
      "source": [
        "# Prepare data for plotting\n",
        "perc_black_labels = []\n",
        "white_f1_scores = []\n",
        "black_f1_scores = []\n",
        "\n",
        "for perc_black, data in results.items():\n",
        "    print(f\"Results for perc_black = {perc_black}:\")\n",
        "    print(results[perc_black]['training_result'])\n",
        "\n",
        "    perc_black_labels.append(perc_black)\n",
        "    white_f1_scores.append(results[perc_black]['training_result'][0])\n",
        "    black_f1_scores.append(results[perc_black]['training_result'][1])\n",
        "\n",
        "tick_labels = ['FST 1-2', 'FST 1-2 & FST 5-6', 'FST 5-6']\n",
        "# Define colors for racial groups\n",
        "fst_white_skin_color = '#f1c27d'  # (FST 1-2)\n",
        "fst_black_skin_color = '#8d5524'  #  (FST 5-6)\n",
        "\n",
        "# Bar plot settings\n",
        "bar_width = 0.35\n",
        "x = range(len(perc_black_labels))\n",
        "\n",
        "# Make the plots (they will be bars)\n",
        "plt.figure(figsize=(10, 6))\n",
        "white_bars = plt.bar(x, white_f1_scores, width=bar_width, label='FST 1-2 (White Test)', color=fst_white_skin_color)\n",
        "black_bars = plt.bar([i + bar_width for i in x], black_f1_scores, width=bar_width, label='FST 5-6 (Black Test)', color=fst_black_skin_color)\n",
        "\n",
        "# Add FST labels above each bar\n",
        "for w_bar, b_bar in zip(white_bars, black_bars):\n",
        "    plt.text(w_bar.get_x() + w_bar.get_width() / 2, w_bar.get_height() + 0.01, 'FST 1-2',\n",
        "             ha='center', va='bottom', fontsize=9, color='black', fontweight='bold')\n",
        "    plt.text(b_bar.get_x() + b_bar.get_width() / 2, b_bar.get_height() + 0.01, 'FST 5-6',\n",
        "             ha='center', va='bottom', fontsize=9, color='black', fontweight='bold')\n",
        "\n",
        "# Labels and title\n",
        "plt.xlabel('Training Set Composition')\n",
        "plt.ylabel('F1 Score')\n",
        "plt.title('White (FST 1-2) vs Black (FST 5-6) Test F1 Score by Training Set Composition')\n",
        "plt.xticks([i + bar_width / 2 for i in x], tick_labels)\n",
        "plt.ylim(0.3, 0.7)\n",
        "plt.legend()\n",
        "\n",
        "plt.tight_layout()\n",
        "plt.show()\n"
      ],
      "metadata": {
        "id": "8c562YkjYCeH",
        "colab": {
          "base_uri": "https://localhost:8080/",
          "height": 714
        },
        "outputId": "de561fb9-e212-42ca-debe-56739b095cdb"
      },
      "id": "8c562YkjYCeH",
      "execution_count": null,
      "outputs": [
        {
          "output_type": "stream",
          "name": "stdout",
          "text": [
            "Results for perc_black = 0:\n",
            "(0.5402496180864834, 0.46338947643295475)\n",
            "Results for perc_black = 0.5:\n",
            "(0.5320207829553624, 0.5249249249249249)\n",
            "Results for perc_black = 1:\n",
            "(0.5090685544665239, 0.5784716220109479)\n"
          ]
        },
        {
          "output_type": "display_data",
          "data": {
            "text/plain": [
              "<Figure size 1000x600 with 1 Axes>"
            ],
            "image/png": "[encoded data removed]"
          },
          "metadata": {}
        }
      ]
    },
    {
      "cell_type": "markdown",
      "source": [
        "## <font color='red'>Third Round of Discussion</font>\n",
        "\n",
        "In this round, we focus on raising questions based on the results to better understand the model's behavior, potential pitfalls, and opportunities for improvement.\n",
        "\n",
        "### Key Questions about the performance\n",
        "\n",
        "- How does the **model's performance differ** across the various training configurations?\n",
        "- Does the distribution of **skin tones in the training data affect performance** on specific subgroups?\n",
        "- Is the **balanced dataset truly the most effective** in promoting fairness and generalization?\n",
        "\n",
        "### Points to Reflect On\n",
        "\n",
        "- **What might have caused** any observed performance gaps? Are there other factors beyond the racial group?\n",
        "- Could the model be **overfitting** to certain features or groups?\n",
        "- Are there visual or **diagnostic challenges** unique to specific skin tones?\n",
        "- Was the **data augmentation strategy sufficient** to promote generalization?\n",
        "\n",
        "### And now, what? Next Steps to Consider\n",
        "\n",
        "- What steps can we take **to make the model more robust and fair**?\n",
        "- Could **advanced augmentation or synthetic data** generation help address underrepresentation?\n",
        "\n",
        "This use case, notebook, and discussions aim to awake interest and awareness about classification in medical imaging with sensitive groups. Sometimes naive or not that careful approaches may lead to gaps in performance and worsen the diagnostic power on specific subgroups. We hope the\n",
        "\n",
        "\n"
      ],
      "metadata": {
        "id": "U91at4ci79pr"
      },
      "id": "U91at4ci79pr"
    }
  ],
  "metadata": {
    "kernelspec": {
      "display_name": "Python 3",
      "name": "python3"
    },
    "language_info": {
      "codemirror_mode": {
        "name": "ipython",
        "version": 3
      },
      "file_extension": ".py",
      "mimetype": "text/x-python",
      "name": "python",
      "nbconvert_exporter": "python",
      "pygments_lexer": "ipython3",
      "version": "3.9.7"
    },
    "colab": {
      "provenance": [],
      "gpuType": "T4"
    },
    "widgets": {
      "application/vnd.jupyter.widget-state+json": {
        "ff11d8d262e04ae0856a2242c8b41e82": {
          "model_module": "@jupyter-widgets/controls",
          "model_name": "HBoxModel",
          "model_module_version": "1.5.0",
          "state": {
            "_dom_classes": [],
            "_model_module": "@jupyter-widgets/controls",
            "_model_module_version": "1.5.0",
            "_model_name": "HBoxModel",
            "_view_count": null,
            "_view_module": "@jupyter-widgets/controls",
            "_view_module_version": "1.5.0",
            "_view_name": "HBoxView",
            "box_style": "",
            "children": [
              "IPY_MODEL_d3f3dae22d8f457ea5de2c7ed974cc7a",
              "IPY_MODEL_221bf09ee63a43e995d53f023be20e2e",
              "IPY_MODEL_c95006b20b474807bfd7a71941fe6f90"
            ],
            "layout": "IPY_MODEL_595b53f0ea274ff3b33f1f1d33c89b22"
          }
        },
        "d3f3dae22d8f457ea5de2c7ed974cc7a": {
          "model_module": "@jupyter-widgets/controls",
          "model_name": "HTMLModel",
          "model_module_version": "1.5.0",
          "state": {
            "_dom_classes": [],
            "_model_module": "@jupyter-widgets/controls",
            "_model_module_version": "1.5.0",
            "_model_name": "HTMLModel",
            "_view_count": null,
            "_view_module": "@jupyter-widgets/controls",
            "_view_module_version": "1.5.0",
            "_view_name": "HTMLView",
            "description": "",
            "description_tooltip": null,
            "layout": "IPY_MODEL_6aa4159395f84541b8d82bc78dc39f10",
            "placeholder": "​",
            "style": "IPY_MODEL_17f224228c3a40cda1894e32adae72a2",
            "value": "model.safetensors: 100%"
          }
        },
        "221bf09ee63a43e995d53f023be20e2e": {
          "model_module": "@jupyter-widgets/controls",
          "model_name": "FloatProgressModel",
          "model_module_version": "1.5.0",
          "state": {
            "_dom_classes": [],
            "_model_module": "@jupyter-widgets/controls",
            "_model_module_version": "1.5.0",
            "_model_name": "FloatProgressModel",
            "_view_count": null,
            "_view_module": "@jupyter-widgets/controls",
            "_view_module_version": "1.5.0",
            "_view_name": "ProgressView",
            "bar_style": "success",
            "description": "",
            "description_tooltip": null,
            "layout": "IPY_MODEL_a3bf5985f53c4c2e879d2f519fe976c2",
            "max": 21355344,
            "min": 0,
            "orientation": "horizontal",
            "style": "IPY_MODEL_75428b1bfec14a058c641f4b8c09bb42",
            "value": 21355344
          }
        },
        "c95006b20b474807bfd7a71941fe6f90": {
          "model_module": "@jupyter-widgets/controls",
          "model_name": "HTMLModel",
          "model_module_version": "1.5.0",
          "state": {
            "_dom_classes": [],
            "_model_module": "@jupyter-widgets/controls",
            "_model_module_version": "1.5.0",
            "_model_name": "HTMLModel",
            "_view_count": null,
            "_view_module": "@jupyter-widgets/controls",
            "_view_module_version": "1.5.0",
            "_view_name": "HTMLView",
            "description": "",
            "description_tooltip": null,
            "layout": "IPY_MODEL_07df1c45024a4a8a998d1f8f5fd7e25e",
            "placeholder": "​",
            "style": "IPY_MODEL_82ab6fe4b638438c88066fce4a23c272",
            "value": " 21.4M/21.4M [00:00&lt;00:00, 51.8MB/s]"
          }
        },
        "595b53f0ea274ff3b33f1f1d33c89b22": {
          "model_module": "@jupyter-widgets/base",
          "model_name": "LayoutModel",
          "model_module_version": "1.2.0",
          "state": {
            "_model_module": "@jupyter-widgets/base",
            "_model_module_version": "1.2.0",
            "_model_name": "LayoutModel",
            "_view_count": null,
            "_view_module": "@jupyter-widgets/base",
            "_view_module_version": "1.2.0",
            "_view_name": "LayoutView",
            "align_content": null,
            "align_items": null,
            "align_self": null,
            "border": null,
            "bottom": null,
            "display": null,
            "flex": null,
            "flex_flow": null,
            "grid_area": null,
            "grid_auto_columns": null,
            "grid_auto_flow": null,
            "grid_auto_rows": null,
            "grid_column": null,
            "grid_gap": null,
            "grid_row": null,
            "grid_template_areas": null,
            "grid_template_columns": null,
            "grid_template_rows": null,
            "height": null,
            "justify_content": null,
            "justify_items": null,
            "left": null,
            "margin": null,
            "max_height": null,
            "max_width": null,
            "min_height": null,
            "min_width": null,
            "object_fit": null,
            "object_position": null,
            "order": null,
            "overflow": null,
            "overflow_x": null,
            "overflow_y": null,
            "padding": null,
            "right": null,
            "top": null,
            "visibility": null,
            "width": null
          }
        },
        "6aa4159395f84541b8d82bc78dc39f10": {
          "model_module": "@jupyter-widgets/base",
          "model_name": "LayoutModel",
          "model_module_version": "1.2.0",
          "state": {
            "_model_module": "@jupyter-widgets/base",
            "_model_module_version": "1.2.0",
            "_model_name": "LayoutModel",
            "_view_count": null,
            "_view_module": "@jupyter-widgets/base",
            "_view_module_version": "1.2.0",
            "_view_name": "LayoutView",
            "align_content": null,
            "align_items": null,
            "align_self": null,
            "border": null,
            "bottom": null,
            "display": null,
            "flex": null,
            "flex_flow": null,
            "grid_area": null,
            "grid_auto_columns": null,
            "grid_auto_flow": null,
            "grid_auto_rows": null,
            "grid_column": null,
            "grid_gap": null,
            "grid_row": null,
            "grid_template_areas": null,
            "grid_template_columns": null,
            "grid_template_rows": null,
            "height": null,
            "justify_content": null,
            "justify_items": null,
            "left": null,
            "margin": null,
            "max_height": null,
            "max_width": null,
            "min_height": null,
            "min_width": null,
            "object_fit": null,
            "object_position": null,
            "order": null,
            "overflow": null,
            "overflow_x": null,
            "overflow_y": null,
            "padding": null,
            "right": null,
            "top": null,
            "visibility": null,
            "width": null
          }
        },
        "17f224228c3a40cda1894e32adae72a2": {
          "model_module": "@jupyter-widgets/controls",
          "model_name": "DescriptionStyleModel",
          "model_module_version": "1.5.0",
          "state": {
            "_model_module": "@jupyter-widgets/controls",
            "_model_module_version": "1.5.0",
            "_model_name": "DescriptionStyleModel",
            "_view_count": null,
            "_view_module": "@jupyter-widgets/base",
            "_view_module_version": "1.2.0",
            "_view_name": "StyleView",
            "description_width": ""
          }
        },
        "a3bf5985f53c4c2e879d2f519fe976c2": {
          "model_module": "@jupyter-widgets/base",
          "model_name": "LayoutModel",
          "model_module_version": "1.2.0",
          "state": {
            "_model_module": "@jupyter-widgets/base",
            "_model_module_version": "1.2.0",
            "_model_name": "LayoutModel",
            "_view_count": null,
            "_view_module": "@jupyter-widgets/base",
            "_view_module_version": "1.2.0",
            "_view_name": "LayoutView",
            "align_content": null,
            "align_items": null,
            "align_self": null,
            "border": null,
            "bottom": null,
            "display": null,
            "flex": null,
            "flex_flow": null,
            "grid_area": null,
            "grid_auto_columns": null,
            "grid_auto_flow": null,
            "grid_auto_rows": null,
            "grid_column": null,
            "grid_gap": null,
            "grid_row": null,
            "grid_template_areas": null,
            "grid_template_columns": null,
            "grid_template_rows": null,
            "height": null,
            "justify_content": null,
            "justify_items": null,
            "left": null,
            "margin": null,
            "max_height": null,
            "max_width": null,
            "min_height": null,
            "min_width": null,
            "object_fit": null,
            "object_position": null,
            "order": null,
            "overflow": null,
            "overflow_x": null,
            "overflow_y": null,
            "padding": null,
            "right": null,
            "top": null,
            "visibility": null,
            "width": null
          }
        },
        "75428b1bfec14a058c641f4b8c09bb42": {
          "model_module": "@jupyter-widgets/controls",
          "model_name": "ProgressStyleModel",
          "model_module_version": "1.5.0",
          "state": {
            "_model_module": "@jupyter-widgets/controls",
            "_model_module_version": "1.5.0",
            "_model_name": "ProgressStyleModel",
            "_view_count": null,
            "_view_module": "@jupyter-widgets/base",
            "_view_module_version": "1.2.0",
            "_view_name": "StyleView",
            "bar_color": null,
            "description_width": ""
          }
        },
        "07df1c45024a4a8a998d1f8f5fd7e25e": {
          "model_module": "@jupyter-widgets/base",
          "model_name": "LayoutModel",
          "model_module_version": "1.2.0",
          "state": {
            "_model_module": "@jupyter-widgets/base",
            "_model_module_version": "1.2.0",
            "_model_name": "LayoutModel",
            "_view_count": null,
            "_view_module": "@jupyter-widgets/base",
            "_view_module_version": "1.2.0",
            "_view_name": "LayoutView",
            "align_content": null,
            "align_items": null,
            "align_self": null,
            "border": null,
            "bottom": null,
            "display": null,
            "flex": null,
            "flex_flow": null,
            "grid_area": null,
            "grid_auto_columns": null,
            "grid_auto_flow": null,
            "grid_auto_rows": null,
            "grid_column": null,
            "grid_gap": null,
            "grid_row": null,
            "grid_template_areas": null,
            "grid_template_columns": null,
            "grid_template_rows": null,
            "height": null,
            "justify_content": null,
            "justify_items": null,
            "left": null,
            "margin": null,
            "max_height": null,
            "max_width": null,
            "min_height": null,
            "min_width": null,
            "object_fit": null,
            "object_position": null,
            "order": null,
            "overflow": null,
            "overflow_x": null,
            "overflow_y": null,
            "padding": null,
            "right": null,
            "top": null,
            "visibility": null,
            "width": null
          }
        },
        "82ab6fe4b638438c88066fce4a23c272": {
          "model_module": "@jupyter-widgets/controls",
          "model_name": "DescriptionStyleModel",
          "model_module_version": "1.5.0",
          "state": {
            "_model_module": "@jupyter-widgets/controls",
            "_model_module_version": "1.5.0",
            "_model_name": "DescriptionStyleModel",
            "_view_count": null,
            "_view_module": "@jupyter-widgets/base",
            "_view_module_version": "1.2.0",
            "_view_name": "StyleView",
            "description_width": ""
          }
        }
      }
    },
    "accelerator": "GPU"
  },
  "nbformat": 4,
  "nbformat_minor": 5
}